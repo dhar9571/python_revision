{
  "nbformat": 4,
  "nbformat_minor": 0,
  "metadata": {
    "colab": {
      "provenance": [],
      "authorship_tag": "ABX9TyPibIXR7b1Sa34DjIKz8PV4",
      "include_colab_link": true
    },
    "kernelspec": {
      "name": "python3",
      "display_name": "Python 3"
    },
    "language_info": {
      "name": "python"
    }
  },
  "cells": [
    {
      "cell_type": "markdown",
      "metadata": {
        "id": "view-in-github",
        "colab_type": "text"
      },
      "source": [
        "<a href=\"https://colab.research.google.com/github/dhar9571/python_revision/blob/main/python_revision.ipynb\" target=\"_parent\"><img src=\"https://colab.research.google.com/assets/colab-badge.svg\" alt=\"Open In Colab\"/></a>"
      ]
    },
    {
      "cell_type": "markdown",
      "source": [
        "## Strings"
      ],
      "metadata": {
        "id": "Nlo80uD9-7Cy"
      }
    },
    {
      "cell_type": "markdown",
      "source": [
        "Strings are used in Python to record text information, such as names. It could either be a word, a phrase, a sentence, a paragraph or an entire encyclopedia.\n",
        "\n",
        "Strings are immutable which means once assigned, the elements of a strings cannot be changed"
      ],
      "metadata": {
        "id": "1YK_INzb-9q6"
      }
    },
    {
      "cell_type": "code",
      "metadata": {
        "id": "XMd1nYlKmr0p",
        "colab": {
          "base_uri": "https://localhost:8080/",
          "height": 35
        },
        "outputId": "bc9c342e-578d-442c-fb90-2b10fed611f7"
      },
      "source": [
        "# Single word\n",
        "my_first_string= 'algebra'\n",
        "my_first_string"
      ],
      "execution_count": 1,
      "outputs": [
        {
          "output_type": "execute_result",
          "data": {
            "text/plain": [
              "'algebra'"
            ],
            "application/vnd.google.colaboratory.intrinsic+json": {
              "type": "string"
            }
          },
          "metadata": {},
          "execution_count": 1
        }
      ]
    },
    {
      "cell_type": "code",
      "metadata": {
        "id": "iaz2basTmr0t",
        "colab": {
          "base_uri": "https://localhost:8080/"
        },
        "outputId": "185e6d90-f8a1-4271-c8e3-c2b0d42c3b15"
      },
      "source": [
        "# Entire phrase\n",
        "phrase = 'Statistics sits at the heart of machine learning'\n",
        "print(phrase)"
      ],
      "execution_count": 7,
      "outputs": [
        {
          "output_type": "stream",
          "name": "stdout",
          "text": [
            "Statistics sits at the heart of machine learning\n"
          ]
        }
      ]
    },
    {
      "cell_type": "code",
      "source": [
        "my_first_string[1]"
      ],
      "metadata": {
        "colab": {
          "base_uri": "https://localhost:8080/",
          "height": 35
        },
        "id": "UbzCuxEo_t35",
        "outputId": "126c7691-313c-4181-e763-3ba447a0e51e"
      },
      "execution_count": 4,
      "outputs": [
        {
          "output_type": "execute_result",
          "data": {
            "text/plain": [
              "'l'"
            ],
            "application/vnd.google.colaboratory.intrinsic+json": {
              "type": "string"
            }
          },
          "metadata": {},
          "execution_count": 4
        }
      ]
    },
    {
      "cell_type": "markdown",
      "source": [
        "Strings do not support item assignments"
      ],
      "metadata": {
        "id": "vhU0Djti_7QZ"
      }
    },
    {
      "cell_type": "code",
      "source": [
        "my_first_string[:3]"
      ],
      "metadata": {
        "colab": {
          "base_uri": "https://localhost:8080/",
          "height": 35
        },
        "id": "dzQdtr1IAI4B",
        "outputId": "ad52848a-e9eb-4e4f-e5d4-d582ea763347"
      },
      "execution_count": 5,
      "outputs": [
        {
          "output_type": "execute_result",
          "data": {
            "text/plain": [
              "'alg'"
            ],
            "application/vnd.google.colaboratory.intrinsic+json": {
              "type": "string"
            }
          },
          "metadata": {},
          "execution_count": 5
        }
      ]
    },
    {
      "cell_type": "markdown",
      "source": [
        "#### Functions and Methods:"
      ],
      "metadata": {
        "id": "sNwJk5Kz_rm5"
      }
    },
    {
      "cell_type": "markdown",
      "source": [
        "lower() method converts the string to uppercase"
      ],
      "metadata": {
        "id": "BTWNjLsIBWEh"
      }
    },
    {
      "cell_type": "code",
      "source": [
        "phrase.lower()"
      ],
      "metadata": {
        "colab": {
          "base_uri": "https://localhost:8080/",
          "height": 35
        },
        "id": "CqO5ddsEBA8h",
        "outputId": "1103df7b-073c-4618-b05b-3b01b9703cda"
      },
      "execution_count": 8,
      "outputs": [
        {
          "output_type": "execute_result",
          "data": {
            "text/plain": [
              "'statistics sits at the heart of machine learning'"
            ],
            "application/vnd.google.colaboratory.intrinsic+json": {
              "type": "string"
            }
          },
          "metadata": {},
          "execution_count": 8
        }
      ]
    },
    {
      "cell_type": "markdown",
      "source": [
        "upper() method converts the string to uppercase"
      ],
      "metadata": {
        "id": "WnMeqWYDBUPS"
      }
    },
    {
      "cell_type": "code",
      "source": [
        "phrase.upper()"
      ],
      "metadata": {
        "colab": {
          "base_uri": "https://localhost:8080/",
          "height": 35
        },
        "id": "v6hVhdAKBA6R",
        "outputId": "749dffa4-14d5-443e-bfbe-49badb00cbcb"
      },
      "execution_count": 9,
      "outputs": [
        {
          "output_type": "execute_result",
          "data": {
            "text/plain": [
              "'STATISTICS SITS AT THE HEART OF MACHINE LEARNING'"
            ],
            "application/vnd.google.colaboratory.intrinsic+json": {
              "type": "string"
            }
          },
          "metadata": {},
          "execution_count": 9
        }
      ]
    },
    {
      "cell_type": "markdown",
      "source": [
        "len returns length of the string"
      ],
      "metadata": {
        "id": "F59i7D03Boks"
      }
    },
    {
      "cell_type": "code",
      "source": [
        "len(phrase)"
      ],
      "metadata": {
        "colab": {
          "base_uri": "https://localhost:8080/"
        },
        "id": "3DBlgMK2BA4T",
        "outputId": "75ded552-b5e7-49cc-ed4d-9766627d79e2"
      },
      "execution_count": 12,
      "outputs": [
        {
          "output_type": "execute_result",
          "data": {
            "text/plain": [
              "48"
            ]
          },
          "metadata": {},
          "execution_count": 12
        }
      ]
    },
    {
      "cell_type": "markdown",
      "source": [
        "count counts the total number of given in a string"
      ],
      "metadata": {
        "id": "UADOzFHLBaib"
      }
    },
    {
      "cell_type": "code",
      "source": [
        "phrase.count('si')"
      ],
      "metadata": {
        "colab": {
          "base_uri": "https://localhost:8080/"
        },
        "id": "HyeHA8cSBICZ",
        "outputId": "e4b845f0-9e19-4d42-8bc1-2c72118e53bd"
      },
      "execution_count": 11,
      "outputs": [
        {
          "output_type": "execute_result",
          "data": {
            "text/plain": [
              "1"
            ]
          },
          "metadata": {},
          "execution_count": 11
        }
      ]
    },
    {
      "cell_type": "markdown",
      "source": [
        "find() method returns the index of the first occurrence of a string present in a given string"
      ],
      "metadata": {
        "id": "8QKXeQkvCUzZ"
      }
    },
    {
      "cell_type": "code",
      "source": [
        "phrase.find('si')"
      ],
      "metadata": {
        "colab": {
          "base_uri": "https://localhost:8080/"
        },
        "id": "EGc0SZFZBIAR",
        "outputId": "70d611e0-29f0-4a96-99e9-f7dcd8e60e36"
      },
      "execution_count": 13,
      "outputs": [
        {
          "output_type": "execute_result",
          "data": {
            "text/plain": [
              "11"
            ]
          },
          "metadata": {},
          "execution_count": 13
        }
      ]
    },
    {
      "cell_type": "markdown",
      "source": [
        "replace() method takes two arguments - (i) the string to replace and (ii) the string to replace with, and returns a modified string after the operation"
      ],
      "metadata": {
        "id": "y1RhGv4MCg1p"
      }
    },
    {
      "cell_type": "code",
      "source": [
        "print(phrase)"
      ],
      "metadata": {
        "colab": {
          "base_uri": "https://localhost:8080/"
        },
        "id": "LtTlhumNBH7R",
        "outputId": "0176c924-6679-488d-9ebf-9acd1f866ba6"
      },
      "execution_count": 17,
      "outputs": [
        {
          "output_type": "stream",
          "name": "stdout",
          "text": [
            "Statistics sits at the heart of machine learning\n"
          ]
        }
      ]
    },
    {
      "cell_type": "code",
      "source": [
        "phrase.replace('Statistics', 'maths')"
      ],
      "metadata": {
        "colab": {
          "base_uri": "https://localhost:8080/",
          "height": 35
        },
        "id": "Kv4SX7EjClah",
        "outputId": "cc4a7b1d-7fea-44d7-9f9e-14689b35c7a1"
      },
      "execution_count": 16,
      "outputs": [
        {
          "output_type": "execute_result",
          "data": {
            "text/plain": [
              "'maths sits at the heart of machine learning'"
            ],
            "application/vnd.google.colaboratory.intrinsic+json": {
              "type": "string"
            }
          },
          "metadata": {},
          "execution_count": 16
        }
      ]
    },
    {
      "cell_type": "markdown",
      "source": [
        "Check if a string contains a particular word or character"
      ],
      "metadata": {
        "id": "J7IPif3kC9ii"
      }
    },
    {
      "cell_type": "code",
      "source": [
        "'maths' in phrase"
      ],
      "metadata": {
        "colab": {
          "base_uri": "https://localhost:8080/"
        },
        "id": "43wIpy9EClYA",
        "outputId": "1132b1f6-0ab8-4636-f858-843a6d827866"
      },
      "execution_count": 18,
      "outputs": [
        {
          "output_type": "execute_result",
          "data": {
            "text/plain": [
              "False"
            ]
          },
          "metadata": {},
          "execution_count": 18
        }
      ]
    },
    {
      "cell_type": "code",
      "source": [],
      "metadata": {
        "id": "MRBC5OIyClVg"
      },
      "execution_count": null,
      "outputs": []
    },
    {
      "cell_type": "markdown",
      "source": [],
      "metadata": {
        "id": "6aKVZQZ5A-PC"
      }
    },
    {
      "cell_type": "markdown",
      "source": [
        "##Lists"
      ],
      "metadata": {
        "id": "8EGZ3S6796YS"
      }
    },
    {
      "cell_type": "markdown",
      "source": [
        "Lists can be thought of the most general version of a sequence in Python.\n",
        "\n",
        "Unlike strings, they are mutable, meaning the elements inside a list can be changed!\n",
        "\n",
        "Lists are constructed with brackets [] and commas separating every element in the list."
      ],
      "metadata": {
        "id": "5gZ1gEVm-iRq"
      }
    },
    {
      "cell_type": "code",
      "source": [],
      "metadata": {
        "id": "RVDpKodt977D"
      },
      "execution_count": null,
      "outputs": []
    }
  ]
}