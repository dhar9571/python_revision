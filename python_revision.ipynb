{
  "nbformat": 4,
  "nbformat_minor": 0,
  "metadata": {
    "colab": {
      "provenance": [],
      "collapsed_sections": [
        "Nlo80uD9-7Cy"
      ],
      "authorship_tag": "ABX9TyMzWB1lwgeerkaf0x8I/WkF",
      "include_colab_link": true
    },
    "kernelspec": {
      "name": "python3",
      "display_name": "Python 3"
    },
    "language_info": {
      "name": "python"
    }
  },
  "cells": [
    {
      "cell_type": "markdown",
      "metadata": {
        "id": "view-in-github",
        "colab_type": "text"
      },
      "source": [
        "<a href=\"https://colab.research.google.com/github/dhar9571/python_revision/blob/main/python_revision.ipynb\" target=\"_parent\"><img src=\"https://colab.research.google.com/assets/colab-badge.svg\" alt=\"Open In Colab\"/></a>"
      ]
    },
    {
      "cell_type": "markdown",
      "source": [
        "## Strings - 5"
      ],
      "metadata": {
        "id": "Nlo80uD9-7Cy"
      }
    },
    {
      "cell_type": "markdown",
      "source": [
        "Strings are used in Python to record text information, such as names. It could either be a word, a phrase, a sentence, a paragraph or an entire encyclopedia.\n",
        "\n",
        "Strings are immutable which means once assigned, the elements of a strings cannot be changed"
      ],
      "metadata": {
        "id": "1YK_INzb-9q6"
      }
    },
    {
      "cell_type": "code",
      "metadata": {
        "id": "XMd1nYlKmr0p",
        "colab": {
          "base_uri": "https://localhost:8080/",
          "height": 35
        },
        "outputId": "bc9c342e-578d-442c-fb90-2b10fed611f7"
      },
      "source": [
        "# Single word\n",
        "my_first_string= 'algebra'\n",
        "my_first_string"
      ],
      "execution_count": null,
      "outputs": [
        {
          "output_type": "execute_result",
          "data": {
            "text/plain": [
              "'algebra'"
            ],
            "application/vnd.google.colaboratory.intrinsic+json": {
              "type": "string"
            }
          },
          "metadata": {},
          "execution_count": 1
        }
      ]
    },
    {
      "cell_type": "code",
      "metadata": {
        "id": "iaz2basTmr0t",
        "colab": {
          "base_uri": "https://localhost:8080/"
        },
        "outputId": "185e6d90-f8a1-4271-c8e3-c2b0d42c3b15"
      },
      "source": [
        "# Entire phrase\n",
        "phrase = 'Statistics sits at the heart of machine learning'\n",
        "print(phrase)"
      ],
      "execution_count": null,
      "outputs": [
        {
          "output_type": "stream",
          "name": "stdout",
          "text": [
            "Statistics sits at the heart of machine learning\n"
          ]
        }
      ]
    },
    {
      "cell_type": "code",
      "source": [
        "my_first_string[1]"
      ],
      "metadata": {
        "colab": {
          "base_uri": "https://localhost:8080/",
          "height": 35
        },
        "id": "UbzCuxEo_t35",
        "outputId": "126c7691-313c-4181-e763-3ba447a0e51e"
      },
      "execution_count": null,
      "outputs": [
        {
          "output_type": "execute_result",
          "data": {
            "text/plain": [
              "'l'"
            ],
            "application/vnd.google.colaboratory.intrinsic+json": {
              "type": "string"
            }
          },
          "metadata": {},
          "execution_count": 4
        }
      ]
    },
    {
      "cell_type": "markdown",
      "source": [
        "Strings do not support item assignments"
      ],
      "metadata": {
        "id": "vhU0Djti_7QZ"
      }
    },
    {
      "cell_type": "code",
      "source": [
        "my_first_string[:3]"
      ],
      "metadata": {
        "colab": {
          "base_uri": "https://localhost:8080/",
          "height": 35
        },
        "id": "dzQdtr1IAI4B",
        "outputId": "ad52848a-e9eb-4e4f-e5d4-d582ea763347"
      },
      "execution_count": null,
      "outputs": [
        {
          "output_type": "execute_result",
          "data": {
            "text/plain": [
              "'alg'"
            ],
            "application/vnd.google.colaboratory.intrinsic+json": {
              "type": "string"
            }
          },
          "metadata": {},
          "execution_count": 5
        }
      ]
    },
    {
      "cell_type": "markdown",
      "source": [
        "#### Functions and Methods:"
      ],
      "metadata": {
        "id": "sNwJk5Kz_rm5"
      }
    },
    {
      "cell_type": "markdown",
      "source": [
        "lower() method converts the string to uppercase"
      ],
      "metadata": {
        "id": "BTWNjLsIBWEh"
      }
    },
    {
      "cell_type": "code",
      "source": [
        "phrase.lower()"
      ],
      "metadata": {
        "colab": {
          "base_uri": "https://localhost:8080/",
          "height": 35
        },
        "id": "CqO5ddsEBA8h",
        "outputId": "1103df7b-073c-4618-b05b-3b01b9703cda"
      },
      "execution_count": null,
      "outputs": [
        {
          "output_type": "execute_result",
          "data": {
            "text/plain": [
              "'statistics sits at the heart of machine learning'"
            ],
            "application/vnd.google.colaboratory.intrinsic+json": {
              "type": "string"
            }
          },
          "metadata": {},
          "execution_count": 8
        }
      ]
    },
    {
      "cell_type": "markdown",
      "source": [
        "upper() method converts the string to uppercase"
      ],
      "metadata": {
        "id": "WnMeqWYDBUPS"
      }
    },
    {
      "cell_type": "code",
      "source": [
        "phrase.upper()"
      ],
      "metadata": {
        "colab": {
          "base_uri": "https://localhost:8080/",
          "height": 35
        },
        "id": "v6hVhdAKBA6R",
        "outputId": "749dffa4-14d5-443e-bfbe-49badb00cbcb"
      },
      "execution_count": null,
      "outputs": [
        {
          "output_type": "execute_result",
          "data": {
            "text/plain": [
              "'STATISTICS SITS AT THE HEART OF MACHINE LEARNING'"
            ],
            "application/vnd.google.colaboratory.intrinsic+json": {
              "type": "string"
            }
          },
          "metadata": {},
          "execution_count": 9
        }
      ]
    },
    {
      "cell_type": "markdown",
      "source": [
        "len returns length of the string"
      ],
      "metadata": {
        "id": "F59i7D03Boks"
      }
    },
    {
      "cell_type": "code",
      "source": [
        "len(phrase)"
      ],
      "metadata": {
        "colab": {
          "base_uri": "https://localhost:8080/"
        },
        "id": "3DBlgMK2BA4T",
        "outputId": "75ded552-b5e7-49cc-ed4d-9766627d79e2"
      },
      "execution_count": null,
      "outputs": [
        {
          "output_type": "execute_result",
          "data": {
            "text/plain": [
              "48"
            ]
          },
          "metadata": {},
          "execution_count": 12
        }
      ]
    },
    {
      "cell_type": "markdown",
      "source": [
        "count counts the total number of given in a string"
      ],
      "metadata": {
        "id": "UADOzFHLBaib"
      }
    },
    {
      "cell_type": "code",
      "source": [
        "phrase.count('si')"
      ],
      "metadata": {
        "colab": {
          "base_uri": "https://localhost:8080/"
        },
        "id": "HyeHA8cSBICZ",
        "outputId": "e4b845f0-9e19-4d42-8bc1-2c72118e53bd"
      },
      "execution_count": null,
      "outputs": [
        {
          "output_type": "execute_result",
          "data": {
            "text/plain": [
              "1"
            ]
          },
          "metadata": {},
          "execution_count": 11
        }
      ]
    },
    {
      "cell_type": "markdown",
      "source": [
        "find() method returns the index of the first occurrence of a string present in a given string"
      ],
      "metadata": {
        "id": "8QKXeQkvCUzZ"
      }
    },
    {
      "cell_type": "code",
      "source": [
        "phrase.find('si')"
      ],
      "metadata": {
        "colab": {
          "base_uri": "https://localhost:8080/"
        },
        "id": "EGc0SZFZBIAR",
        "outputId": "70d611e0-29f0-4a96-99e9-f7dcd8e60e36"
      },
      "execution_count": null,
      "outputs": [
        {
          "output_type": "execute_result",
          "data": {
            "text/plain": [
              "11"
            ]
          },
          "metadata": {},
          "execution_count": 13
        }
      ]
    },
    {
      "cell_type": "markdown",
      "source": [
        "replace() method takes two arguments - (i) the string to replace and (ii) the string to replace with, and returns a modified string after the operation"
      ],
      "metadata": {
        "id": "y1RhGv4MCg1p"
      }
    },
    {
      "cell_type": "code",
      "source": [
        "print(phrase)"
      ],
      "metadata": {
        "colab": {
          "base_uri": "https://localhost:8080/"
        },
        "id": "LtTlhumNBH7R",
        "outputId": "0176c924-6679-488d-9ebf-9acd1f866ba6"
      },
      "execution_count": null,
      "outputs": [
        {
          "output_type": "stream",
          "name": "stdout",
          "text": [
            "Statistics sits at the heart of machine learning\n"
          ]
        }
      ]
    },
    {
      "cell_type": "code",
      "source": [
        "phrase.replace('Statistics', 'maths')"
      ],
      "metadata": {
        "colab": {
          "base_uri": "https://localhost:8080/",
          "height": 35
        },
        "id": "Kv4SX7EjClah",
        "outputId": "cc4a7b1d-7fea-44d7-9f9e-14689b35c7a1"
      },
      "execution_count": null,
      "outputs": [
        {
          "output_type": "execute_result",
          "data": {
            "text/plain": [
              "'maths sits at the heart of machine learning'"
            ],
            "application/vnd.google.colaboratory.intrinsic+json": {
              "type": "string"
            }
          },
          "metadata": {},
          "execution_count": 16
        }
      ]
    },
    {
      "cell_type": "markdown",
      "source": [
        "Check if a string contains a particular word or character"
      ],
      "metadata": {
        "id": "J7IPif3kC9ii"
      }
    },
    {
      "cell_type": "code",
      "source": [
        "'maths' in phrase"
      ],
      "metadata": {
        "colab": {
          "base_uri": "https://localhost:8080/"
        },
        "id": "43wIpy9EClYA",
        "outputId": "1132b1f6-0ab8-4636-f858-843a6d827866"
      },
      "execution_count": null,
      "outputs": [
        {
          "output_type": "execute_result",
          "data": {
            "text/plain": [
              "False"
            ]
          },
          "metadata": {},
          "execution_count": 18
        }
      ]
    },
    {
      "cell_type": "markdown",
      "source": [
        "##Lists"
      ],
      "metadata": {
        "id": "8EGZ3S6796YS"
      }
    },
    {
      "cell_type": "markdown",
      "source": [
        "Lists can be thought of the most general version of a sequence in Python.\n",
        "\n",
        "Unlike strings, they are mutable, meaning the elements inside a list can be changed!\n",
        "\n",
        "Lists are constructed with brackets [] and commas separating every element in the list."
      ],
      "metadata": {
        "id": "5gZ1gEVm-iRq"
      }
    },
    {
      "cell_type": "code",
      "source": [
        "# Assign a list to an variable named my_list\n",
        "my_list = [1,2,3,4]"
      ],
      "metadata": {
        "id": "RVDpKodt977D"
      },
      "execution_count": null,
      "outputs": []
    },
    {
      "cell_type": "code",
      "source": [
        "type(my_list)"
      ],
      "metadata": {
        "colab": {
          "base_uri": "https://localhost:8080/"
        },
        "id": "EjkBj8ZED-yo",
        "outputId": "6412229b-20f4-42f7-ab2f-69197eb4fb89"
      },
      "execution_count": null,
      "outputs": [
        {
          "output_type": "execute_result",
          "data": {
            "text/plain": [
              "list"
            ]
          },
          "metadata": {},
          "execution_count": 21
        }
      ]
    },
    {
      "cell_type": "code",
      "source": [
        "my_list = ['A string',23,100.232,'o',True]"
      ],
      "metadata": {
        "id": "m_nizTBpEAm0"
      },
      "execution_count": null,
      "outputs": []
    },
    {
      "cell_type": "code",
      "source": [
        "# Consider a list of strings\n",
        "loss_functions = ['Mean Absolute Error','Mean Squared Error','Huber Loss','Log Loss','Hinge Loss']\n",
        "print(loss_functions)"
      ],
      "metadata": {
        "colab": {
          "base_uri": "https://localhost:8080/"
        },
        "id": "581sGg2BEFg4",
        "outputId": "9fcf2866-d6b7-45fb-accb-99546e0acccc"
      },
      "execution_count": null,
      "outputs": [
        {
          "output_type": "stream",
          "name": "stdout",
          "text": [
            "['Mean Absolute Error', 'Mean Squared Error', 'Huber Loss', 'Log Loss', 'Hinge Loss']\n"
          ]
        }
      ]
    },
    {
      "cell_type": "code",
      "source": [
        "# Grab the element at index 0, which is the FIRST element\n",
        "print(loss_functions[0])"
      ],
      "metadata": {
        "colab": {
          "base_uri": "https://localhost:8080/"
        },
        "id": "jstCsLvBEJ9k",
        "outputId": "68e991d4-dd92-42b4-e2ca-d4fe7d912d4d"
      },
      "execution_count": null,
      "outputs": [
        {
          "output_type": "stream",
          "name": "stdout",
          "text": [
            "Mean Absolute Error\n"
          ]
        }
      ]
    },
    {
      "cell_type": "code",
      "source": [
        "# lists concatination\n",
        "\n",
        "loss_functions = loss_functions + ['Root Mean Squared Error']\n",
        "print(loss_functions)"
      ],
      "metadata": {
        "colab": {
          "base_uri": "https://localhost:8080/"
        },
        "id": "axpFLJJFELqE",
        "outputId": "92702da4-7b3e-4610-fff3-6d90af8e70af"
      },
      "execution_count": null,
      "outputs": [
        {
          "output_type": "stream",
          "name": "stdout",
          "text": [
            "['Mean Absolute Error', 'Mean Squared Error', 'Huber Loss', 'Log Loss', 'Hinge Loss', 'Root Mean Squared Error']\n"
          ]
        }
      ]
    },
    {
      "cell_type": "code",
      "source": [
        "loss_functions[::-1]"
      ],
      "metadata": {
        "colab": {
          "base_uri": "https://localhost:8080/"
        },
        "id": "6A0782RUEev5",
        "outputId": "ee16e8db-8a17-4db4-81d9-2e4850837279"
      },
      "execution_count": null,
      "outputs": [
        {
          "output_type": "execute_result",
          "data": {
            "text/plain": [
              "['Root Mean Squared Error',\n",
              " 'Log Loss',\n",
              " 'Huber Loss',\n",
              " 'Mean Squared Error',\n",
              " 'Mean Absolute Error']"
            ]
          },
          "metadata": {},
          "execution_count": 27
        }
      ]
    },
    {
      "cell_type": "code",
      "source": [
        "# list multiplication:\n",
        "\n",
        "loss_functions*2"
      ],
      "metadata": {
        "colab": {
          "base_uri": "https://localhost:8080/"
        },
        "id": "x08mw1PqExgl",
        "outputId": "0b16af5a-ef73-4a03-c639-d62e259ed82e"
      },
      "execution_count": null,
      "outputs": [
        {
          "output_type": "execute_result",
          "data": {
            "text/plain": [
              "['Mean Absolute Error',\n",
              " 'Mean Squared Error',\n",
              " 'Huber Loss',\n",
              " 'Log Loss',\n",
              " 'Hinge Loss',\n",
              " 'Root Mean Squared Error',\n",
              " 'Mean Absolute Error',\n",
              " 'Mean Squared Error',\n",
              " 'Huber Loss',\n",
              " 'Log Loss',\n",
              " 'Hinge Loss',\n",
              " 'Root Mean Squared Error']"
            ]
          },
          "metadata": {},
          "execution_count": 34
        }
      ]
    },
    {
      "cell_type": "markdown",
      "source": [
        "### Functions and Methods"
      ],
      "metadata": {
        "id": "N_F65Mn3FTkk"
      }
    },
    {
      "cell_type": "markdown",
      "source": [
        "len() function returns the length of the list"
      ],
      "metadata": {
        "id": "5yyRB4RfBjm3"
      }
    },
    {
      "cell_type": "code",
      "source": [
        "len(loss_functions)"
      ],
      "metadata": {
        "colab": {
          "base_uri": "https://localhost:8080/"
        },
        "id": "c8RjyoCwFMwn",
        "outputId": "bef20a07-6329-42fc-947b-6c1c062cb742"
      },
      "execution_count": null,
      "outputs": [
        {
          "output_type": "execute_result",
          "data": {
            "text/plain": [
              "6"
            ]
          },
          "metadata": {},
          "execution_count": 35
        }
      ]
    },
    {
      "cell_type": "markdown",
      "source": [
        "min() function returns the minimum element of the list\n",
        "\n",
        "min() function only works with lists of similar data types"
      ],
      "metadata": {
        "id": "jo8wXm-NBn-C"
      }
    },
    {
      "cell_type": "code",
      "source": [
        "new_list = [6, 9, 1, 3, 5.5]\n",
        "min(new_list)"
      ],
      "metadata": {
        "colab": {
          "base_uri": "https://localhost:8080/"
        },
        "id": "H_pie8XBFZe-",
        "outputId": "a1f8b900-07ac-4b5b-b3dc-c8ec9d711306"
      },
      "execution_count": null,
      "outputs": [
        {
          "output_type": "execute_result",
          "data": {
            "text/plain": [
              "1"
            ]
          },
          "metadata": {},
          "execution_count": 36
        }
      ]
    },
    {
      "cell_type": "markdown",
      "source": [
        "max() function returns the maximum element of the list\n",
        "\n",
        "max() function only works with lists of similar data types"
      ],
      "metadata": {
        "id": "2LOz7Zi3BrbK"
      }
    },
    {
      "cell_type": "code",
      "source": [
        "max(new_list)"
      ],
      "metadata": {
        "colab": {
          "base_uri": "https://localhost:8080/"
        },
        "id": "pALWD-QtFj1D",
        "outputId": "c26ad490-f5bd-42cd-ad9a-7bee854c334b"
      },
      "execution_count": null,
      "outputs": [
        {
          "output_type": "execute_result",
          "data": {
            "text/plain": [
              "9"
            ]
          },
          "metadata": {},
          "execution_count": 37
        }
      ]
    },
    {
      "cell_type": "markdown",
      "source": [
        "sum() function returns the sum of the elements of the list\n",
        "\n",
        "sum() function only works with lists of numeric data types"
      ],
      "metadata": {
        "id": "bgCkTlwHBv4w"
      }
    },
    {
      "cell_type": "code",
      "source": [
        "sum(new_list)"
      ],
      "metadata": {
        "colab": {
          "base_uri": "https://localhost:8080/"
        },
        "id": "7BNQT26HF5AJ",
        "outputId": "ff00b228-c1b6-421e-a3a1-8bb62decc165"
      },
      "execution_count": null,
      "outputs": [
        {
          "output_type": "execute_result",
          "data": {
            "text/plain": [
              "24.5"
            ]
          },
          "metadata": {},
          "execution_count": 38
        }
      ]
    },
    {
      "cell_type": "markdown",
      "source": [
        "sorted() function returns the sorted list\n",
        "\n",
        "sorted() function takes reverse boolean as an argument\n",
        "\n",
        "sorted() function only works on a list with similar data types\n",
        "\n",
        "sorted() function does not change our list"
      ],
      "metadata": {
        "id": "cegVOxTRBzg2"
      }
    },
    {
      "cell_type": "code",
      "source": [
        "sorted(new_list, reverse=False)"
      ],
      "metadata": {
        "colab": {
          "base_uri": "https://localhost:8080/"
        },
        "id": "rAmV-OvLF-sM",
        "outputId": "ff2505b2-d490-4260-b327-75d65e3c4867"
      },
      "execution_count": null,
      "outputs": [
        {
          "output_type": "execute_result",
          "data": {
            "text/plain": [
              "[1, 3, 5.5, 6, 9]"
            ]
          },
          "metadata": {},
          "execution_count": 43
        }
      ]
    },
    {
      "cell_type": "markdown",
      "source": [
        "Use the append() method to permanently add an item to the end of a list.\n",
        "\n",
        "append() method takes the element which you want to add to the list as an argument"
      ],
      "metadata": {
        "id": "7UzoALJDB8ks"
      }
    },
    {
      "cell_type": "code",
      "source": [
        "print(new_list)\n",
        "new_list.append('come on')\n",
        "print(new_list)"
      ],
      "metadata": {
        "colab": {
          "base_uri": "https://localhost:8080/"
        },
        "id": "rbm3hke3GLCR",
        "outputId": "7db2afc9-1509-4278-8300-49fb8c6608c8"
      },
      "execution_count": null,
      "outputs": [
        {
          "output_type": "stream",
          "name": "stdout",
          "text": [
            "[6, 9, 1, 3, 5.5]\n",
            "[6, 9, 1, 3, 5.5, 'come on']\n"
          ]
        }
      ]
    },
    {
      "cell_type": "code",
      "source": [
        "new_list.append([1,2,3])\n",
        "print(new_list)"
      ],
      "metadata": {
        "colab": {
          "base_uri": "https://localhost:8080/"
        },
        "id": "zdt3uX0yGodb",
        "outputId": "a92ffa6a-6261-464f-c4d7-26b3f3cbe54d"
      },
      "execution_count": null,
      "outputs": [
        {
          "output_type": "stream",
          "name": "stdout",
          "text": [
            "[6, 9, 1, 3, 5.5, 'come on', [1, 2, 3]]\n"
          ]
        }
      ]
    },
    {
      "cell_type": "markdown",
      "source": [
        "Use the extend() method to merge a list to an existing list\n",
        "\n",
        "extend() method takes a list or any iterable as an argument.\n"
      ],
      "metadata": {
        "id": "A2bCeJ8YCBmd"
      }
    },
    {
      "cell_type": "code",
      "source": [
        "new_list.extend([7,8,9])\n",
        "print(new_list)"
      ],
      "metadata": {
        "colab": {
          "base_uri": "https://localhost:8080/"
        },
        "id": "yLPHM13dGyo-",
        "outputId": "25fdeaaf-695b-447f-feda-27624096a1a9"
      },
      "execution_count": null,
      "outputs": [
        {
          "output_type": "stream",
          "name": "stdout",
          "text": [
            "[6, 9, 1, 3, 5.5, 'come on', [1, 2, 3], 7, 8, 9]\n"
          ]
        }
      ]
    },
    {
      "cell_type": "markdown",
      "source": [
        "Use pop() to \"pop off\" an item from the list.\n",
        "\n",
        "By default pop() takes off the element at the last index, but you can also specify which index to pop off.\n",
        "\n",
        "pop() takes the index as an argument and returns the elenent which was popped off."
      ],
      "metadata": {
        "id": "cE5uQwMyCErQ"
      }
    },
    {
      "cell_type": "code",
      "source": [
        "new_list.pop()\n",
        "print(new_list)"
      ],
      "metadata": {
        "colab": {
          "base_uri": "https://localhost:8080/"
        },
        "id": "S648P6F3HuuC",
        "outputId": "0397a06c-f5d5-4a71-bce3-9e1520fc9d0b"
      },
      "execution_count": null,
      "outputs": [
        {
          "output_type": "stream",
          "name": "stdout",
          "text": [
            "[6, 9, 1, 3, 5.5, 'come on', [1, 2, 3], 7]\n"
          ]
        }
      ]
    },
    {
      "cell_type": "code",
      "source": [
        "new_list.pop(0)\n",
        "print(new_list)"
      ],
      "metadata": {
        "colab": {
          "base_uri": "https://localhost:8080/"
        },
        "id": "lUxQJU9hH3z9",
        "outputId": "a70e132f-5e6a-4b00-c146-1168bfd1ec05"
      },
      "execution_count": null,
      "outputs": [
        {
          "output_type": "stream",
          "name": "stdout",
          "text": [
            "[9, 1, 3, 5.5, 'come on', [1, 2, 3], 7]\n"
          ]
        }
      ]
    },
    {
      "cell_type": "markdown",
      "source": [
        "Use remove() to remove an item/element from the list.\n",
        "\n",
        "By default remove() removes the specified element from the list.\n",
        "\n",
        "remove() takes the element as an argument."
      ],
      "metadata": {
        "id": "rT3Sc413CIVr"
      }
    },
    {
      "cell_type": "code",
      "source": [
        "new_list.remove('come on')\n",
        "print(new_list)"
      ],
      "metadata": {
        "colab": {
          "base_uri": "https://localhost:8080/"
        },
        "id": "8cgM3AELIAmy",
        "outputId": "243ddf88-b63c-42ba-b100-e48bace41a7e"
      },
      "execution_count": null,
      "outputs": [
        {
          "output_type": "stream",
          "name": "stdout",
          "text": [
            "[9, 1, 3, 5.5, [1, 2, 3], 7]\n"
          ]
        }
      ]
    },
    {
      "cell_type": "code",
      "source": [
        "new_list.remove([1,2,3])\n",
        "print(new_list)"
      ],
      "metadata": {
        "colab": {
          "base_uri": "https://localhost:8080/"
        },
        "id": "weJ8CQsAIXlP",
        "outputId": "06159315-871d-4d63-990f-ebe415d6c829"
      },
      "execution_count": null,
      "outputs": [
        {
          "output_type": "stream",
          "name": "stdout",
          "text": [
            "[9, 1, 3, 5.5, 7]\n"
          ]
        }
      ]
    },
    {
      "cell_type": "markdown",
      "source": [
        "The count() method returns the total occurrence of a specified element in the list"
      ],
      "metadata": {
        "id": "xVRsGZ4BCL0S"
      }
    },
    {
      "cell_type": "code",
      "source": [
        "new_list.count(5.5)"
      ],
      "metadata": {
        "colab": {
          "base_uri": "https://localhost:8080/"
        },
        "id": "oSxvIgtrIg1l",
        "outputId": "a3b9d633-eb34-4f00-f258-b422eb41f81b"
      },
      "execution_count": null,
      "outputs": [
        {
          "output_type": "execute_result",
          "data": {
            "text/plain": [
              "1"
            ]
          },
          "metadata": {},
          "execution_count": 55
        }
      ]
    },
    {
      "cell_type": "markdown",
      "source": [
        "The index() method returns the index of a specified element."
      ],
      "metadata": {
        "id": "QXh0ITw0CNzh"
      }
    },
    {
      "cell_type": "code",
      "source": [
        "my_list = [1, 2, 3, 1, 1, 1, 3, 10, 5, 8, 'Append me!', 2.73, 'Wubba']\n",
        "my_list.index('Wubba')"
      ],
      "metadata": {
        "colab": {
          "base_uri": "https://localhost:8080/"
        },
        "id": "07dDJ5QXIr0-",
        "outputId": "c0e181ee-cdda-4478-9d8b-df57b2c5c4fe"
      },
      "execution_count": null,
      "outputs": [
        {
          "output_type": "execute_result",
          "data": {
            "text/plain": [
              "12"
            ]
          },
          "metadata": {},
          "execution_count": 56
        }
      ]
    },
    {
      "cell_type": "code",
      "source": [
        "my_list.index(2.73)"
      ],
      "metadata": {
        "colab": {
          "base_uri": "https://localhost:8080/"
        },
        "id": "4rvs2lUTJ6Np",
        "outputId": "31928fd9-4486-4fc8-acad-4a0d6bf39063"
      },
      "execution_count": null,
      "outputs": [
        {
          "output_type": "execute_result",
          "data": {
            "text/plain": [
              "11"
            ]
          },
          "metadata": {},
          "execution_count": 57
        }
      ]
    },
    {
      "cell_type": "markdown",
      "source": [
        "Use sort() to sort the list in either ascending/descending order\n",
        "\n",
        "The sorting is done in ascending order by default\n",
        "\n",
        "sort() method takes the reverse boolean as an argument\n",
        "\n",
        "sort() method only works on a list with elements of same data type"
      ],
      "metadata": {
        "id": "RjIONY80CP_R"
      }
    },
    {
      "cell_type": "code",
      "source": [
        "new_list = [6, 9, 1, 3, 5]\n",
        "\n",
        "new_list.sort()\n",
        "print(new_list)"
      ],
      "metadata": {
        "colab": {
          "base_uri": "https://localhost:8080/"
        },
        "id": "oKtjAgTnKBBd",
        "outputId": "d6d88f64-9fb3-43b8-f425-b7cd08c5ac7c"
      },
      "execution_count": null,
      "outputs": [
        {
          "output_type": "stream",
          "name": "stdout",
          "text": [
            "[1, 3, 5, 6, 9]\n"
          ]
        }
      ]
    },
    {
      "cell_type": "markdown",
      "source": [
        "reverse() method reverses the list"
      ],
      "metadata": {
        "id": "ujUk7GxaCTL6"
      }
    },
    {
      "cell_type": "code",
      "source": [
        "new_list.reverse()\n",
        "print(new_list)"
      ],
      "metadata": {
        "colab": {
          "base_uri": "https://localhost:8080/"
        },
        "id": "-0eC1XNLKNGg",
        "outputId": "fc2e3f6f-8352-4c07-b701-e6c6d201e5d4"
      },
      "execution_count": null,
      "outputs": [
        {
          "output_type": "stream",
          "name": "stdout",
          "text": [
            "[9, 6, 5, 3, 1]\n"
          ]
        }
      ]
    },
    {
      "cell_type": "code",
      "source": [
        "# Nested List i.e. List of Lists\n",
        "\n",
        "# Let's make three lists\n",
        "lst_1=[1,2,3]\n",
        "lst_2=['b','a','d']\n",
        "lst_3=[7,8,9]\n",
        "\n",
        "# Make a list of lists to form a matrix\n",
        "list_of_lists = [lst_1,lst_2,lst_3]\n",
        "\n",
        "print(list_of_lists)"
      ],
      "metadata": {
        "colab": {
          "base_uri": "https://localhost:8080/"
        },
        "id": "O5h_NNYnKcaH",
        "outputId": "0beb91d4-7e51-45e9-f416-3d9918fd8fe4"
      },
      "execution_count": null,
      "outputs": [
        {
          "output_type": "stream",
          "name": "stdout",
          "text": [
            "[[1, 2, 3], ['b', 'a', 'd'], [7, 8, 9]]\n"
          ]
        }
      ]
    },
    {
      "cell_type": "code",
      "source": [
        "# indexing in nested list:\n",
        "\n",
        "list_of_lists[1][1]"
      ],
      "metadata": {
        "colab": {
          "base_uri": "https://localhost:8080/",
          "height": 35
        },
        "id": "AU2-enCgKlsy",
        "outputId": "5adde527-b500-43ab-82ef-82d5839b8889"
      },
      "execution_count": null,
      "outputs": [
        {
          "output_type": "execute_result",
          "data": {
            "text/plain": [
              "'a'"
            ],
            "application/vnd.google.colaboratory.intrinsic+json": {
              "type": "string"
            }
          },
          "metadata": {},
          "execution_count": 62
        }
      ]
    },
    {
      "cell_type": "markdown",
      "source": [
        "## Tuples"
      ],
      "metadata": {
        "id": "kP9UM0z9MZ6D"
      }
    },
    {
      "cell_type": "markdown",
      "source": [
        "In Python tuples are very similar to lists, however, unlike lists they are immutable meaning they can not be changed.\n",
        "\n",
        "You would use tuples to present things that shouldn't be changed, such as days of the week, or dates on a calendar."
      ],
      "metadata": {
        "id": "49XNQC04MjVD"
      }
    },
    {
      "cell_type": "code",
      "source": [
        "# Create a tuple\n",
        "my_tuple = (1,'a',3)\n",
        "my_tuple"
      ],
      "metadata": {
        "colab": {
          "base_uri": "https://localhost:8080/"
        },
        "id": "R88IhnElMb3n",
        "outputId": "6db4720a-d5ef-4d5d-8c14-e180409f8cb8"
      },
      "execution_count": null,
      "outputs": [
        {
          "output_type": "execute_result",
          "data": {
            "text/plain": [
              "(1, 'a', 3)"
            ]
          },
          "metadata": {},
          "execution_count": 63
        }
      ]
    },
    {
      "cell_type": "code",
      "source": [
        "# create empty tuple\n",
        "\n",
        "empty_tuple = ()"
      ],
      "metadata": {
        "id": "IxZge7lGMnYg"
      },
      "execution_count": null,
      "outputs": []
    },
    {
      "cell_type": "code",
      "source": [
        "empty_tuple"
      ],
      "metadata": {
        "colab": {
          "base_uri": "https://localhost:8080/"
        },
        "id": "jYHFDuTvMvNU",
        "outputId": "b7a24669-cfd4-4e25-ae0b-f26c42b1062e"
      },
      "execution_count": null,
      "outputs": [
        {
          "output_type": "execute_result",
          "data": {
            "text/plain": [
              "()"
            ]
          },
          "metadata": {},
          "execution_count": 65
        }
      ]
    },
    {
      "cell_type": "code",
      "source": [
        "# indexing\n",
        "\n",
        "my_tuple[1]"
      ],
      "metadata": {
        "colab": {
          "base_uri": "https://localhost:8080/",
          "height": 35
        },
        "id": "xuQljsR5MxBK",
        "outputId": "ef49539e-0fb5-4fc9-bd0f-d39840eaa1a4"
      },
      "execution_count": null,
      "outputs": [
        {
          "output_type": "execute_result",
          "data": {
            "text/plain": [
              "'a'"
            ],
            "application/vnd.google.colaboratory.intrinsic+json": {
              "type": "string"
            }
          },
          "metadata": {},
          "execution_count": 66
        }
      ]
    },
    {
      "cell_type": "code",
      "source": [
        "# tupe_of_tuple\n",
        "\n",
        "tupe_of_tuple = ((1,2),(3,4))\n",
        "print(tupe_of_tuple)"
      ],
      "metadata": {
        "colab": {
          "base_uri": "https://localhost:8080/"
        },
        "id": "y3VpdmnYNGzx",
        "outputId": "f4b52da9-8546-45ad-8dec-73a646a938cb"
      },
      "execution_count": null,
      "outputs": [
        {
          "output_type": "stream",
          "name": "stdout",
          "text": [
            "((1, 2), (3, 4))\n"
          ]
        }
      ]
    },
    {
      "cell_type": "markdown",
      "source": [
        "### Functions and Methods"
      ],
      "metadata": {
        "id": "pE_G5opwOLKM"
      }
    },
    {
      "cell_type": "markdown",
      "source": [
        "The index() method returns the index of a specified element"
      ],
      "metadata": {
        "id": "70VvHs1fEEzP"
      }
    },
    {
      "cell_type": "code",
      "source": [
        "my_tuple.index('a')"
      ],
      "metadata": {
        "colab": {
          "base_uri": "https://localhost:8080/"
        },
        "id": "GSPttzcnNVzg",
        "outputId": "f07243fd-f221-4123-9ce4-855c5a66178d"
      },
      "execution_count": null,
      "outputs": [
        {
          "output_type": "execute_result",
          "data": {
            "text/plain": [
              "1"
            ]
          },
          "metadata": {},
          "execution_count": 73
        }
      ]
    },
    {
      "cell_type": "markdown",
      "source": [
        "The count() method returns the total occurrence of a specified element in a tuple"
      ],
      "metadata": {
        "id": "182KPDGFEG14"
      }
    },
    {
      "cell_type": "code",
      "source": [
        "my_tuple.count(1)"
      ],
      "metadata": {
        "colab": {
          "base_uri": "https://localhost:8080/"
        },
        "id": "Qy7zheb5OhYh",
        "outputId": "dfc3150e-51d0-4aad-f6ac-1457475c0b68"
      },
      "execution_count": null,
      "outputs": [
        {
          "output_type": "execute_result",
          "data": {
            "text/plain": [
              "1"
            ]
          },
          "metadata": {},
          "execution_count": 74
        }
      ]
    },
    {
      "cell_type": "code",
      "source": [
        "# Immutability\n",
        "\n",
        "my_tuple[0] = 'change'"
      ],
      "metadata": {
        "colab": {
          "base_uri": "https://localhost:8080/",
          "height": 211
        },
        "id": "E4GezwMROxP7",
        "outputId": "89aec0f9-8dd6-4207-f6fa-23755e827eec"
      },
      "execution_count": null,
      "outputs": [
        {
          "output_type": "error",
          "ename": "TypeError",
          "evalue": "ignored",
          "traceback": [
            "\u001b[0;31m---------------------------------------------------------------------------\u001b[0m",
            "\u001b[0;31mTypeError\u001b[0m                                 Traceback (most recent call last)",
            "\u001b[0;32m<ipython-input-75-04b6055d95b0>\u001b[0m in \u001b[0;36m<cell line: 3>\u001b[0;34m()\u001b[0m\n\u001b[1;32m      1\u001b[0m \u001b[0;31m# Immutability\u001b[0m\u001b[0;34m\u001b[0m\u001b[0;34m\u001b[0m\u001b[0m\n\u001b[1;32m      2\u001b[0m \u001b[0;34m\u001b[0m\u001b[0m\n\u001b[0;32m----> 3\u001b[0;31m \u001b[0mmy_tuple\u001b[0m\u001b[0;34m[\u001b[0m\u001b[0;36m0\u001b[0m\u001b[0;34m]\u001b[0m \u001b[0;34m=\u001b[0m \u001b[0;34m'change'\u001b[0m\u001b[0;34m\u001b[0m\u001b[0;34m\u001b[0m\u001b[0m\n\u001b[0m",
            "\u001b[0;31mTypeError\u001b[0m: 'tuple' object does not support item assignment"
          ]
        }
      ]
    },
    {
      "cell_type": "markdown",
      "source": [
        "Tuple does not support methods such as append(), extend(), remove(), pop()"
      ],
      "metadata": {
        "id": "mMNEelBBPrCC"
      }
    },
    {
      "cell_type": "code",
      "source": [
        "# zip() function takes multiple lists/tuples as arguments and zips them together\n",
        "# This function returns a list of n-paired tuples where n is the number of lists being zipped\n",
        "\n",
        "city_list = ('Delhi','Patna','Cuttack','Guwahati')\n",
        "river_list = ('Yamuna','Ganga','Mahanadi','Brahmaputra')\n",
        "\n",
        "city_river = tuple(zip(city_list, river_list))\n",
        "\n",
        "print(city_river)"
      ],
      "metadata": {
        "colab": {
          "base_uri": "https://localhost:8080/"
        },
        "id": "iPILS0-OPgBo",
        "outputId": "a45fb9e6-9282-4ee8-fdfa-02f8aa244e9d"
      },
      "execution_count": null,
      "outputs": [
        {
          "output_type": "stream",
          "name": "stdout",
          "text": [
            "(('Delhi', 'Yamuna'), ('Patna', 'Ganga'), ('Cuttack', 'Mahanadi'), ('Guwahati', 'Brahmaputra'))\n"
          ]
        }
      ]
    },
    {
      "cell_type": "markdown",
      "source": [
        "## Sets"
      ],
      "metadata": {
        "id": "Um7Mls0kQmI2"
      }
    },
    {
      "cell_type": "markdown",
      "source": [
        "Sets are an unordered collection of unique elements. We can construct them by using the set() function.\n",
        "\n",
        "Sets cannot have duplicates.\n",
        "\n",
        "Sets are mutable just like lists.\n",
        "\n",
        "You can create a non-empty set with curly braces by specifying elements separated by a comma."
      ],
      "metadata": {
        "id": "peuOhcYlSnXY"
      }
    },
    {
      "cell_type": "code",
      "source": [
        "# Create an empty set\n",
        "empty_set = set()"
      ],
      "metadata": {
        "id": "mWRKLaKFTDfm"
      },
      "execution_count": null,
      "outputs": []
    },
    {
      "cell_type": "code",
      "source": [
        "# casting a list for unique elements\n",
        "\n",
        "list1 = [1,4,5,2,4,6,4,3,5,6,4,3,5,7,6,5,4]\n",
        "\n",
        "set1 = set(list1)\n",
        "print(set1)"
      ],
      "metadata": {
        "colab": {
          "base_uri": "https://localhost:8080/"
        },
        "id": "-glrS_24S0U8",
        "outputId": "addd5902-efee-4c93-a2d9-ba09835a315e"
      },
      "execution_count": null,
      "outputs": [
        {
          "output_type": "stream",
          "name": "stdout",
          "text": [
            "{1, 2, 3, 4, 5, 6, 7}\n"
          ]
        }
      ]
    },
    {
      "cell_type": "code",
      "source": [
        "# A set cannot have mutable items\n",
        "my_set = {1, 2, (3, 4)}"
      ],
      "metadata": {
        "id": "deboSw4hUbta"
      },
      "execution_count": null,
      "outputs": []
    },
    {
      "cell_type": "code",
      "source": [
        "print(my_set)"
      ],
      "metadata": {
        "colab": {
          "base_uri": "https://localhost:8080/"
        },
        "id": "IVK5srxrUgTJ",
        "outputId": "9aa2c1bc-9d5a-4398-acbf-6e70de33b178"
      },
      "execution_count": null,
      "outputs": [
        {
          "output_type": "stream",
          "name": "stdout",
          "text": [
            "{1, 2, (3, 4)}\n"
          ]
        }
      ]
    },
    {
      "cell_type": "markdown",
      "source": [
        "We cannot have lists as an element in a set.\n",
        "\n",
        "We can have tuples as an element in a set.\n",
        "\n",
        "We cannot have set as an element in a set."
      ],
      "metadata": {
        "id": "S5Ys7fR_VK2N"
      }
    },
    {
      "cell_type": "code",
      "source": [
        "my_set = {1,2, [3,5]}"
      ],
      "metadata": {
        "colab": {
          "base_uri": "https://localhost:8080/",
          "height": 176
        },
        "id": "nax5OdM6UiV7",
        "outputId": "6d1fe9a1-0a2c-4b97-841c-2fbf311b121d"
      },
      "execution_count": null,
      "outputs": [
        {
          "output_type": "error",
          "ename": "TypeError",
          "evalue": "ignored",
          "traceback": [
            "\u001b[0;31m---------------------------------------------------------------------------\u001b[0m",
            "\u001b[0;31mTypeError\u001b[0m                                 Traceback (most recent call last)",
            "\u001b[0;32m<ipython-input-84-39f695122c72>\u001b[0m in \u001b[0;36m<cell line: 1>\u001b[0;34m()\u001b[0m\n\u001b[0;32m----> 1\u001b[0;31m \u001b[0mmy_set\u001b[0m \u001b[0;34m=\u001b[0m \u001b[0;34m{\u001b[0m\u001b[0;36m1\u001b[0m\u001b[0;34m,\u001b[0m\u001b[0;36m2\u001b[0m\u001b[0;34m,\u001b[0m \u001b[0;34m[\u001b[0m\u001b[0;36m3\u001b[0m\u001b[0;34m,\u001b[0m\u001b[0;36m5\u001b[0m\u001b[0;34m]\u001b[0m\u001b[0;34m}\u001b[0m\u001b[0;34m\u001b[0m\u001b[0;34m\u001b[0m\u001b[0m\n\u001b[0m",
            "\u001b[0;31mTypeError\u001b[0m: unhashable type: 'list'"
          ]
        }
      ]
    },
    {
      "cell_type": "code",
      "source": [
        "my_set = {1,2, (3,5)}"
      ],
      "metadata": {
        "id": "uvKIQb9TVV28"
      },
      "execution_count": null,
      "outputs": []
    },
    {
      "cell_type": "code",
      "source": [
        "my_set = {1,2, {3,5}}"
      ],
      "metadata": {
        "colab": {
          "base_uri": "https://localhost:8080/",
          "height": 176
        },
        "id": "BpjhuJdlVXwV",
        "outputId": "388b66d0-1ddb-4b84-83c0-cdfb9506c6d3"
      },
      "execution_count": null,
      "outputs": [
        {
          "output_type": "error",
          "ename": "TypeError",
          "evalue": "ignored",
          "traceback": [
            "\u001b[0;31m---------------------------------------------------------------------------\u001b[0m",
            "\u001b[0;31mTypeError\u001b[0m                                 Traceback (most recent call last)",
            "\u001b[0;32m<ipython-input-86-d1c5730131c5>\u001b[0m in \u001b[0;36m<cell line: 1>\u001b[0;34m()\u001b[0m\n\u001b[0;32m----> 1\u001b[0;31m \u001b[0mmy_set\u001b[0m \u001b[0;34m=\u001b[0m \u001b[0;34m{\u001b[0m\u001b[0;36m1\u001b[0m\u001b[0;34m,\u001b[0m\u001b[0;36m2\u001b[0m\u001b[0;34m,\u001b[0m \u001b[0;34m{\u001b[0m\u001b[0;36m3\u001b[0m\u001b[0;34m,\u001b[0m\u001b[0;36m5\u001b[0m\u001b[0;34m}\u001b[0m\u001b[0;34m}\u001b[0m\u001b[0;34m\u001b[0m\u001b[0;34m\u001b[0m\u001b[0m\n\u001b[0m",
            "\u001b[0;31mTypeError\u001b[0m: unhashable type: 'set'"
          ]
        }
      ]
    },
    {
      "cell_type": "code",
      "source": [
        "# we can have set with different dtypes\n",
        "\n",
        "new_set = {1,2,3,'a'}\n",
        "print(new_set)"
      ],
      "metadata": {
        "colab": {
          "base_uri": "https://localhost:8080/"
        },
        "id": "tOqWUR8MVZ8R",
        "outputId": "8d56801e-e050-4d75-dd5a-aa20a78b25c5"
      },
      "execution_count": null,
      "outputs": [
        {
          "output_type": "stream",
          "name": "stdout",
          "text": [
            "{'a', 1, 2, 3}\n"
          ]
        }
      ]
    },
    {
      "cell_type": "markdown",
      "source": [
        "### Function and Methods"
      ],
      "metadata": {
        "id": "_yjBKVvXXfpa"
      }
    },
    {
      "cell_type": "markdown",
      "source": [
        "add() method adds an element to a set\n",
        "\n",
        "This method takes the element to be added as an argument"
      ],
      "metadata": {
        "id": "yRNJ5aoyXkcZ"
      }
    },
    {
      "cell_type": "code",
      "source": [
        "print(set1)\n",
        "\n",
        "set1.add(8)\n",
        "\n",
        "print(set1)"
      ],
      "metadata": {
        "colab": {
          "base_uri": "https://localhost:8080/"
        },
        "id": "Vn-M_-hDXWiP",
        "outputId": "7217d7b6-d299-4761-f92a-f6c4fa7240d7"
      },
      "execution_count": null,
      "outputs": [
        {
          "output_type": "stream",
          "name": "stdout",
          "text": [
            "{1, 2, 3, 4, 5, 6, 7}\n",
            "{1, 2, 3, 4, 5, 6, 7, 8}\n"
          ]
        }
      ]
    },
    {
      "cell_type": "markdown",
      "source": [
        "update() method helps to add multiple elements to a set"
      ],
      "metadata": {
        "id": "Msnrw8s0Y_h0"
      }
    },
    {
      "cell_type": "code",
      "source": [
        "set1.update([9,10,11])\n",
        "print(set1)"
      ],
      "metadata": {
        "colab": {
          "base_uri": "https://localhost:8080/"
        },
        "id": "H6fUhTX0Xioz",
        "outputId": "6222c589-c575-49c2-ff18-2e8abe14986f"
      },
      "execution_count": null,
      "outputs": [
        {
          "output_type": "stream",
          "name": "stdout",
          "text": [
            "{1, 2, 3, 4, 5, 6, 7, 8, 9, 10, 11}\n"
          ]
        }
      ]
    },
    {
      "cell_type": "markdown",
      "source": [
        "Use remove() to remove an item/element from the set.\n",
        "\n",
        "By default remove() removes the specified element from the set.\n",
        "\n",
        "remove() takes the element as an argument."
      ],
      "metadata": {
        "id": "EDoZB5ECZM-x"
      }
    },
    {
      "cell_type": "code",
      "source": [
        "set1.remove(9)\n",
        "print(set1)"
      ],
      "metadata": {
        "colab": {
          "base_uri": "https://localhost:8080/"
        },
        "id": "m798j5xvXimQ",
        "outputId": "a1688796-7890-479c-b947-55a63c39a23f"
      },
      "execution_count": null,
      "outputs": [
        {
          "output_type": "stream",
          "name": "stdout",
          "text": [
            "{1, 2, 3, 4, 5, 6, 7, 8, 10, 11}\n"
          ]
        }
      ]
    },
    {
      "cell_type": "markdown",
      "source": [
        "union() method returns the union of two sets\n",
        "\n",
        "Also denoted by the operator |"
      ],
      "metadata": {
        "id": "9aJbcfJjZfQj"
      }
    },
    {
      "cell_type": "code",
      "source": [
        "# Initialize sets A and B\n",
        "A = {1, 2, 3, 4, 5}\n",
        "B = {4, 5, 6, 7, 8}\n",
        "\n",
        "A.union(B)"
      ],
      "metadata": {
        "colab": {
          "base_uri": "https://localhost:8080/"
        },
        "id": "KM395-gQXijq",
        "outputId": "0716686f-b52b-45d5-a411-975493ae4a13"
      },
      "execution_count": null,
      "outputs": [
        {
          "output_type": "execute_result",
          "data": {
            "text/plain": [
              "{1, 2, 3, 4, 5, 6, 7, 8}"
            ]
          },
          "metadata": {},
          "execution_count": 97
        }
      ]
    },
    {
      "cell_type": "code",
      "source": [
        "A|B"
      ],
      "metadata": {
        "colab": {
          "base_uri": "https://localhost:8080/"
        },
        "id": "u_LXiuJibnBb",
        "outputId": "5d66c4c2-e15c-49d5-9dc3-3e5d7cb86201"
      },
      "execution_count": null,
      "outputs": [
        {
          "output_type": "execute_result",
          "data": {
            "text/plain": [
              "{1, 2, 3, 4, 5, 6, 7, 8}"
            ]
          },
          "metadata": {},
          "execution_count": 98
        }
      ]
    },
    {
      "cell_type": "markdown",
      "source": [
        "intersection() method returns the intersection of two sets\n",
        "\n",
        "Also denoted by the operator &"
      ],
      "metadata": {
        "id": "-biU1Ua8bx1H"
      }
    },
    {
      "cell_type": "code",
      "source": [
        "A.intersection(B)"
      ],
      "metadata": {
        "colab": {
          "base_uri": "https://localhost:8080/"
        },
        "id": "7wORBSs0bpnf",
        "outputId": "eaf54908-e4c4-4444-b7da-e30155f7c3ba"
      },
      "execution_count": null,
      "outputs": [
        {
          "output_type": "execute_result",
          "data": {
            "text/plain": [
              "{4, 5}"
            ]
          },
          "metadata": {},
          "execution_count": 99
        }
      ]
    },
    {
      "cell_type": "code",
      "source": [
        "A&B"
      ],
      "metadata": {
        "colab": {
          "base_uri": "https://localhost:8080/"
        },
        "id": "e6M7OPbGb2ys",
        "outputId": "33d48bb2-19fd-4a3a-ac07-527381e9c5dc"
      },
      "execution_count": null,
      "outputs": [
        {
          "output_type": "execute_result",
          "data": {
            "text/plain": [
              "{4, 5}"
            ]
          },
          "metadata": {},
          "execution_count": 100
        }
      ]
    },
    {
      "cell_type": "markdown",
      "source": [
        "difference() method returns the difference of two sets\n",
        "\n",
        "Difference of the set B from set A i.e, (A - B) is a set of elements that are only in A but not in B\n",
        "\n",
        "Also denoted by the operator -"
      ],
      "metadata": {
        "id": "e_jLSq2OcBwT"
      }
    },
    {
      "cell_type": "code",
      "source": [
        "A.difference(B)"
      ],
      "metadata": {
        "colab": {
          "base_uri": "https://localhost:8080/"
        },
        "id": "ykcXKu2Nb4hI",
        "outputId": "a538b56a-5a5a-4320-cc60-3920d587df7b"
      },
      "execution_count": null,
      "outputs": [
        {
          "output_type": "execute_result",
          "data": {
            "text/plain": [
              "{1, 2, 3}"
            ]
          },
          "metadata": {},
          "execution_count": 101
        }
      ]
    },
    {
      "cell_type": "code",
      "source": [
        "A-B"
      ],
      "metadata": {
        "colab": {
          "base_uri": "https://localhost:8080/"
        },
        "id": "7A-UKtmFcGBa",
        "outputId": "44363c32-1c13-47a4-9042-a993aeda70e1"
      },
      "execution_count": null,
      "outputs": [
        {
          "output_type": "execute_result",
          "data": {
            "text/plain": [
              "{1, 2, 3}"
            ]
          },
          "metadata": {},
          "execution_count": 102
        }
      ]
    },
    {
      "cell_type": "markdown",
      "source": [
        "symmetric_difference() method returns the set of elements in A and B but not in both (excluding the intersection)\n",
        "\n",
        "Also denoted by the operator ^"
      ],
      "metadata": {
        "id": "L9IWjBSocMbG"
      }
    },
    {
      "cell_type": "code",
      "source": [
        "A.symmetric_difference(B)"
      ],
      "metadata": {
        "colab": {
          "base_uri": "https://localhost:8080/"
        },
        "id": "OcMFU7vHcG2a",
        "outputId": "517eeaef-bdc8-49ec-ee3e-8c10ac090ced"
      },
      "execution_count": null,
      "outputs": [
        {
          "output_type": "execute_result",
          "data": {
            "text/plain": [
              "{1, 2, 3, 6, 7, 8}"
            ]
          },
          "metadata": {},
          "execution_count": 103
        }
      ]
    },
    {
      "cell_type": "code",
      "source": [
        "A^B"
      ],
      "metadata": {
        "colab": {
          "base_uri": "https://localhost:8080/"
        },
        "id": "dwZn9g3qcPpc",
        "outputId": "f61a3aa5-6d1b-486d-9613-ba8d39e0fedb"
      },
      "execution_count": null,
      "outputs": [
        {
          "output_type": "execute_result",
          "data": {
            "text/plain": [
              "{1, 2, 3, 6, 7, 8}"
            ]
          },
          "metadata": {},
          "execution_count": 104
        }
      ]
    },
    {
      "cell_type": "markdown",
      "source": [
        "## Dictionary"
      ],
      "metadata": {
        "id": "aQSglHLmcT8O"
      }
    },
    {
      "cell_type": "markdown",
      "source": [
        "A Python dictionary consists of a key and then an associated value. That value can be almost any Python object. So a dictionary object always has elements as key-value pairs\n",
        "\n",
        "A dictionary object is constructed using curly braces {key1:value1,key2:value2,key3:value3}"
      ],
      "metadata": {
        "id": "pff8_cxYFU2Y"
      }
    },
    {
      "cell_type": "code",
      "source": [
        "# Make a dictionary with {} and : to signify a key and a value\n",
        "marvel_dict = {'Name':'Thor','Place':'Asgard','Weapon' : 'Hammer', 1:2, 3 : 'power', 'alibies' : ['Ironman','Captain America'], 'abc' : {1:2, 4:5}}"
      ],
      "metadata": {
        "id": "P4ndP0n-cV61"
      },
      "execution_count": 4,
      "outputs": []
    },
    {
      "cell_type": "code",
      "source": [
        "# We can call value by it's key:\n",
        "\n",
        "marvel_dict['Name']"
      ],
      "metadata": {
        "colab": {
          "base_uri": "https://localhost:8080/",
          "height": 36
        },
        "id": "rqB52BDtFZg-",
        "outputId": "f86e7443-a50f-42af-dd02-57289c7f7eb1"
      },
      "execution_count": 5,
      "outputs": [
        {
          "output_type": "execute_result",
          "data": {
            "text/plain": [
              "'Thor'"
            ],
            "application/vnd.google.colaboratory.intrinsic+json": {
              "type": "string"
            }
          },
          "metadata": {},
          "execution_count": 5
        }
      ]
    },
    {
      "cell_type": "code",
      "source": [
        "marvel_dict[\"alibies\"][0]"
      ],
      "metadata": {
        "colab": {
          "base_uri": "https://localhost:8080/",
          "height": 36
        },
        "id": "wKysWc5qFia7",
        "outputId": "86575008-49e8-4923-acaa-4ef8319fda2c"
      },
      "execution_count": 6,
      "outputs": [
        {
          "output_type": "execute_result",
          "data": {
            "text/plain": [
              "'Ironman'"
            ],
            "application/vnd.google.colaboratory.intrinsic+json": {
              "type": "string"
            }
          },
          "metadata": {},
          "execution_count": 6
        }
      ]
    },
    {
      "cell_type": "markdown",
      "source": [
        "### Functions and Methods:"
      ],
      "metadata": {
        "id": "snhb-RZ7FxfG"
      }
    },
    {
      "cell_type": "markdown",
      "source": [
        "keys() method returns the list of keys in the dictionary object"
      ],
      "metadata": {
        "id": "Z2jmBs6yF4qJ"
      }
    },
    {
      "cell_type": "code",
      "source": [
        "marvel_dict.keys()"
      ],
      "metadata": {
        "colab": {
          "base_uri": "https://localhost:8080/"
        },
        "id": "LYuW71eKFrog",
        "outputId": "76ddbfa7-a399-4819-8aee-9f6fcb4771f7"
      },
      "execution_count": 7,
      "outputs": [
        {
          "output_type": "execute_result",
          "data": {
            "text/plain": [
              "dict_keys(['Name', 'Place', 'Weapon', 1, 3, 'alibies', 'abc'])"
            ]
          },
          "metadata": {},
          "execution_count": 7
        }
      ]
    },
    {
      "cell_type": "markdown",
      "source": [
        "values() method returns the list of values in the dictionary object"
      ],
      "metadata": {
        "id": "gvoW2imcGDfJ"
      }
    },
    {
      "cell_type": "code",
      "source": [
        "marvel_dict.values()"
      ],
      "metadata": {
        "colab": {
          "base_uri": "https://localhost:8080/"
        },
        "id": "Wz1KS0GoF940",
        "outputId": "64f0b9c3-96b4-406c-b64a-6712094da5f3"
      },
      "execution_count": 10,
      "outputs": [
        {
          "output_type": "execute_result",
          "data": {
            "text/plain": [
              "dict_values(['Thor', 'Asgard', 'Hammer', 2, 'power', ['Ironman', 'Captain America'], {1: 2, 4: 5}])"
            ]
          },
          "metadata": {},
          "execution_count": 10
        }
      ]
    },
    {
      "cell_type": "markdown",
      "source": [
        "items() method returns the list of the keys and values (seperated by commas in tuple)"
      ],
      "metadata": {
        "id": "9PbLWkwJGMwp"
      }
    },
    {
      "cell_type": "code",
      "source": [
        "marvel_dict.items()"
      ],
      "metadata": {
        "colab": {
          "base_uri": "https://localhost:8080/"
        },
        "id": "uaVfYHIiGFrO",
        "outputId": "22682a0e-eb58-4f11-ca8d-d9e7035f4fd6"
      },
      "execution_count": 11,
      "outputs": [
        {
          "output_type": "execute_result",
          "data": {
            "text/plain": [
              "dict_items([('Name', 'Thor'), ('Place', 'Asgard'), ('Weapon', 'Hammer'), (1, 2), (3, 'power'), ('alibies', ['Ironman', 'Captain America']), ('abc', {1: 2, 4: 5})])"
            ]
          },
          "metadata": {},
          "execution_count": 11
        }
      ]
    },
    {
      "cell_type": "markdown",
      "source": [
        "get() method takes the key as an argument and returns None if the key is not found in the dictionary.\n",
        "\n",
        "We can also set the value to return if a key is not found. This will be passed as the second argument in get()"
      ],
      "metadata": {
        "id": "yWudPnVIGWIS"
      }
    },
    {
      "cell_type": "code",
      "source": [
        "marvel_dict.get('power','not found')"
      ],
      "metadata": {
        "colab": {
          "base_uri": "https://localhost:8080/",
          "height": 36
        },
        "id": "8h6sbW7hGJiy",
        "outputId": "ba154e46-171c-46d8-a9fe-22ed074fb47f"
      },
      "execution_count": 12,
      "outputs": [
        {
          "output_type": "execute_result",
          "data": {
            "text/plain": [
              "'not found'"
            ],
            "application/vnd.google.colaboratory.intrinsic+json": {
              "type": "string"
            }
          },
          "metadata": {},
          "execution_count": 12
        }
      ]
    },
    {
      "cell_type": "code",
      "source": [
        "marvel_dict.get('power')"
      ],
      "metadata": {
        "id": "7CChdCWOGh3s"
      },
      "execution_count": 13,
      "outputs": []
    },
    {
      "cell_type": "markdown",
      "source": [
        "Its important to note that dictionaries are very flexible in the data types they can hold. For example:"
      ],
      "metadata": {
        "id": "kqwNg1qjGvOb"
      }
    },
    {
      "cell_type": "code",
      "source": [
        "employee_dict = {'Name':'Sanket','Skills':['Python','Machine Learning','Deep Learning'],'Band':6.0,'Promotion Year':[2016,2018,2020]}"
      ],
      "metadata": {
        "id": "3mYzv8YmGqLL"
      },
      "execution_count": 14,
      "outputs": []
    },
    {
      "cell_type": "markdown",
      "source": [
        "len() function provides the number of keys or values inside the dictionary"
      ],
      "metadata": {
        "id": "K1gfIHDfG1ps"
      }
    },
    {
      "cell_type": "code",
      "source": [
        "len(marvel_dict)"
      ],
      "metadata": {
        "colab": {
          "base_uri": "https://localhost:8080/"
        },
        "id": "8rZlyU8LGw1Z",
        "outputId": "e4c1c840-5d3d-4bfd-bbad-aaaae9357e4d"
      },
      "execution_count": 15,
      "outputs": [
        {
          "output_type": "execute_result",
          "data": {
            "text/plain": [
              "7"
            ]
          },
          "metadata": {},
          "execution_count": 15
        }
      ]
    },
    {
      "cell_type": "markdown",
      "source": [
        "update()\n",
        "\n",
        "You can add an element which is a key-value pair using the update() method\n",
        "\n",
        "This method takes a dictionary as an argument\n",
        "\n",
        "We can also use the update() method to update the existing values for a key"
      ],
      "metadata": {
        "id": "ZEBVd2qQHDyL"
      }
    },
    {
      "cell_type": "code",
      "source": [
        "marvel_dict.update({'friend':'hulk'})\n",
        "marvel_dict"
      ],
      "metadata": {
        "colab": {
          "base_uri": "https://localhost:8080/"
        },
        "id": "TpjLoPl4G73W",
        "outputId": "9fbbb85b-2fcb-4d01-a89a-3d8329e82511"
      },
      "execution_count": 18,
      "outputs": [
        {
          "output_type": "execute_result",
          "data": {
            "text/plain": [
              "{'Name': 'Thor',\n",
              " 'Place': 'Asgard',\n",
              " 'Weapon': 'Hammer',\n",
              " 1: 2,\n",
              " 3: 'power',\n",
              " 'alibies': ['Ironman', 'Captain America'],\n",
              " 'abc': {1: 2, 4: 5},\n",
              " 'friend': 'hulk'}"
            ]
          },
          "metadata": {},
          "execution_count": 18
        }
      ]
    },
    {
      "cell_type": "markdown",
      "source": [
        "dict()\n",
        "\n",
        "We can also create dictionary objects from sequence of items which are pairs.\n",
        "\n",
        "This is done using the dict()method\n",
        "\n",
        "dict() function takes the list of paired elements as argument"
      ],
      "metadata": {
        "id": "ucbttrSYHaEe"
      }
    },
    {
      "cell_type": "code",
      "source": [
        "country_list = ['India','Australia','United States','England']\n",
        "city_list = ['New Delhi', 'Canberra' , 'Washington DC','London']\n",
        "\n",
        "dict_of_countries = dict(zip(country_list, city_list))\n",
        "\n",
        "print(dict_of_countries)"
      ],
      "metadata": {
        "colab": {
          "base_uri": "https://localhost:8080/"
        },
        "id": "ldh8tO3QHK9D",
        "outputId": "afd1f247-496a-4535-b419-e1cbd4e7c194"
      },
      "execution_count": 20,
      "outputs": [
        {
          "output_type": "stream",
          "name": "stdout",
          "text": [
            "{'India': 'New Delhi', 'Australia': 'Canberra', 'United States': 'Washington DC', 'England': 'London'}\n"
          ]
        }
      ]
    },
    {
      "cell_type": "markdown",
      "source": [
        "pop() method removes and returns an element from a dictionary having the given key.\n",
        "\n",
        "This method takes two arguments/parameters (i) key - key which is to be searched for removal, (ii) default - value which is to be returned when the key is not in the dictionary\n",
        "\n"
      ],
      "metadata": {
        "id": "yw3aYCtMHxCY"
      }
    },
    {
      "cell_type": "code",
      "source": [
        "dict_of_countries.pop('England')"
      ],
      "metadata": {
        "colab": {
          "base_uri": "https://localhost:8080/",
          "height": 36
        },
        "id": "mm0jjpUfHq2O",
        "outputId": "1a364025-1ccf-4f06-c4d9-d9831681376b"
      },
      "execution_count": 22,
      "outputs": [
        {
          "output_type": "execute_result",
          "data": {
            "text/plain": [
              "'London'"
            ],
            "application/vnd.google.colaboratory.intrinsic+json": {
              "type": "string"
            }
          },
          "metadata": {},
          "execution_count": 22
        }
      ]
    },
    {
      "cell_type": "code",
      "source": [
        "dict_of_countries"
      ],
      "metadata": {
        "colab": {
          "base_uri": "https://localhost:8080/"
        },
        "id": "X-Ok9NvcH44P",
        "outputId": "7b872fa6-a1e8-4228-d85b-bb348f110761"
      },
      "execution_count": 23,
      "outputs": [
        {
          "output_type": "execute_result",
          "data": {
            "text/plain": [
              "{'India': 'New Delhi',\n",
              " 'Australia': 'Canberra',\n",
              " 'United States': 'Washington DC'}"
            ]
          },
          "metadata": {},
          "execution_count": 23
        }
      ]
    },
    {
      "cell_type": "code",
      "source": [
        "[(i, j) for i, j in dict_of_countries.items()]"
      ],
      "metadata": {
        "id": "w2W21R2_MD3G",
        "outputId": "c0fae2a1-724f-42e3-fb98-ee1531c6ef96",
        "colab": {
          "base_uri": "https://localhost:8080/"
        }
      },
      "execution_count": 43,
      "outputs": [
        {
          "output_type": "execute_result",
          "data": {
            "text/plain": [
              "[('India', 'New Delhi'),\n",
              " ('Australia', 'Canberra'),\n",
              " ('United States', 'Washington DC')]"
            ]
          },
          "metadata": {},
          "execution_count": 43
        }
      ]
    },
    {
      "cell_type": "markdown",
      "metadata": {
        "id": "LIQYbLZD4tmG"
      },
      "source": [
        "## for loops\n",
        "\n",
        "A <code>for</code> loop acts as an iterator in Python; it goes through items that are in a *sequence* or any other iterable item. Iterable is an object, which one can iterate over. Objects that we've learned about that we can iterate over include strings, lists, tuples, and even built-in iterables for dictionaries, such as keys or values.\n",
        "\n",
        "Here's the general format for a <code>for</code> loop in Python:\n",
        "\n",
        "    for item in object:\n",
        "        statements to do stuff"
      ]
    },
    {
      "cell_type": "code",
      "source": [
        "# Consider a list of strings\n",
        "\n",
        "got_houses = ['Stark', 'Arryn', 'Baratheon', 'Tully', 'Greyjoy', 'Lannister', 'Tyrell', 'Martell', 'Targaryen']\n",
        "\n",
        "for i in got_houses:\n",
        "  print(i)"
      ],
      "metadata": {
        "id": "7mUbo9xyJCJa",
        "outputId": "f903e92b-463f-4cdb-8ef6-848a2977f480",
        "colab": {
          "base_uri": "https://localhost:8080/"
        }
      },
      "execution_count": 24,
      "outputs": [
        {
          "output_type": "stream",
          "name": "stdout",
          "text": [
            "Stark\n",
            "Arryn\n",
            "Baratheon\n",
            "Tully\n",
            "Greyjoy\n",
            "Lannister\n",
            "Tyrell\n",
            "Martell\n",
            "Targaryen\n"
          ]
        }
      ]
    },
    {
      "cell_type": "markdown",
      "source": [
        "Another interesting way to loop through the elements of a list is to use the enumerate() function. Using enumerate requires us two iterators index and element"
      ],
      "metadata": {
        "id": "GQkx34D-JL-x"
      }
    },
    {
      "cell_type": "code",
      "source": [
        "got_houses = ['Stark', 'Arryn', 'Baratheon', 'Tully', 'Greyjoy', 'Lannister', 'Tyrell', 'Martell', 'Targaryen']\n",
        "\n",
        "for i, j in enumerate(got_houses):\n",
        "  print(i, j)"
      ],
      "metadata": {
        "id": "9GPx6veHJI1D",
        "outputId": "d7936da5-ad5c-4efe-874d-7fb910171614",
        "colab": {
          "base_uri": "https://localhost:8080/"
        }
      },
      "execution_count": 25,
      "outputs": [
        {
          "output_type": "stream",
          "name": "stdout",
          "text": [
            "0 Stark\n",
            "1 Arryn\n",
            "2 Baratheon\n",
            "3 Tully\n",
            "4 Greyjoy\n",
            "5 Lannister\n",
            "6 Tyrell\n",
            "7 Martell\n",
            "8 Targaryen\n"
          ]
        }
      ]
    },
    {
      "cell_type": "markdown",
      "source": [
        "range() function is a pretty useful function to get a sequence of numbers. It takes three arguments : start, stop, step"
      ],
      "metadata": {
        "id": "umhVOMU2JWgM"
      }
    },
    {
      "cell_type": "code",
      "source": [
        "# Let us first print the squares\n",
        "for number in range(0,10,2):\n",
        "  squared_number = number**2\n",
        "  print(f\"The square of {number} is {squared_number}\")"
      ],
      "metadata": {
        "id": "65AjWGKLJRlS",
        "outputId": "2895c7a2-74dd-42cf-a046-b003266e6ca9",
        "colab": {
          "base_uri": "https://localhost:8080/"
        }
      },
      "execution_count": 26,
      "outputs": [
        {
          "output_type": "stream",
          "name": "stdout",
          "text": [
            "The square of 0 is 0\n",
            "The square of 2 is 4\n",
            "The square of 4 is 16\n",
            "The square of 6 is 36\n",
            "The square of 8 is 64\n"
          ]
        }
      ]
    },
    {
      "cell_type": "markdown",
      "metadata": {
        "id": "gIk7P1Z9kDt6"
      },
      "source": [
        "## <u>While Loops </u>\n",
        "\n",
        "### The <code>while</code> statement in Python is one of the most general ways to perform iteration. A <code>while</code> statement will repeatedly execute a single statement or group of statements as long as the condition is true. The reason it is called a 'loop' is because the code statements are looped through over and over again until the condition is no longer met.\n",
        "\n",
        "### The general format of a while loop is:\n",
        "\n",
        "    while test:\n",
        "        code statements\n",
        "    else:\n",
        "        final code statements\n",
        "\n",
        "### Let’s look at a few simple <code>while</code> loops in action."
      ]
    },
    {
      "cell_type": "code",
      "source": [
        "x = 0\n",
        "\n",
        "while x < 10:\n",
        "  print('x is currently: ',x)\n",
        "  print('x is still less than 10, adding 1 to x')\n",
        "  x=x+1"
      ],
      "metadata": {
        "id": "o-M8uJcAJayx",
        "outputId": "7b0cd9d6-7eb7-4211-c0ec-3210fe9c73ca",
        "colab": {
          "base_uri": "https://localhost:8080/"
        }
      },
      "execution_count": 27,
      "outputs": [
        {
          "output_type": "stream",
          "name": "stdout",
          "text": [
            "x is currently:  0\n",
            "x is still less than 10, adding 1 to x\n",
            "x is currently:  1\n",
            "x is still less than 10, adding 1 to x\n",
            "x is currently:  2\n",
            "x is still less than 10, adding 1 to x\n",
            "x is currently:  3\n",
            "x is still less than 10, adding 1 to x\n",
            "x is currently:  4\n",
            "x is still less than 10, adding 1 to x\n",
            "x is currently:  5\n",
            "x is still less than 10, adding 1 to x\n",
            "x is currently:  6\n",
            "x is still less than 10, adding 1 to x\n",
            "x is currently:  7\n",
            "x is still less than 10, adding 1 to x\n",
            "x is currently:  8\n",
            "x is still less than 10, adding 1 to x\n",
            "x is currently:  9\n",
            "x is still less than 10, adding 1 to x\n"
          ]
        }
      ]
    },
    {
      "cell_type": "markdown",
      "metadata": {
        "id": "5u30qd4ZlcXS"
      },
      "source": [
        "## break, continue, pass\n",
        "\n",
        "### We can use <code>break</code>, <code>continue</code>, and <code>pass</code> statements in our loops to add additional functionality for various cases. The three statements are defined by:\n",
        "\n",
        "    break: Breaks out of the current closest enclosing loop.\n",
        "    continue: Goes to the top of the closest enclosing loop.\n",
        "    pass: Does nothing at all.\n",
        "    \n",
        "    \n",
        "### Thinking about <code>break</code> and <code>continue</code> statements, the general format of the <code>while</code> loop looks like this:\n",
        "\n",
        "    while test:\n",
        "        code statement\n",
        "        if test:\n",
        "            break\n",
        "        if test:\n",
        "            continue\n",
        "    else:\n",
        "\n",
        "### <code>break</code> and <code>continue</code> statements can appear anywhere inside the loop’s body, but we will usually put them further nested in conjunction with an <code>if</code> statement to perform an action based on some condition.\n"
      ]
    },
    {
      "cell_type": "code",
      "source": [
        "x = 0\n",
        "\n",
        "while x < 10:\n",
        "  print('x is currently: ',x)\n",
        "  print(' x is still less than 10, adding 1 to x')\n",
        "  x+=1\n",
        "  if x==3:\n",
        "    print('x==3')\n",
        "    break\n",
        "  else:\n",
        "    print('continuing...')\n",
        "    continue"
      ],
      "metadata": {
        "id": "WjBTH31zKHSa",
        "outputId": "dca955de-36d8-4954-9433-c89fe79f1b7a",
        "colab": {
          "base_uri": "https://localhost:8080/"
        }
      },
      "execution_count": 30,
      "outputs": [
        {
          "output_type": "stream",
          "name": "stdout",
          "text": [
            "x is currently:  0\n",
            " x is still less than 10, adding 1 to x\n",
            "continuing...\n",
            "x is currently:  1\n",
            " x is still less than 10, adding 1 to x\n",
            "continuing...\n",
            "x is currently:  2\n",
            " x is still less than 10, adding 1 to x\n",
            "x==3\n"
          ]
        }
      ]
    },
    {
      "cell_type": "markdown",
      "source": [
        "## List Comprehensions\n",
        "\n",
        "List comprehensions are a tool for transforming one list (any iterable actually) into another list. During this transformation, elements can be conditionally included in the new list and each element can be transformed as needed.\n",
        "List comprehensions in Python are great, but mastering them can be tricky because they don’t solve a new problem: they just provide a new syntax to solve an existing problem."
      ],
      "metadata": {
        "id": "ecqmQVW9LGx1"
      }
    },
    {
      "cell_type": "code",
      "source": [
        "# The list of numbers\n",
        "list_of_numbers = [1, 2, 4, 6, 11, 14, 17, 20]\n",
        "\n",
        "# Let us first initialize a list where we will be appending the squares in each iteration\n",
        "\n",
        "squared_numbers = []\n",
        "\n",
        "for number in list_of_numbers:\n",
        "  # Use the append method to add the numbers one by one to our list\n",
        "  squared_numbers.append(number**2)\n",
        "  # print(squared_numbers)\n",
        "\n",
        "print(f\"The list of squared numbers is {squared_numbers}\")"
      ],
      "metadata": {
        "id": "XtBt2LyBKlgV",
        "outputId": "e58c65ed-1b35-4f2d-96ba-891512b118d5",
        "colab": {
          "base_uri": "https://localhost:8080/"
        }
      },
      "execution_count": 31,
      "outputs": [
        {
          "output_type": "stream",
          "name": "stdout",
          "text": [
            "The list of squared numbers is [1, 4, 16, 36, 121, 196, 289, 400]\n"
          ]
        }
      ]
    },
    {
      "cell_type": "code",
      "source": [
        "# Getting the list of squares using list comprehension\n",
        "squared_numbers = [number**2 for number in list_of_numbers]\n",
        "print(squared_numbers)"
      ],
      "metadata": {
        "id": "zepUeiidLO-k",
        "outputId": "b57c717c-4481-4e8d-9731-e246f2b3d4d7",
        "colab": {
          "base_uri": "https://localhost:8080/"
        }
      },
      "execution_count": 32,
      "outputs": [
        {
          "output_type": "stream",
          "name": "stdout",
          "text": [
            "[1, 4, 16, 36, 121, 196, 289, 400]\n"
          ]
        }
      ]
    },
    {
      "cell_type": "markdown",
      "source": [
        "Suppose we wanted to get the squares of only those numbers which are even"
      ],
      "metadata": {
        "id": "u5eGC3MMLW8F"
      }
    },
    {
      "cell_type": "code",
      "source": [
        "print([number**2 for number in list_of_numbers if number%2==0])"
      ],
      "metadata": {
        "id": "YAN40H-ULTSQ",
        "outputId": "b637cdc4-ef76-41ab-b852-0f164e7f1778",
        "colab": {
          "base_uri": "https://localhost:8080/"
        }
      },
      "execution_count": 36,
      "outputs": [
        {
          "output_type": "stream",
          "name": "stdout",
          "text": [
            "[4, 16, 36, 196, 400]\n"
          ]
        }
      ]
    },
    {
      "cell_type": "code",
      "source": [
        "print([number**2 if number%2==0 else number**5 for number in list_of_numbers])"
      ],
      "metadata": {
        "id": "krY9yOOhLdlv",
        "outputId": "ef80b8c0-8945-40e9-e359-3150738a0a34",
        "colab": {
          "base_uri": "https://localhost:8080/"
        }
      },
      "execution_count": 37,
      "outputs": [
        {
          "output_type": "stream",
          "name": "stdout",
          "text": [
            "[1, 4, 16, 36, 161051, 196, 1419857, 400]\n"
          ]
        }
      ]
    },
    {
      "cell_type": "markdown",
      "source": [
        "**A list comprehension consists of the following parts:**\n",
        "\n",
        "An Input Sequence.\n",
        "\n",
        "A Variable representing members of the input sequence.\n",
        "\n",
        "An Optional Predicate expression.\n",
        "\n",
        "An Output Expression producing elements of the output list from members of the Input Sequence that satisfy the predicate."
      ],
      "metadata": {
        "id": "eQESXViSL24l"
      }
    },
    {
      "cell_type": "code",
      "source": [],
      "metadata": {
        "id": "WvyZp7g7Lk0p"
      },
      "execution_count": null,
      "outputs": []
    }
  ]
}