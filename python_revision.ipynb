{
  "nbformat": 4,
  "nbformat_minor": 0,
  "metadata": {
    "colab": {
      "provenance": [],
      "collapsed_sections": [
        "Nlo80uD9-7Cy"
      ],
      "authorship_tag": "ABX9TyNAi/1rpFDCJYSx+jsibAYS",
      "include_colab_link": true
    },
    "kernelspec": {
      "name": "python3",
      "display_name": "Python 3"
    },
    "language_info": {
      "name": "python"
    }
  },
  "cells": [
    {
      "cell_type": "markdown",
      "metadata": {
        "id": "view-in-github",
        "colab_type": "text"
      },
      "source": [
        "<a href=\"https://colab.research.google.com/github/dhar9571/python_revision/blob/main/python_revision.ipynb\" target=\"_parent\"><img src=\"https://colab.research.google.com/assets/colab-badge.svg\" alt=\"Open In Colab\"/></a>"
      ]
    },
    {
      "cell_type": "markdown",
      "source": [
        "## Strings"
      ],
      "metadata": {
        "id": "Nlo80uD9-7Cy"
      }
    },
    {
      "cell_type": "markdown",
      "source": [
        "Strings are used in Python to record text information, such as names. It could either be a word, a phrase, a sentence, a paragraph or an entire encyclopedia.\n",
        "\n",
        "Strings are immutable which means once assigned, the elements of a strings cannot be changed"
      ],
      "metadata": {
        "id": "1YK_INzb-9q6"
      }
    },
    {
      "cell_type": "code",
      "metadata": {
        "id": "XMd1nYlKmr0p",
        "colab": {
          "base_uri": "https://localhost:8080/",
          "height": 35
        },
        "outputId": "bc9c342e-578d-442c-fb90-2b10fed611f7"
      },
      "source": [
        "# Single word\n",
        "my_first_string= 'algebra'\n",
        "my_first_string"
      ],
      "execution_count": 1,
      "outputs": [
        {
          "output_type": "execute_result",
          "data": {
            "text/plain": [
              "'algebra'"
            ],
            "application/vnd.google.colaboratory.intrinsic+json": {
              "type": "string"
            }
          },
          "metadata": {},
          "execution_count": 1
        }
      ]
    },
    {
      "cell_type": "code",
      "metadata": {
        "id": "iaz2basTmr0t",
        "colab": {
          "base_uri": "https://localhost:8080/"
        },
        "outputId": "185e6d90-f8a1-4271-c8e3-c2b0d42c3b15"
      },
      "source": [
        "# Entire phrase\n",
        "phrase = 'Statistics sits at the heart of machine learning'\n",
        "print(phrase)"
      ],
      "execution_count": 7,
      "outputs": [
        {
          "output_type": "stream",
          "name": "stdout",
          "text": [
            "Statistics sits at the heart of machine learning\n"
          ]
        }
      ]
    },
    {
      "cell_type": "code",
      "source": [
        "my_first_string[1]"
      ],
      "metadata": {
        "colab": {
          "base_uri": "https://localhost:8080/",
          "height": 35
        },
        "id": "UbzCuxEo_t35",
        "outputId": "126c7691-313c-4181-e763-3ba447a0e51e"
      },
      "execution_count": 4,
      "outputs": [
        {
          "output_type": "execute_result",
          "data": {
            "text/plain": [
              "'l'"
            ],
            "application/vnd.google.colaboratory.intrinsic+json": {
              "type": "string"
            }
          },
          "metadata": {},
          "execution_count": 4
        }
      ]
    },
    {
      "cell_type": "markdown",
      "source": [
        "Strings do not support item assignments"
      ],
      "metadata": {
        "id": "vhU0Djti_7QZ"
      }
    },
    {
      "cell_type": "code",
      "source": [
        "my_first_string[:3]"
      ],
      "metadata": {
        "colab": {
          "base_uri": "https://localhost:8080/",
          "height": 35
        },
        "id": "dzQdtr1IAI4B",
        "outputId": "ad52848a-e9eb-4e4f-e5d4-d582ea763347"
      },
      "execution_count": 5,
      "outputs": [
        {
          "output_type": "execute_result",
          "data": {
            "text/plain": [
              "'alg'"
            ],
            "application/vnd.google.colaboratory.intrinsic+json": {
              "type": "string"
            }
          },
          "metadata": {},
          "execution_count": 5
        }
      ]
    },
    {
      "cell_type": "markdown",
      "source": [
        "#### Functions and Methods:"
      ],
      "metadata": {
        "id": "sNwJk5Kz_rm5"
      }
    },
    {
      "cell_type": "markdown",
      "source": [
        "lower() method converts the string to uppercase"
      ],
      "metadata": {
        "id": "BTWNjLsIBWEh"
      }
    },
    {
      "cell_type": "code",
      "source": [
        "phrase.lower()"
      ],
      "metadata": {
        "colab": {
          "base_uri": "https://localhost:8080/",
          "height": 35
        },
        "id": "CqO5ddsEBA8h",
        "outputId": "1103df7b-073c-4618-b05b-3b01b9703cda"
      },
      "execution_count": 8,
      "outputs": [
        {
          "output_type": "execute_result",
          "data": {
            "text/plain": [
              "'statistics sits at the heart of machine learning'"
            ],
            "application/vnd.google.colaboratory.intrinsic+json": {
              "type": "string"
            }
          },
          "metadata": {},
          "execution_count": 8
        }
      ]
    },
    {
      "cell_type": "markdown",
      "source": [
        "upper() method converts the string to uppercase"
      ],
      "metadata": {
        "id": "WnMeqWYDBUPS"
      }
    },
    {
      "cell_type": "code",
      "source": [
        "phrase.upper()"
      ],
      "metadata": {
        "colab": {
          "base_uri": "https://localhost:8080/",
          "height": 35
        },
        "id": "v6hVhdAKBA6R",
        "outputId": "749dffa4-14d5-443e-bfbe-49badb00cbcb"
      },
      "execution_count": 9,
      "outputs": [
        {
          "output_type": "execute_result",
          "data": {
            "text/plain": [
              "'STATISTICS SITS AT THE HEART OF MACHINE LEARNING'"
            ],
            "application/vnd.google.colaboratory.intrinsic+json": {
              "type": "string"
            }
          },
          "metadata": {},
          "execution_count": 9
        }
      ]
    },
    {
      "cell_type": "markdown",
      "source": [
        "len returns length of the string"
      ],
      "metadata": {
        "id": "F59i7D03Boks"
      }
    },
    {
      "cell_type": "code",
      "source": [
        "len(phrase)"
      ],
      "metadata": {
        "colab": {
          "base_uri": "https://localhost:8080/"
        },
        "id": "3DBlgMK2BA4T",
        "outputId": "75ded552-b5e7-49cc-ed4d-9766627d79e2"
      },
      "execution_count": 12,
      "outputs": [
        {
          "output_type": "execute_result",
          "data": {
            "text/plain": [
              "48"
            ]
          },
          "metadata": {},
          "execution_count": 12
        }
      ]
    },
    {
      "cell_type": "markdown",
      "source": [
        "count counts the total number of given in a string"
      ],
      "metadata": {
        "id": "UADOzFHLBaib"
      }
    },
    {
      "cell_type": "code",
      "source": [
        "phrase.count('si')"
      ],
      "metadata": {
        "colab": {
          "base_uri": "https://localhost:8080/"
        },
        "id": "HyeHA8cSBICZ",
        "outputId": "e4b845f0-9e19-4d42-8bc1-2c72118e53bd"
      },
      "execution_count": 11,
      "outputs": [
        {
          "output_type": "execute_result",
          "data": {
            "text/plain": [
              "1"
            ]
          },
          "metadata": {},
          "execution_count": 11
        }
      ]
    },
    {
      "cell_type": "markdown",
      "source": [
        "find() method returns the index of the first occurrence of a string present in a given string"
      ],
      "metadata": {
        "id": "8QKXeQkvCUzZ"
      }
    },
    {
      "cell_type": "code",
      "source": [
        "phrase.find('si')"
      ],
      "metadata": {
        "colab": {
          "base_uri": "https://localhost:8080/"
        },
        "id": "EGc0SZFZBIAR",
        "outputId": "70d611e0-29f0-4a96-99e9-f7dcd8e60e36"
      },
      "execution_count": 13,
      "outputs": [
        {
          "output_type": "execute_result",
          "data": {
            "text/plain": [
              "11"
            ]
          },
          "metadata": {},
          "execution_count": 13
        }
      ]
    },
    {
      "cell_type": "markdown",
      "source": [
        "replace() method takes two arguments - (i) the string to replace and (ii) the string to replace with, and returns a modified string after the operation"
      ],
      "metadata": {
        "id": "y1RhGv4MCg1p"
      }
    },
    {
      "cell_type": "code",
      "source": [
        "print(phrase)"
      ],
      "metadata": {
        "colab": {
          "base_uri": "https://localhost:8080/"
        },
        "id": "LtTlhumNBH7R",
        "outputId": "0176c924-6679-488d-9ebf-9acd1f866ba6"
      },
      "execution_count": 17,
      "outputs": [
        {
          "output_type": "stream",
          "name": "stdout",
          "text": [
            "Statistics sits at the heart of machine learning\n"
          ]
        }
      ]
    },
    {
      "cell_type": "code",
      "source": [
        "phrase.replace('Statistics', 'maths')"
      ],
      "metadata": {
        "colab": {
          "base_uri": "https://localhost:8080/",
          "height": 35
        },
        "id": "Kv4SX7EjClah",
        "outputId": "cc4a7b1d-7fea-44d7-9f9e-14689b35c7a1"
      },
      "execution_count": 16,
      "outputs": [
        {
          "output_type": "execute_result",
          "data": {
            "text/plain": [
              "'maths sits at the heart of machine learning'"
            ],
            "application/vnd.google.colaboratory.intrinsic+json": {
              "type": "string"
            }
          },
          "metadata": {},
          "execution_count": 16
        }
      ]
    },
    {
      "cell_type": "markdown",
      "source": [
        "Check if a string contains a particular word or character"
      ],
      "metadata": {
        "id": "J7IPif3kC9ii"
      }
    },
    {
      "cell_type": "code",
      "source": [
        "'maths' in phrase"
      ],
      "metadata": {
        "colab": {
          "base_uri": "https://localhost:8080/"
        },
        "id": "43wIpy9EClYA",
        "outputId": "1132b1f6-0ab8-4636-f858-843a6d827866"
      },
      "execution_count": 18,
      "outputs": [
        {
          "output_type": "execute_result",
          "data": {
            "text/plain": [
              "False"
            ]
          },
          "metadata": {},
          "execution_count": 18
        }
      ]
    },
    {
      "cell_type": "code",
      "source": [],
      "metadata": {
        "id": "MRBC5OIyClVg"
      },
      "execution_count": null,
      "outputs": []
    },
    {
      "cell_type": "markdown",
      "source": [],
      "metadata": {
        "id": "6aKVZQZ5A-PC"
      }
    },
    {
      "cell_type": "markdown",
      "source": [
        "##Lists"
      ],
      "metadata": {
        "id": "8EGZ3S6796YS"
      }
    },
    {
      "cell_type": "markdown",
      "source": [
        "Lists can be thought of the most general version of a sequence in Python.\n",
        "\n",
        "Unlike strings, they are mutable, meaning the elements inside a list can be changed!\n",
        "\n",
        "Lists are constructed with brackets [] and commas separating every element in the list."
      ],
      "metadata": {
        "id": "5gZ1gEVm-iRq"
      }
    },
    {
      "cell_type": "code",
      "source": [
        "# Assign a list to an variable named my_list\n",
        "my_list = [1,2,3,4]"
      ],
      "metadata": {
        "id": "RVDpKodt977D"
      },
      "execution_count": 19,
      "outputs": []
    },
    {
      "cell_type": "code",
      "source": [
        "type(my_list)"
      ],
      "metadata": {
        "colab": {
          "base_uri": "https://localhost:8080/"
        },
        "id": "EjkBj8ZED-yo",
        "outputId": "6412229b-20f4-42f7-ab2f-69197eb4fb89"
      },
      "execution_count": 21,
      "outputs": [
        {
          "output_type": "execute_result",
          "data": {
            "text/plain": [
              "list"
            ]
          },
          "metadata": {},
          "execution_count": 21
        }
      ]
    },
    {
      "cell_type": "code",
      "source": [
        "my_list = ['A string',23,100.232,'o',True]"
      ],
      "metadata": {
        "id": "m_nizTBpEAm0"
      },
      "execution_count": 22,
      "outputs": []
    },
    {
      "cell_type": "code",
      "source": [
        "# Consider a list of strings\n",
        "loss_functions = ['Mean Absolute Error','Mean Squared Error','Huber Loss','Log Loss','Hinge Loss']\n",
        "print(loss_functions)"
      ],
      "metadata": {
        "colab": {
          "base_uri": "https://localhost:8080/"
        },
        "id": "581sGg2BEFg4",
        "outputId": "9fcf2866-d6b7-45fb-accb-99546e0acccc"
      },
      "execution_count": 28,
      "outputs": [
        {
          "output_type": "stream",
          "name": "stdout",
          "text": [
            "['Mean Absolute Error', 'Mean Squared Error', 'Huber Loss', 'Log Loss', 'Hinge Loss']\n"
          ]
        }
      ]
    },
    {
      "cell_type": "code",
      "source": [
        "# Grab the element at index 0, which is the FIRST element\n",
        "print(loss_functions[0])"
      ],
      "metadata": {
        "colab": {
          "base_uri": "https://localhost:8080/"
        },
        "id": "jstCsLvBEJ9k",
        "outputId": "68e991d4-dd92-42b4-e2ca-d4fe7d912d4d"
      },
      "execution_count": 24,
      "outputs": [
        {
          "output_type": "stream",
          "name": "stdout",
          "text": [
            "Mean Absolute Error\n"
          ]
        }
      ]
    },
    {
      "cell_type": "code",
      "source": [
        "# lists concatination\n",
        "\n",
        "loss_functions = loss_functions + ['Root Mean Squared Error']\n",
        "print(loss_functions)"
      ],
      "metadata": {
        "colab": {
          "base_uri": "https://localhost:8080/"
        },
        "id": "axpFLJJFELqE",
        "outputId": "92702da4-7b3e-4610-fff3-6d90af8e70af"
      },
      "execution_count": 32,
      "outputs": [
        {
          "output_type": "stream",
          "name": "stdout",
          "text": [
            "['Mean Absolute Error', 'Mean Squared Error', 'Huber Loss', 'Log Loss', 'Hinge Loss', 'Root Mean Squared Error']\n"
          ]
        }
      ]
    },
    {
      "cell_type": "code",
      "source": [
        "loss_functions[::-1]"
      ],
      "metadata": {
        "colab": {
          "base_uri": "https://localhost:8080/"
        },
        "id": "6A0782RUEev5",
        "outputId": "ee16e8db-8a17-4db4-81d9-2e4850837279"
      },
      "execution_count": 27,
      "outputs": [
        {
          "output_type": "execute_result",
          "data": {
            "text/plain": [
              "['Root Mean Squared Error',\n",
              " 'Log Loss',\n",
              " 'Huber Loss',\n",
              " 'Mean Squared Error',\n",
              " 'Mean Absolute Error']"
            ]
          },
          "metadata": {},
          "execution_count": 27
        }
      ]
    },
    {
      "cell_type": "code",
      "source": [
        "# list multiplication:\n",
        "\n",
        "loss_functions*2"
      ],
      "metadata": {
        "colab": {
          "base_uri": "https://localhost:8080/"
        },
        "id": "x08mw1PqExgl",
        "outputId": "0b16af5a-ef73-4a03-c639-d62e259ed82e"
      },
      "execution_count": 34,
      "outputs": [
        {
          "output_type": "execute_result",
          "data": {
            "text/plain": [
              "['Mean Absolute Error',\n",
              " 'Mean Squared Error',\n",
              " 'Huber Loss',\n",
              " 'Log Loss',\n",
              " 'Hinge Loss',\n",
              " 'Root Mean Squared Error',\n",
              " 'Mean Absolute Error',\n",
              " 'Mean Squared Error',\n",
              " 'Huber Loss',\n",
              " 'Log Loss',\n",
              " 'Hinge Loss',\n",
              " 'Root Mean Squared Error']"
            ]
          },
          "metadata": {},
          "execution_count": 34
        }
      ]
    },
    {
      "cell_type": "markdown",
      "source": [
        "### Functions and Methods"
      ],
      "metadata": {
        "id": "N_F65Mn3FTkk"
      }
    },
    {
      "cell_type": "code",
      "source": [
        "# len() function returns the length of the list\n",
        "\n",
        "len(loss_functions)"
      ],
      "metadata": {
        "colab": {
          "base_uri": "https://localhost:8080/"
        },
        "id": "c8RjyoCwFMwn",
        "outputId": "bef20a07-6329-42fc-947b-6c1c062cb742"
      },
      "execution_count": 35,
      "outputs": [
        {
          "output_type": "execute_result",
          "data": {
            "text/plain": [
              "6"
            ]
          },
          "metadata": {},
          "execution_count": 35
        }
      ]
    },
    {
      "cell_type": "code",
      "source": [
        "# min() function returns the minimum element of the list\n",
        "# min() function only works with lists of similar data types\n",
        "\n",
        "new_list = [6, 9, 1, 3, 5.5]\n",
        "min(new_list)"
      ],
      "metadata": {
        "colab": {
          "base_uri": "https://localhost:8080/"
        },
        "id": "H_pie8XBFZe-",
        "outputId": "a1f8b900-07ac-4b5b-b3dc-c8ec9d711306"
      },
      "execution_count": 36,
      "outputs": [
        {
          "output_type": "execute_result",
          "data": {
            "text/plain": [
              "1"
            ]
          },
          "metadata": {},
          "execution_count": 36
        }
      ]
    },
    {
      "cell_type": "code",
      "source": [
        "# max() function returns the maximum element of the list\n",
        "# max() function only works with lists of similar data types\n",
        "\n",
        "max(new_list)"
      ],
      "metadata": {
        "colab": {
          "base_uri": "https://localhost:8080/"
        },
        "id": "pALWD-QtFj1D",
        "outputId": "c26ad490-f5bd-42cd-ad9a-7bee854c334b"
      },
      "execution_count": 37,
      "outputs": [
        {
          "output_type": "execute_result",
          "data": {
            "text/plain": [
              "9"
            ]
          },
          "metadata": {},
          "execution_count": 37
        }
      ]
    },
    {
      "cell_type": "code",
      "source": [
        "# sum() function returns the sum of the elements of the list\n",
        "# sum() function only works with lists of numeric data types\n",
        "\n",
        "sum(new_list)"
      ],
      "metadata": {
        "colab": {
          "base_uri": "https://localhost:8080/"
        },
        "id": "7BNQT26HF5AJ",
        "outputId": "ff00b228-c1b6-421e-a3a1-8bb62decc165"
      },
      "execution_count": 38,
      "outputs": [
        {
          "output_type": "execute_result",
          "data": {
            "text/plain": [
              "24.5"
            ]
          },
          "metadata": {},
          "execution_count": 38
        }
      ]
    },
    {
      "cell_type": "code",
      "source": [
        "# sorted() function returns the sorted list\n",
        "# sorted() function takes reverse boolean as an argument\n",
        "# sorted() function only works on a list with similar data types\n",
        "# sorted() function does not change our list\n",
        "\n",
        "sorted(new_list, reverse=False)"
      ],
      "metadata": {
        "colab": {
          "base_uri": "https://localhost:8080/"
        },
        "id": "rAmV-OvLF-sM",
        "outputId": "ff2505b2-d490-4260-b327-75d65e3c4867"
      },
      "execution_count": 43,
      "outputs": [
        {
          "output_type": "execute_result",
          "data": {
            "text/plain": [
              "[1, 3, 5.5, 6, 9]"
            ]
          },
          "metadata": {},
          "execution_count": 43
        }
      ]
    },
    {
      "cell_type": "code",
      "source": [
        "# Use the append() method to permanently add an item to the end of a list.\n",
        "# append() method takes the element which you want to add to the list as an argument\n",
        "\n",
        "print(new_list)\n",
        "new_list.append('come on')\n",
        "print(new_list)"
      ],
      "metadata": {
        "colab": {
          "base_uri": "https://localhost:8080/"
        },
        "id": "rbm3hke3GLCR",
        "outputId": "7db2afc9-1509-4278-8300-49fb8c6608c8"
      },
      "execution_count": 44,
      "outputs": [
        {
          "output_type": "stream",
          "name": "stdout",
          "text": [
            "[6, 9, 1, 3, 5.5]\n",
            "[6, 9, 1, 3, 5.5, 'come on']\n"
          ]
        }
      ]
    },
    {
      "cell_type": "code",
      "source": [
        "new_list.append([1,2,3])\n",
        "print(new_list)"
      ],
      "metadata": {
        "colab": {
          "base_uri": "https://localhost:8080/"
        },
        "id": "zdt3uX0yGodb",
        "outputId": "a92ffa6a-6261-464f-c4d7-26b3f3cbe54d"
      },
      "execution_count": 45,
      "outputs": [
        {
          "output_type": "stream",
          "name": "stdout",
          "text": [
            "[6, 9, 1, 3, 5.5, 'come on', [1, 2, 3]]\n"
          ]
        }
      ]
    },
    {
      "cell_type": "code",
      "source": [
        "# Use the extend() method to merge a list to an existing list\n",
        "# extend() method takes a list or any iterable as an argument.\n",
        "\n",
        "new_list.extend([7,8,9])\n",
        "print(new_list)"
      ],
      "metadata": {
        "colab": {
          "base_uri": "https://localhost:8080/"
        },
        "id": "yLPHM13dGyo-",
        "outputId": "25fdeaaf-695b-447f-feda-27624096a1a9"
      },
      "execution_count": 46,
      "outputs": [
        {
          "output_type": "stream",
          "name": "stdout",
          "text": [
            "[6, 9, 1, 3, 5.5, 'come on', [1, 2, 3], 7, 8, 9]\n"
          ]
        }
      ]
    },
    {
      "cell_type": "code",
      "source": [
        "# Use pop() to \"pop off\" an item from the list.\n",
        "# By default pop() takes off the element at the last index, but you can also specify which index to pop off.\n",
        "# pop() takes the index as an argument and returns the elenent which was popped off.\n",
        "\n",
        "new_list.pop()\n",
        "print(new_list)"
      ],
      "metadata": {
        "colab": {
          "base_uri": "https://localhost:8080/"
        },
        "id": "S648P6F3HuuC",
        "outputId": "0397a06c-f5d5-4a71-bce3-9e1520fc9d0b"
      },
      "execution_count": 48,
      "outputs": [
        {
          "output_type": "stream",
          "name": "stdout",
          "text": [
            "[6, 9, 1, 3, 5.5, 'come on', [1, 2, 3], 7]\n"
          ]
        }
      ]
    },
    {
      "cell_type": "code",
      "source": [
        "new_list.pop(0)\n",
        "print(new_list)"
      ],
      "metadata": {
        "colab": {
          "base_uri": "https://localhost:8080/"
        },
        "id": "lUxQJU9hH3z9",
        "outputId": "a70e132f-5e6a-4b00-c146-1168bfd1ec05"
      },
      "execution_count": 49,
      "outputs": [
        {
          "output_type": "stream",
          "name": "stdout",
          "text": [
            "[9, 1, 3, 5.5, 'come on', [1, 2, 3], 7]\n"
          ]
        }
      ]
    },
    {
      "cell_type": "code",
      "source": [
        "# Use remove() to remove an item/element from the list.\n",
        "# By default remove() removes the specified element from the list.\n",
        "# remove() takes the element as an argument.\n",
        "\n",
        "new_list.remove('come on')\n",
        "print(new_list)"
      ],
      "metadata": {
        "colab": {
          "base_uri": "https://localhost:8080/"
        },
        "id": "8cgM3AELIAmy",
        "outputId": "243ddf88-b63c-42ba-b100-e48bace41a7e"
      },
      "execution_count": 50,
      "outputs": [
        {
          "output_type": "stream",
          "name": "stdout",
          "text": [
            "[9, 1, 3, 5.5, [1, 2, 3], 7]\n"
          ]
        }
      ]
    },
    {
      "cell_type": "code",
      "source": [
        "new_list.remove([1,2,3])\n",
        "print(new_list)"
      ],
      "metadata": {
        "colab": {
          "base_uri": "https://localhost:8080/"
        },
        "id": "weJ8CQsAIXlP",
        "outputId": "06159315-871d-4d63-990f-ebe415d6c829"
      },
      "execution_count": 53,
      "outputs": [
        {
          "output_type": "stream",
          "name": "stdout",
          "text": [
            "[9, 1, 3, 5.5, 7]\n"
          ]
        }
      ]
    },
    {
      "cell_type": "code",
      "source": [
        "# The count() method returns the total occurrence of a specified element in the list\n",
        "\n",
        "new_list.count(5.5)"
      ],
      "metadata": {
        "colab": {
          "base_uri": "https://localhost:8080/"
        },
        "id": "oSxvIgtrIg1l",
        "outputId": "a3b9d633-eb34-4f00-f258-b422eb41f81b"
      },
      "execution_count": 55,
      "outputs": [
        {
          "output_type": "execute_result",
          "data": {
            "text/plain": [
              "1"
            ]
          },
          "metadata": {},
          "execution_count": 55
        }
      ]
    },
    {
      "cell_type": "code",
      "source": [
        "# The index() method returns the index of a specified element.\n",
        "\n",
        "my_list = [1, 2, 3, 1, 1, 1, 3, 10, 5, 8, 'Append me!', 2.73, 'Wubba']\n",
        "my_list.index('Wubba')"
      ],
      "metadata": {
        "colab": {
          "base_uri": "https://localhost:8080/"
        },
        "id": "07dDJ5QXIr0-",
        "outputId": "c0e181ee-cdda-4478-9d8b-df57b2c5c4fe"
      },
      "execution_count": 56,
      "outputs": [
        {
          "output_type": "execute_result",
          "data": {
            "text/plain": [
              "12"
            ]
          },
          "metadata": {},
          "execution_count": 56
        }
      ]
    },
    {
      "cell_type": "code",
      "source": [
        "my_list.index(2.73)"
      ],
      "metadata": {
        "colab": {
          "base_uri": "https://localhost:8080/"
        },
        "id": "4rvs2lUTJ6Np",
        "outputId": "31928fd9-4486-4fc8-acad-4a0d6bf39063"
      },
      "execution_count": 57,
      "outputs": [
        {
          "output_type": "execute_result",
          "data": {
            "text/plain": [
              "11"
            ]
          },
          "metadata": {},
          "execution_count": 57
        }
      ]
    },
    {
      "cell_type": "code",
      "source": [
        "# Use sort() to sort the list in either ascending/descending order\n",
        "# The sorting is done in ascending order by default\n",
        "# sort() method takes the reverse boolean as an argument\n",
        "# sort() method only works on a list with elements of same data type\n",
        "\n",
        "new_list = [6, 9, 1, 3, 5]\n",
        "\n",
        "new_list.sort()\n",
        "print(new_list)"
      ],
      "metadata": {
        "colab": {
          "base_uri": "https://localhost:8080/"
        },
        "id": "oKtjAgTnKBBd",
        "outputId": "d6d88f64-9fb3-43b8-f425-b7cd08c5ac7c"
      },
      "execution_count": 58,
      "outputs": [
        {
          "output_type": "stream",
          "name": "stdout",
          "text": [
            "[1, 3, 5, 6, 9]\n"
          ]
        }
      ]
    },
    {
      "cell_type": "code",
      "source": [
        "# reverse() method reverses the list\n",
        "\n",
        "new_list.reverse()\n",
        "print(new_list)"
      ],
      "metadata": {
        "colab": {
          "base_uri": "https://localhost:8080/"
        },
        "id": "-0eC1XNLKNGg",
        "outputId": "fc2e3f6f-8352-4c07-b701-e6c6d201e5d4"
      },
      "execution_count": 59,
      "outputs": [
        {
          "output_type": "stream",
          "name": "stdout",
          "text": [
            "[9, 6, 5, 3, 1]\n"
          ]
        }
      ]
    },
    {
      "cell_type": "code",
      "source": [
        "# Nested List i.e. List of Lists\n",
        "\n",
        "# Let's make three lists\n",
        "lst_1=[1,2,3]\n",
        "lst_2=['b','a','d']\n",
        "lst_3=[7,8,9]\n",
        "\n",
        "# Make a list of lists to form a matrix\n",
        "list_of_lists = [lst_1,lst_2,lst_3]\n",
        "\n",
        "print(list_of_lists)"
      ],
      "metadata": {
        "colab": {
          "base_uri": "https://localhost:8080/"
        },
        "id": "O5h_NNYnKcaH",
        "outputId": "0beb91d4-7e51-45e9-f416-3d9918fd8fe4"
      },
      "execution_count": 60,
      "outputs": [
        {
          "output_type": "stream",
          "name": "stdout",
          "text": [
            "[[1, 2, 3], ['b', 'a', 'd'], [7, 8, 9]]\n"
          ]
        }
      ]
    },
    {
      "cell_type": "code",
      "source": [
        "# indexing in nested list:\n",
        "\n",
        "list_of_lists[1][1]"
      ],
      "metadata": {
        "colab": {
          "base_uri": "https://localhost:8080/",
          "height": 35
        },
        "id": "AU2-enCgKlsy",
        "outputId": "5adde527-b500-43ab-82ef-82d5839b8889"
      },
      "execution_count": 62,
      "outputs": [
        {
          "output_type": "execute_result",
          "data": {
            "text/plain": [
              "'a'"
            ],
            "application/vnd.google.colaboratory.intrinsic+json": {
              "type": "string"
            }
          },
          "metadata": {},
          "execution_count": 62
        }
      ]
    },
    {
      "cell_type": "code",
      "source": [],
      "metadata": {
        "id": "YpvbFljYLJYj"
      },
      "execution_count": null,
      "outputs": []
    }
  ]
}