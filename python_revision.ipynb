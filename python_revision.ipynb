{
  "nbformat": 4,
  "nbformat_minor": 0,
  "metadata": {
    "colab": {
      "provenance": [],
      "collapsed_sections": [
        "Nlo80uD9-7Cy"
      ],
      "authorship_tag": "ABX9TyPtpe0TC6xwS0I3YIk1iKmL",
      "include_colab_link": true
    },
    "kernelspec": {
      "name": "python3",
      "display_name": "Python 3"
    },
    "language_info": {
      "name": "python"
    }
  },
  "cells": [
    {
      "cell_type": "markdown",
      "metadata": {
        "id": "view-in-github",
        "colab_type": "text"
      },
      "source": [
        "<a href=\"https://colab.research.google.com/github/dhar9571/python_revision/blob/main/python_revision.ipynb\" target=\"_parent\"><img src=\"https://colab.research.google.com/assets/colab-badge.svg\" alt=\"Open In Colab\"/></a>"
      ]
    },
    {
      "cell_type": "markdown",
      "source": [
        "# Python Basics"
      ],
      "metadata": {
        "id": "q3_oPYC6MwAP"
      }
    },
    {
      "cell_type": "markdown",
      "source": [
        "## Strings - 5"
      ],
      "metadata": {
        "id": "Nlo80uD9-7Cy"
      }
    },
    {
      "cell_type": "markdown",
      "source": [
        "Strings are used in Python to record text information, such as names. It could either be a word, a phrase, a sentence, a paragraph or an entire encyclopedia.\n",
        "\n",
        "Strings are immutable which means once assigned, the elements of a strings cannot be changed"
      ],
      "metadata": {
        "id": "1YK_INzb-9q6"
      }
    },
    {
      "cell_type": "code",
      "metadata": {
        "id": "XMd1nYlKmr0p",
        "colab": {
          "base_uri": "https://localhost:8080/",
          "height": 35
        },
        "outputId": "bc9c342e-578d-442c-fb90-2b10fed611f7"
      },
      "source": [
        "# Single word\n",
        "my_first_string= 'algebra'\n",
        "my_first_string"
      ],
      "execution_count": null,
      "outputs": [
        {
          "output_type": "execute_result",
          "data": {
            "text/plain": [
              "'algebra'"
            ],
            "application/vnd.google.colaboratory.intrinsic+json": {
              "type": "string"
            }
          },
          "metadata": {},
          "execution_count": 1
        }
      ]
    },
    {
      "cell_type": "code",
      "metadata": {
        "id": "iaz2basTmr0t",
        "colab": {
          "base_uri": "https://localhost:8080/"
        },
        "outputId": "185e6d90-f8a1-4271-c8e3-c2b0d42c3b15"
      },
      "source": [
        "# Entire phrase\n",
        "phrase = 'Statistics sits at the heart of machine learning'\n",
        "print(phrase)"
      ],
      "execution_count": null,
      "outputs": [
        {
          "output_type": "stream",
          "name": "stdout",
          "text": [
            "Statistics sits at the heart of machine learning\n"
          ]
        }
      ]
    },
    {
      "cell_type": "code",
      "source": [
        "my_first_string[1]"
      ],
      "metadata": {
        "colab": {
          "base_uri": "https://localhost:8080/",
          "height": 35
        },
        "id": "UbzCuxEo_t35",
        "outputId": "126c7691-313c-4181-e763-3ba447a0e51e"
      },
      "execution_count": null,
      "outputs": [
        {
          "output_type": "execute_result",
          "data": {
            "text/plain": [
              "'l'"
            ],
            "application/vnd.google.colaboratory.intrinsic+json": {
              "type": "string"
            }
          },
          "metadata": {},
          "execution_count": 4
        }
      ]
    },
    {
      "cell_type": "markdown",
      "source": [
        "Strings do not support item assignments"
      ],
      "metadata": {
        "id": "vhU0Djti_7QZ"
      }
    },
    {
      "cell_type": "code",
      "source": [
        "my_first_string[:3]"
      ],
      "metadata": {
        "colab": {
          "base_uri": "https://localhost:8080/",
          "height": 35
        },
        "id": "dzQdtr1IAI4B",
        "outputId": "ad52848a-e9eb-4e4f-e5d4-d582ea763347"
      },
      "execution_count": null,
      "outputs": [
        {
          "output_type": "execute_result",
          "data": {
            "text/plain": [
              "'alg'"
            ],
            "application/vnd.google.colaboratory.intrinsic+json": {
              "type": "string"
            }
          },
          "metadata": {},
          "execution_count": 5
        }
      ]
    },
    {
      "cell_type": "markdown",
      "source": [
        "#### Functions and Methods:"
      ],
      "metadata": {
        "id": "sNwJk5Kz_rm5"
      }
    },
    {
      "cell_type": "markdown",
      "source": [
        "lower() method converts the string to uppercase"
      ],
      "metadata": {
        "id": "BTWNjLsIBWEh"
      }
    },
    {
      "cell_type": "code",
      "source": [
        "phrase.lower()"
      ],
      "metadata": {
        "colab": {
          "base_uri": "https://localhost:8080/",
          "height": 35
        },
        "id": "CqO5ddsEBA8h",
        "outputId": "1103df7b-073c-4618-b05b-3b01b9703cda"
      },
      "execution_count": null,
      "outputs": [
        {
          "output_type": "execute_result",
          "data": {
            "text/plain": [
              "'statistics sits at the heart of machine learning'"
            ],
            "application/vnd.google.colaboratory.intrinsic+json": {
              "type": "string"
            }
          },
          "metadata": {},
          "execution_count": 8
        }
      ]
    },
    {
      "cell_type": "markdown",
      "source": [
        "upper() method converts the string to uppercase"
      ],
      "metadata": {
        "id": "WnMeqWYDBUPS"
      }
    },
    {
      "cell_type": "code",
      "source": [
        "phrase.upper()"
      ],
      "metadata": {
        "colab": {
          "base_uri": "https://localhost:8080/",
          "height": 35
        },
        "id": "v6hVhdAKBA6R",
        "outputId": "749dffa4-14d5-443e-bfbe-49badb00cbcb"
      },
      "execution_count": null,
      "outputs": [
        {
          "output_type": "execute_result",
          "data": {
            "text/plain": [
              "'STATISTICS SITS AT THE HEART OF MACHINE LEARNING'"
            ],
            "application/vnd.google.colaboratory.intrinsic+json": {
              "type": "string"
            }
          },
          "metadata": {},
          "execution_count": 9
        }
      ]
    },
    {
      "cell_type": "markdown",
      "source": [
        "len returns length of the string"
      ],
      "metadata": {
        "id": "F59i7D03Boks"
      }
    },
    {
      "cell_type": "code",
      "source": [
        "len(phrase)"
      ],
      "metadata": {
        "colab": {
          "base_uri": "https://localhost:8080/"
        },
        "id": "3DBlgMK2BA4T",
        "outputId": "75ded552-b5e7-49cc-ed4d-9766627d79e2"
      },
      "execution_count": null,
      "outputs": [
        {
          "output_type": "execute_result",
          "data": {
            "text/plain": [
              "48"
            ]
          },
          "metadata": {},
          "execution_count": 12
        }
      ]
    },
    {
      "cell_type": "markdown",
      "source": [
        "count counts the total number of given in a string"
      ],
      "metadata": {
        "id": "UADOzFHLBaib"
      }
    },
    {
      "cell_type": "code",
      "source": [
        "phrase.count('si')"
      ],
      "metadata": {
        "colab": {
          "base_uri": "https://localhost:8080/"
        },
        "id": "HyeHA8cSBICZ",
        "outputId": "e4b845f0-9e19-4d42-8bc1-2c72118e53bd"
      },
      "execution_count": null,
      "outputs": [
        {
          "output_type": "execute_result",
          "data": {
            "text/plain": [
              "1"
            ]
          },
          "metadata": {},
          "execution_count": 11
        }
      ]
    },
    {
      "cell_type": "markdown",
      "source": [
        "find() method returns the index of the first occurrence of a string present in a given string"
      ],
      "metadata": {
        "id": "8QKXeQkvCUzZ"
      }
    },
    {
      "cell_type": "code",
      "source": [
        "phrase.find('si')"
      ],
      "metadata": {
        "colab": {
          "base_uri": "https://localhost:8080/"
        },
        "id": "EGc0SZFZBIAR",
        "outputId": "70d611e0-29f0-4a96-99e9-f7dcd8e60e36"
      },
      "execution_count": null,
      "outputs": [
        {
          "output_type": "execute_result",
          "data": {
            "text/plain": [
              "11"
            ]
          },
          "metadata": {},
          "execution_count": 13
        }
      ]
    },
    {
      "cell_type": "markdown",
      "source": [
        "replace() method takes two arguments - (i) the string to replace and (ii) the string to replace with, and returns a modified string after the operation"
      ],
      "metadata": {
        "id": "y1RhGv4MCg1p"
      }
    },
    {
      "cell_type": "code",
      "source": [
        "print(phrase)"
      ],
      "metadata": {
        "colab": {
          "base_uri": "https://localhost:8080/"
        },
        "id": "LtTlhumNBH7R",
        "outputId": "0176c924-6679-488d-9ebf-9acd1f866ba6"
      },
      "execution_count": null,
      "outputs": [
        {
          "output_type": "stream",
          "name": "stdout",
          "text": [
            "Statistics sits at the heart of machine learning\n"
          ]
        }
      ]
    },
    {
      "cell_type": "code",
      "source": [
        "phrase.replace('Statistics', 'maths')"
      ],
      "metadata": {
        "colab": {
          "base_uri": "https://localhost:8080/",
          "height": 35
        },
        "id": "Kv4SX7EjClah",
        "outputId": "cc4a7b1d-7fea-44d7-9f9e-14689b35c7a1"
      },
      "execution_count": null,
      "outputs": [
        {
          "output_type": "execute_result",
          "data": {
            "text/plain": [
              "'maths sits at the heart of machine learning'"
            ],
            "application/vnd.google.colaboratory.intrinsic+json": {
              "type": "string"
            }
          },
          "metadata": {},
          "execution_count": 16
        }
      ]
    },
    {
      "cell_type": "markdown",
      "source": [
        "Check if a string contains a particular word or character"
      ],
      "metadata": {
        "id": "J7IPif3kC9ii"
      }
    },
    {
      "cell_type": "code",
      "source": [
        "'maths' in phrase"
      ],
      "metadata": {
        "colab": {
          "base_uri": "https://localhost:8080/"
        },
        "id": "43wIpy9EClYA",
        "outputId": "1132b1f6-0ab8-4636-f858-843a6d827866"
      },
      "execution_count": null,
      "outputs": [
        {
          "output_type": "execute_result",
          "data": {
            "text/plain": [
              "False"
            ]
          },
          "metadata": {},
          "execution_count": 18
        }
      ]
    },
    {
      "cell_type": "markdown",
      "source": [
        "##Lists"
      ],
      "metadata": {
        "id": "8EGZ3S6796YS"
      }
    },
    {
      "cell_type": "markdown",
      "source": [
        "Lists can be thought of the most general version of a sequence in Python.\n",
        "\n",
        "Unlike strings, they are mutable, meaning the elements inside a list can be changed!\n",
        "\n",
        "Lists are constructed with brackets [] and commas separating every element in the list."
      ],
      "metadata": {
        "id": "5gZ1gEVm-iRq"
      }
    },
    {
      "cell_type": "code",
      "source": [
        "# Assign a list to an variable named my_list\n",
        "my_list = [1,2,3,4]"
      ],
      "metadata": {
        "id": "RVDpKodt977D"
      },
      "execution_count": null,
      "outputs": []
    },
    {
      "cell_type": "code",
      "source": [
        "type(my_list)"
      ],
      "metadata": {
        "colab": {
          "base_uri": "https://localhost:8080/"
        },
        "id": "EjkBj8ZED-yo",
        "outputId": "6412229b-20f4-42f7-ab2f-69197eb4fb89"
      },
      "execution_count": null,
      "outputs": [
        {
          "output_type": "execute_result",
          "data": {
            "text/plain": [
              "list"
            ]
          },
          "metadata": {},
          "execution_count": 21
        }
      ]
    },
    {
      "cell_type": "code",
      "source": [
        "my_list = ['A string',23,100.232,'o',True]"
      ],
      "metadata": {
        "id": "m_nizTBpEAm0"
      },
      "execution_count": null,
      "outputs": []
    },
    {
      "cell_type": "code",
      "source": [
        "# Consider a list of strings\n",
        "loss_functions = ['Mean Absolute Error','Mean Squared Error','Huber Loss','Log Loss','Hinge Loss']\n",
        "print(loss_functions)"
      ],
      "metadata": {
        "colab": {
          "base_uri": "https://localhost:8080/"
        },
        "id": "581sGg2BEFg4",
        "outputId": "9fcf2866-d6b7-45fb-accb-99546e0acccc"
      },
      "execution_count": null,
      "outputs": [
        {
          "output_type": "stream",
          "name": "stdout",
          "text": [
            "['Mean Absolute Error', 'Mean Squared Error', 'Huber Loss', 'Log Loss', 'Hinge Loss']\n"
          ]
        }
      ]
    },
    {
      "cell_type": "code",
      "source": [
        "# Grab the element at index 0, which is the FIRST element\n",
        "print(loss_functions[0])"
      ],
      "metadata": {
        "colab": {
          "base_uri": "https://localhost:8080/"
        },
        "id": "jstCsLvBEJ9k",
        "outputId": "68e991d4-dd92-42b4-e2ca-d4fe7d912d4d"
      },
      "execution_count": null,
      "outputs": [
        {
          "output_type": "stream",
          "name": "stdout",
          "text": [
            "Mean Absolute Error\n"
          ]
        }
      ]
    },
    {
      "cell_type": "code",
      "source": [
        "# lists concatination\n",
        "\n",
        "loss_functions = loss_functions + ['Root Mean Squared Error']\n",
        "print(loss_functions)"
      ],
      "metadata": {
        "colab": {
          "base_uri": "https://localhost:8080/"
        },
        "id": "axpFLJJFELqE",
        "outputId": "92702da4-7b3e-4610-fff3-6d90af8e70af"
      },
      "execution_count": null,
      "outputs": [
        {
          "output_type": "stream",
          "name": "stdout",
          "text": [
            "['Mean Absolute Error', 'Mean Squared Error', 'Huber Loss', 'Log Loss', 'Hinge Loss', 'Root Mean Squared Error']\n"
          ]
        }
      ]
    },
    {
      "cell_type": "code",
      "source": [
        "loss_functions[::-1]"
      ],
      "metadata": {
        "colab": {
          "base_uri": "https://localhost:8080/"
        },
        "id": "6A0782RUEev5",
        "outputId": "ee16e8db-8a17-4db4-81d9-2e4850837279"
      },
      "execution_count": null,
      "outputs": [
        {
          "output_type": "execute_result",
          "data": {
            "text/plain": [
              "['Root Mean Squared Error',\n",
              " 'Log Loss',\n",
              " 'Huber Loss',\n",
              " 'Mean Squared Error',\n",
              " 'Mean Absolute Error']"
            ]
          },
          "metadata": {},
          "execution_count": 27
        }
      ]
    },
    {
      "cell_type": "code",
      "source": [
        "# list multiplication:\n",
        "\n",
        "loss_functions*2"
      ],
      "metadata": {
        "colab": {
          "base_uri": "https://localhost:8080/"
        },
        "id": "x08mw1PqExgl",
        "outputId": "0b16af5a-ef73-4a03-c639-d62e259ed82e"
      },
      "execution_count": null,
      "outputs": [
        {
          "output_type": "execute_result",
          "data": {
            "text/plain": [
              "['Mean Absolute Error',\n",
              " 'Mean Squared Error',\n",
              " 'Huber Loss',\n",
              " 'Log Loss',\n",
              " 'Hinge Loss',\n",
              " 'Root Mean Squared Error',\n",
              " 'Mean Absolute Error',\n",
              " 'Mean Squared Error',\n",
              " 'Huber Loss',\n",
              " 'Log Loss',\n",
              " 'Hinge Loss',\n",
              " 'Root Mean Squared Error']"
            ]
          },
          "metadata": {},
          "execution_count": 34
        }
      ]
    },
    {
      "cell_type": "markdown",
      "source": [
        "### Functions and Methods"
      ],
      "metadata": {
        "id": "N_F65Mn3FTkk"
      }
    },
    {
      "cell_type": "markdown",
      "source": [
        "len() function returns the length of the list"
      ],
      "metadata": {
        "id": "5yyRB4RfBjm3"
      }
    },
    {
      "cell_type": "code",
      "source": [
        "len(loss_functions)"
      ],
      "metadata": {
        "colab": {
          "base_uri": "https://localhost:8080/"
        },
        "id": "c8RjyoCwFMwn",
        "outputId": "bef20a07-6329-42fc-947b-6c1c062cb742"
      },
      "execution_count": null,
      "outputs": [
        {
          "output_type": "execute_result",
          "data": {
            "text/plain": [
              "6"
            ]
          },
          "metadata": {},
          "execution_count": 35
        }
      ]
    },
    {
      "cell_type": "markdown",
      "source": [
        "min() function returns the minimum element of the list\n",
        "\n",
        "min() function only works with lists of similar data types"
      ],
      "metadata": {
        "id": "jo8wXm-NBn-C"
      }
    },
    {
      "cell_type": "code",
      "source": [
        "new_list = [6, 9, 1, 3, 5.5]\n",
        "min(new_list)"
      ],
      "metadata": {
        "colab": {
          "base_uri": "https://localhost:8080/"
        },
        "id": "H_pie8XBFZe-",
        "outputId": "a1f8b900-07ac-4b5b-b3dc-c8ec9d711306"
      },
      "execution_count": null,
      "outputs": [
        {
          "output_type": "execute_result",
          "data": {
            "text/plain": [
              "1"
            ]
          },
          "metadata": {},
          "execution_count": 36
        }
      ]
    },
    {
      "cell_type": "markdown",
      "source": [
        "max() function returns the maximum element of the list\n",
        "\n",
        "max() function only works with lists of similar data types"
      ],
      "metadata": {
        "id": "2LOz7Zi3BrbK"
      }
    },
    {
      "cell_type": "code",
      "source": [
        "max(new_list)"
      ],
      "metadata": {
        "colab": {
          "base_uri": "https://localhost:8080/"
        },
        "id": "pALWD-QtFj1D",
        "outputId": "c26ad490-f5bd-42cd-ad9a-7bee854c334b"
      },
      "execution_count": null,
      "outputs": [
        {
          "output_type": "execute_result",
          "data": {
            "text/plain": [
              "9"
            ]
          },
          "metadata": {},
          "execution_count": 37
        }
      ]
    },
    {
      "cell_type": "markdown",
      "source": [
        "sum() function returns the sum of the elements of the list\n",
        "\n",
        "sum() function only works with lists of numeric data types"
      ],
      "metadata": {
        "id": "bgCkTlwHBv4w"
      }
    },
    {
      "cell_type": "code",
      "source": [
        "sum(new_list)"
      ],
      "metadata": {
        "colab": {
          "base_uri": "https://localhost:8080/"
        },
        "id": "7BNQT26HF5AJ",
        "outputId": "ff00b228-c1b6-421e-a3a1-8bb62decc165"
      },
      "execution_count": null,
      "outputs": [
        {
          "output_type": "execute_result",
          "data": {
            "text/plain": [
              "24.5"
            ]
          },
          "metadata": {},
          "execution_count": 38
        }
      ]
    },
    {
      "cell_type": "markdown",
      "source": [
        "sorted() function returns the sorted list\n",
        "\n",
        "sorted() function takes reverse boolean as an argument\n",
        "\n",
        "sorted() function only works on a list with similar data types\n",
        "\n",
        "sorted() function does not change our list"
      ],
      "metadata": {
        "id": "cegVOxTRBzg2"
      }
    },
    {
      "cell_type": "code",
      "source": [
        "sorted(new_list, reverse=False)"
      ],
      "metadata": {
        "colab": {
          "base_uri": "https://localhost:8080/"
        },
        "id": "rAmV-OvLF-sM",
        "outputId": "ff2505b2-d490-4260-b327-75d65e3c4867"
      },
      "execution_count": null,
      "outputs": [
        {
          "output_type": "execute_result",
          "data": {
            "text/plain": [
              "[1, 3, 5.5, 6, 9]"
            ]
          },
          "metadata": {},
          "execution_count": 43
        }
      ]
    },
    {
      "cell_type": "markdown",
      "source": [
        "Use the append() method to permanently add an item to the end of a list.\n",
        "\n",
        "append() method takes the element which you want to add to the list as an argument"
      ],
      "metadata": {
        "id": "7UzoALJDB8ks"
      }
    },
    {
      "cell_type": "code",
      "source": [
        "print(new_list)\n",
        "new_list.append('come on')\n",
        "print(new_list)"
      ],
      "metadata": {
        "colab": {
          "base_uri": "https://localhost:8080/"
        },
        "id": "rbm3hke3GLCR",
        "outputId": "7db2afc9-1509-4278-8300-49fb8c6608c8"
      },
      "execution_count": null,
      "outputs": [
        {
          "output_type": "stream",
          "name": "stdout",
          "text": [
            "[6, 9, 1, 3, 5.5]\n",
            "[6, 9, 1, 3, 5.5, 'come on']\n"
          ]
        }
      ]
    },
    {
      "cell_type": "code",
      "source": [
        "new_list.append([1,2,3])\n",
        "print(new_list)"
      ],
      "metadata": {
        "colab": {
          "base_uri": "https://localhost:8080/"
        },
        "id": "zdt3uX0yGodb",
        "outputId": "a92ffa6a-6261-464f-c4d7-26b3f3cbe54d"
      },
      "execution_count": null,
      "outputs": [
        {
          "output_type": "stream",
          "name": "stdout",
          "text": [
            "[6, 9, 1, 3, 5.5, 'come on', [1, 2, 3]]\n"
          ]
        }
      ]
    },
    {
      "cell_type": "markdown",
      "source": [
        "Use the extend() method to merge a list to an existing list\n",
        "\n",
        "extend() method takes a list or any iterable as an argument.\n"
      ],
      "metadata": {
        "id": "A2bCeJ8YCBmd"
      }
    },
    {
      "cell_type": "code",
      "source": [
        "new_list.extend([7,8,9])\n",
        "print(new_list)"
      ],
      "metadata": {
        "colab": {
          "base_uri": "https://localhost:8080/"
        },
        "id": "yLPHM13dGyo-",
        "outputId": "25fdeaaf-695b-447f-feda-27624096a1a9"
      },
      "execution_count": null,
      "outputs": [
        {
          "output_type": "stream",
          "name": "stdout",
          "text": [
            "[6, 9, 1, 3, 5.5, 'come on', [1, 2, 3], 7, 8, 9]\n"
          ]
        }
      ]
    },
    {
      "cell_type": "markdown",
      "source": [
        "Use pop() to \"pop off\" an item from the list.\n",
        "\n",
        "By default pop() takes off the element at the last index, but you can also specify which index to pop off.\n",
        "\n",
        "pop() takes the index as an argument and returns the elenent which was popped off."
      ],
      "metadata": {
        "id": "cE5uQwMyCErQ"
      }
    },
    {
      "cell_type": "code",
      "source": [
        "new_list.pop()\n",
        "print(new_list)"
      ],
      "metadata": {
        "colab": {
          "base_uri": "https://localhost:8080/"
        },
        "id": "S648P6F3HuuC",
        "outputId": "0397a06c-f5d5-4a71-bce3-9e1520fc9d0b"
      },
      "execution_count": null,
      "outputs": [
        {
          "output_type": "stream",
          "name": "stdout",
          "text": [
            "[6, 9, 1, 3, 5.5, 'come on', [1, 2, 3], 7]\n"
          ]
        }
      ]
    },
    {
      "cell_type": "code",
      "source": [
        "new_list.pop(0)\n",
        "print(new_list)"
      ],
      "metadata": {
        "colab": {
          "base_uri": "https://localhost:8080/"
        },
        "id": "lUxQJU9hH3z9",
        "outputId": "a70e132f-5e6a-4b00-c146-1168bfd1ec05"
      },
      "execution_count": null,
      "outputs": [
        {
          "output_type": "stream",
          "name": "stdout",
          "text": [
            "[9, 1, 3, 5.5, 'come on', [1, 2, 3], 7]\n"
          ]
        }
      ]
    },
    {
      "cell_type": "markdown",
      "source": [
        "Use remove() to remove an item/element from the list.\n",
        "\n",
        "By default remove() removes the specified element from the list.\n",
        "\n",
        "remove() takes the element as an argument."
      ],
      "metadata": {
        "id": "rT3Sc413CIVr"
      }
    },
    {
      "cell_type": "code",
      "source": [
        "new_list.remove('come on')\n",
        "print(new_list)"
      ],
      "metadata": {
        "colab": {
          "base_uri": "https://localhost:8080/"
        },
        "id": "8cgM3AELIAmy",
        "outputId": "243ddf88-b63c-42ba-b100-e48bace41a7e"
      },
      "execution_count": null,
      "outputs": [
        {
          "output_type": "stream",
          "name": "stdout",
          "text": [
            "[9, 1, 3, 5.5, [1, 2, 3], 7]\n"
          ]
        }
      ]
    },
    {
      "cell_type": "code",
      "source": [
        "new_list.remove([1,2,3])\n",
        "print(new_list)"
      ],
      "metadata": {
        "colab": {
          "base_uri": "https://localhost:8080/"
        },
        "id": "weJ8CQsAIXlP",
        "outputId": "06159315-871d-4d63-990f-ebe415d6c829"
      },
      "execution_count": null,
      "outputs": [
        {
          "output_type": "stream",
          "name": "stdout",
          "text": [
            "[9, 1, 3, 5.5, 7]\n"
          ]
        }
      ]
    },
    {
      "cell_type": "markdown",
      "source": [
        "The count() method returns the total occurrence of a specified element in the list"
      ],
      "metadata": {
        "id": "xVRsGZ4BCL0S"
      }
    },
    {
      "cell_type": "code",
      "source": [
        "new_list.count(5.5)"
      ],
      "metadata": {
        "colab": {
          "base_uri": "https://localhost:8080/"
        },
        "id": "oSxvIgtrIg1l",
        "outputId": "a3b9d633-eb34-4f00-f258-b422eb41f81b"
      },
      "execution_count": null,
      "outputs": [
        {
          "output_type": "execute_result",
          "data": {
            "text/plain": [
              "1"
            ]
          },
          "metadata": {},
          "execution_count": 55
        }
      ]
    },
    {
      "cell_type": "markdown",
      "source": [
        "The index() method returns the index of a specified element."
      ],
      "metadata": {
        "id": "QXh0ITw0CNzh"
      }
    },
    {
      "cell_type": "code",
      "source": [
        "my_list = [1, 2, 3, 1, 1, 1, 3, 10, 5, 8, 'Append me!', 2.73, 'Wubba']\n",
        "my_list.index('Wubba')"
      ],
      "metadata": {
        "colab": {
          "base_uri": "https://localhost:8080/"
        },
        "id": "07dDJ5QXIr0-",
        "outputId": "c0e181ee-cdda-4478-9d8b-df57b2c5c4fe"
      },
      "execution_count": null,
      "outputs": [
        {
          "output_type": "execute_result",
          "data": {
            "text/plain": [
              "12"
            ]
          },
          "metadata": {},
          "execution_count": 56
        }
      ]
    },
    {
      "cell_type": "code",
      "source": [
        "my_list.index(2.73)"
      ],
      "metadata": {
        "colab": {
          "base_uri": "https://localhost:8080/"
        },
        "id": "4rvs2lUTJ6Np",
        "outputId": "31928fd9-4486-4fc8-acad-4a0d6bf39063"
      },
      "execution_count": null,
      "outputs": [
        {
          "output_type": "execute_result",
          "data": {
            "text/plain": [
              "11"
            ]
          },
          "metadata": {},
          "execution_count": 57
        }
      ]
    },
    {
      "cell_type": "markdown",
      "source": [
        "Use sort() to sort the list in either ascending/descending order\n",
        "\n",
        "The sorting is done in ascending order by default\n",
        "\n",
        "sort() method takes the reverse boolean as an argument\n",
        "\n",
        "sort() method only works on a list with elements of same data type"
      ],
      "metadata": {
        "id": "RjIONY80CP_R"
      }
    },
    {
      "cell_type": "code",
      "source": [
        "new_list = [6, 9, 1, 3, 5]\n",
        "\n",
        "new_list.sort()\n",
        "print(new_list)"
      ],
      "metadata": {
        "colab": {
          "base_uri": "https://localhost:8080/"
        },
        "id": "oKtjAgTnKBBd",
        "outputId": "d6d88f64-9fb3-43b8-f425-b7cd08c5ac7c"
      },
      "execution_count": null,
      "outputs": [
        {
          "output_type": "stream",
          "name": "stdout",
          "text": [
            "[1, 3, 5, 6, 9]\n"
          ]
        }
      ]
    },
    {
      "cell_type": "markdown",
      "source": [
        "reverse() method reverses the list"
      ],
      "metadata": {
        "id": "ujUk7GxaCTL6"
      }
    },
    {
      "cell_type": "code",
      "source": [
        "new_list.reverse()\n",
        "print(new_list)"
      ],
      "metadata": {
        "colab": {
          "base_uri": "https://localhost:8080/"
        },
        "id": "-0eC1XNLKNGg",
        "outputId": "fc2e3f6f-8352-4c07-b701-e6c6d201e5d4"
      },
      "execution_count": null,
      "outputs": [
        {
          "output_type": "stream",
          "name": "stdout",
          "text": [
            "[9, 6, 5, 3, 1]\n"
          ]
        }
      ]
    },
    {
      "cell_type": "code",
      "source": [
        "# Nested List i.e. List of Lists\n",
        "\n",
        "# Let's make three lists\n",
        "lst_1=[1,2,3]\n",
        "lst_2=['b','a','d']\n",
        "lst_3=[7,8,9]\n",
        "\n",
        "# Make a list of lists to form a matrix\n",
        "list_of_lists = [lst_1,lst_2,lst_3]\n",
        "\n",
        "print(list_of_lists)"
      ],
      "metadata": {
        "colab": {
          "base_uri": "https://localhost:8080/"
        },
        "id": "O5h_NNYnKcaH",
        "outputId": "0beb91d4-7e51-45e9-f416-3d9918fd8fe4"
      },
      "execution_count": null,
      "outputs": [
        {
          "output_type": "stream",
          "name": "stdout",
          "text": [
            "[[1, 2, 3], ['b', 'a', 'd'], [7, 8, 9]]\n"
          ]
        }
      ]
    },
    {
      "cell_type": "code",
      "source": [
        "# indexing in nested list:\n",
        "\n",
        "list_of_lists[1][1]"
      ],
      "metadata": {
        "colab": {
          "base_uri": "https://localhost:8080/",
          "height": 35
        },
        "id": "AU2-enCgKlsy",
        "outputId": "5adde527-b500-43ab-82ef-82d5839b8889"
      },
      "execution_count": null,
      "outputs": [
        {
          "output_type": "execute_result",
          "data": {
            "text/plain": [
              "'a'"
            ],
            "application/vnd.google.colaboratory.intrinsic+json": {
              "type": "string"
            }
          },
          "metadata": {},
          "execution_count": 62
        }
      ]
    },
    {
      "cell_type": "markdown",
      "source": [
        "## Tuples"
      ],
      "metadata": {
        "id": "kP9UM0z9MZ6D"
      }
    },
    {
      "cell_type": "markdown",
      "source": [
        "In Python tuples are very similar to lists, however, unlike lists they are immutable meaning they can not be changed.\n",
        "\n",
        "You would use tuples to present things that shouldn't be changed, such as days of the week, or dates on a calendar."
      ],
      "metadata": {
        "id": "49XNQC04MjVD"
      }
    },
    {
      "cell_type": "code",
      "source": [
        "# Create a tuple\n",
        "my_tuple = (1,'a',3)\n",
        "my_tuple"
      ],
      "metadata": {
        "colab": {
          "base_uri": "https://localhost:8080/"
        },
        "id": "R88IhnElMb3n",
        "outputId": "6db4720a-d5ef-4d5d-8c14-e180409f8cb8"
      },
      "execution_count": null,
      "outputs": [
        {
          "output_type": "execute_result",
          "data": {
            "text/plain": [
              "(1, 'a', 3)"
            ]
          },
          "metadata": {},
          "execution_count": 63
        }
      ]
    },
    {
      "cell_type": "code",
      "source": [
        "# create empty tuple\n",
        "\n",
        "empty_tuple = ()"
      ],
      "metadata": {
        "id": "IxZge7lGMnYg"
      },
      "execution_count": null,
      "outputs": []
    },
    {
      "cell_type": "code",
      "source": [
        "empty_tuple"
      ],
      "metadata": {
        "colab": {
          "base_uri": "https://localhost:8080/"
        },
        "id": "jYHFDuTvMvNU",
        "outputId": "b7a24669-cfd4-4e25-ae0b-f26c42b1062e"
      },
      "execution_count": null,
      "outputs": [
        {
          "output_type": "execute_result",
          "data": {
            "text/plain": [
              "()"
            ]
          },
          "metadata": {},
          "execution_count": 65
        }
      ]
    },
    {
      "cell_type": "code",
      "source": [
        "# indexing\n",
        "\n",
        "my_tuple[1]"
      ],
      "metadata": {
        "colab": {
          "base_uri": "https://localhost:8080/",
          "height": 35
        },
        "id": "xuQljsR5MxBK",
        "outputId": "ef49539e-0fb5-4fc9-bd0f-d39840eaa1a4"
      },
      "execution_count": null,
      "outputs": [
        {
          "output_type": "execute_result",
          "data": {
            "text/plain": [
              "'a'"
            ],
            "application/vnd.google.colaboratory.intrinsic+json": {
              "type": "string"
            }
          },
          "metadata": {},
          "execution_count": 66
        }
      ]
    },
    {
      "cell_type": "code",
      "source": [
        "# tupe_of_tuple\n",
        "\n",
        "tupe_of_tuple = ((1,2),(3,4))\n",
        "print(tupe_of_tuple)"
      ],
      "metadata": {
        "colab": {
          "base_uri": "https://localhost:8080/"
        },
        "id": "y3VpdmnYNGzx",
        "outputId": "f4b52da9-8546-45ad-8dec-73a646a938cb"
      },
      "execution_count": null,
      "outputs": [
        {
          "output_type": "stream",
          "name": "stdout",
          "text": [
            "((1, 2), (3, 4))\n"
          ]
        }
      ]
    },
    {
      "cell_type": "markdown",
      "source": [
        "### Functions and Methods"
      ],
      "metadata": {
        "id": "pE_G5opwOLKM"
      }
    },
    {
      "cell_type": "markdown",
      "source": [
        "The index() method returns the index of a specified element"
      ],
      "metadata": {
        "id": "70VvHs1fEEzP"
      }
    },
    {
      "cell_type": "code",
      "source": [
        "my_tuple.index('a')"
      ],
      "metadata": {
        "colab": {
          "base_uri": "https://localhost:8080/"
        },
        "id": "GSPttzcnNVzg",
        "outputId": "f07243fd-f221-4123-9ce4-855c5a66178d"
      },
      "execution_count": null,
      "outputs": [
        {
          "output_type": "execute_result",
          "data": {
            "text/plain": [
              "1"
            ]
          },
          "metadata": {},
          "execution_count": 73
        }
      ]
    },
    {
      "cell_type": "markdown",
      "source": [
        "The count() method returns the total occurrence of a specified element in a tuple"
      ],
      "metadata": {
        "id": "182KPDGFEG14"
      }
    },
    {
      "cell_type": "code",
      "source": [
        "my_tuple.count(1)"
      ],
      "metadata": {
        "colab": {
          "base_uri": "https://localhost:8080/"
        },
        "id": "Qy7zheb5OhYh",
        "outputId": "dfc3150e-51d0-4aad-f6ac-1457475c0b68"
      },
      "execution_count": null,
      "outputs": [
        {
          "output_type": "execute_result",
          "data": {
            "text/plain": [
              "1"
            ]
          },
          "metadata": {},
          "execution_count": 74
        }
      ]
    },
    {
      "cell_type": "code",
      "source": [
        "# Immutability\n",
        "\n",
        "my_tuple[0] = 'change'"
      ],
      "metadata": {
        "colab": {
          "base_uri": "https://localhost:8080/",
          "height": 211
        },
        "id": "E4GezwMROxP7",
        "outputId": "89aec0f9-8dd6-4207-f6fa-23755e827eec"
      },
      "execution_count": null,
      "outputs": [
        {
          "output_type": "error",
          "ename": "TypeError",
          "evalue": "ignored",
          "traceback": [
            "\u001b[0;31m---------------------------------------------------------------------------\u001b[0m",
            "\u001b[0;31mTypeError\u001b[0m                                 Traceback (most recent call last)",
            "\u001b[0;32m<ipython-input-75-04b6055d95b0>\u001b[0m in \u001b[0;36m<cell line: 3>\u001b[0;34m()\u001b[0m\n\u001b[1;32m      1\u001b[0m \u001b[0;31m# Immutability\u001b[0m\u001b[0;34m\u001b[0m\u001b[0;34m\u001b[0m\u001b[0m\n\u001b[1;32m      2\u001b[0m \u001b[0;34m\u001b[0m\u001b[0m\n\u001b[0;32m----> 3\u001b[0;31m \u001b[0mmy_tuple\u001b[0m\u001b[0;34m[\u001b[0m\u001b[0;36m0\u001b[0m\u001b[0;34m]\u001b[0m \u001b[0;34m=\u001b[0m \u001b[0;34m'change'\u001b[0m\u001b[0;34m\u001b[0m\u001b[0;34m\u001b[0m\u001b[0m\n\u001b[0m",
            "\u001b[0;31mTypeError\u001b[0m: 'tuple' object does not support item assignment"
          ]
        }
      ]
    },
    {
      "cell_type": "markdown",
      "source": [
        "Tuple does not support methods such as append(), extend(), remove(), pop()"
      ],
      "metadata": {
        "id": "mMNEelBBPrCC"
      }
    },
    {
      "cell_type": "code",
      "source": [
        "# zip() function takes multiple lists/tuples as arguments and zips them together\n",
        "# This function returns a list of n-paired tuples where n is the number of lists being zipped\n",
        "\n",
        "city_list = ('Delhi','Patna','Cuttack','Guwahati')\n",
        "river_list = ('Yamuna','Ganga','Mahanadi','Brahmaputra')\n",
        "\n",
        "city_river = tuple(zip(city_list, river_list))\n",
        "\n",
        "print(city_river)"
      ],
      "metadata": {
        "colab": {
          "base_uri": "https://localhost:8080/"
        },
        "id": "iPILS0-OPgBo",
        "outputId": "a45fb9e6-9282-4ee8-fdfa-02f8aa244e9d"
      },
      "execution_count": null,
      "outputs": [
        {
          "output_type": "stream",
          "name": "stdout",
          "text": [
            "(('Delhi', 'Yamuna'), ('Patna', 'Ganga'), ('Cuttack', 'Mahanadi'), ('Guwahati', 'Brahmaputra'))\n"
          ]
        }
      ]
    },
    {
      "cell_type": "markdown",
      "source": [
        "## Sets"
      ],
      "metadata": {
        "id": "Um7Mls0kQmI2"
      }
    },
    {
      "cell_type": "markdown",
      "source": [
        "Sets are an unordered collection of unique elements. We can construct them by using the set() function.\n",
        "\n",
        "Sets cannot have duplicates.\n",
        "\n",
        "Sets are mutable just like lists.\n",
        "\n",
        "You can create a non-empty set with curly braces by specifying elements separated by a comma."
      ],
      "metadata": {
        "id": "peuOhcYlSnXY"
      }
    },
    {
      "cell_type": "code",
      "source": [
        "# Create an empty set\n",
        "empty_set = set()"
      ],
      "metadata": {
        "id": "mWRKLaKFTDfm"
      },
      "execution_count": null,
      "outputs": []
    },
    {
      "cell_type": "code",
      "source": [
        "# casting a list for unique elements\n",
        "\n",
        "list1 = [1,4,5,2,4,6,4,3,5,6,4,3,5,7,6,5,4]\n",
        "\n",
        "set1 = set(list1)\n",
        "print(set1)"
      ],
      "metadata": {
        "colab": {
          "base_uri": "https://localhost:8080/"
        },
        "id": "-glrS_24S0U8",
        "outputId": "addd5902-efee-4c93-a2d9-ba09835a315e"
      },
      "execution_count": null,
      "outputs": [
        {
          "output_type": "stream",
          "name": "stdout",
          "text": [
            "{1, 2, 3, 4, 5, 6, 7}\n"
          ]
        }
      ]
    },
    {
      "cell_type": "code",
      "source": [
        "# A set cannot have mutable items\n",
        "my_set = {1, 2, (3, 4)}"
      ],
      "metadata": {
        "id": "deboSw4hUbta"
      },
      "execution_count": null,
      "outputs": []
    },
    {
      "cell_type": "code",
      "source": [
        "print(my_set)"
      ],
      "metadata": {
        "colab": {
          "base_uri": "https://localhost:8080/"
        },
        "id": "IVK5srxrUgTJ",
        "outputId": "9aa2c1bc-9d5a-4398-acbf-6e70de33b178"
      },
      "execution_count": null,
      "outputs": [
        {
          "output_type": "stream",
          "name": "stdout",
          "text": [
            "{1, 2, (3, 4)}\n"
          ]
        }
      ]
    },
    {
      "cell_type": "markdown",
      "source": [
        "We cannot have lists as an element in a set.\n",
        "\n",
        "We can have tuples as an element in a set.\n",
        "\n",
        "We cannot have set as an element in a set."
      ],
      "metadata": {
        "id": "S5Ys7fR_VK2N"
      }
    },
    {
      "cell_type": "code",
      "source": [
        "my_set = {1,2, [3,5]}"
      ],
      "metadata": {
        "colab": {
          "base_uri": "https://localhost:8080/",
          "height": 176
        },
        "id": "nax5OdM6UiV7",
        "outputId": "6d1fe9a1-0a2c-4b97-841c-2fbf311b121d"
      },
      "execution_count": null,
      "outputs": [
        {
          "output_type": "error",
          "ename": "TypeError",
          "evalue": "ignored",
          "traceback": [
            "\u001b[0;31m---------------------------------------------------------------------------\u001b[0m",
            "\u001b[0;31mTypeError\u001b[0m                                 Traceback (most recent call last)",
            "\u001b[0;32m<ipython-input-84-39f695122c72>\u001b[0m in \u001b[0;36m<cell line: 1>\u001b[0;34m()\u001b[0m\n\u001b[0;32m----> 1\u001b[0;31m \u001b[0mmy_set\u001b[0m \u001b[0;34m=\u001b[0m \u001b[0;34m{\u001b[0m\u001b[0;36m1\u001b[0m\u001b[0;34m,\u001b[0m\u001b[0;36m2\u001b[0m\u001b[0;34m,\u001b[0m \u001b[0;34m[\u001b[0m\u001b[0;36m3\u001b[0m\u001b[0;34m,\u001b[0m\u001b[0;36m5\u001b[0m\u001b[0;34m]\u001b[0m\u001b[0;34m}\u001b[0m\u001b[0;34m\u001b[0m\u001b[0;34m\u001b[0m\u001b[0m\n\u001b[0m",
            "\u001b[0;31mTypeError\u001b[0m: unhashable type: 'list'"
          ]
        }
      ]
    },
    {
      "cell_type": "code",
      "source": [
        "my_set = {1,2, (3,5)}"
      ],
      "metadata": {
        "id": "uvKIQb9TVV28"
      },
      "execution_count": null,
      "outputs": []
    },
    {
      "cell_type": "code",
      "source": [
        "my_set = {1,2, {3,5}}"
      ],
      "metadata": {
        "colab": {
          "base_uri": "https://localhost:8080/",
          "height": 176
        },
        "id": "BpjhuJdlVXwV",
        "outputId": "388b66d0-1ddb-4b84-83c0-cdfb9506c6d3"
      },
      "execution_count": null,
      "outputs": [
        {
          "output_type": "error",
          "ename": "TypeError",
          "evalue": "ignored",
          "traceback": [
            "\u001b[0;31m---------------------------------------------------------------------------\u001b[0m",
            "\u001b[0;31mTypeError\u001b[0m                                 Traceback (most recent call last)",
            "\u001b[0;32m<ipython-input-86-d1c5730131c5>\u001b[0m in \u001b[0;36m<cell line: 1>\u001b[0;34m()\u001b[0m\n\u001b[0;32m----> 1\u001b[0;31m \u001b[0mmy_set\u001b[0m \u001b[0;34m=\u001b[0m \u001b[0;34m{\u001b[0m\u001b[0;36m1\u001b[0m\u001b[0;34m,\u001b[0m\u001b[0;36m2\u001b[0m\u001b[0;34m,\u001b[0m \u001b[0;34m{\u001b[0m\u001b[0;36m3\u001b[0m\u001b[0;34m,\u001b[0m\u001b[0;36m5\u001b[0m\u001b[0;34m}\u001b[0m\u001b[0;34m}\u001b[0m\u001b[0;34m\u001b[0m\u001b[0;34m\u001b[0m\u001b[0m\n\u001b[0m",
            "\u001b[0;31mTypeError\u001b[0m: unhashable type: 'set'"
          ]
        }
      ]
    },
    {
      "cell_type": "code",
      "source": [
        "# we can have set with different dtypes\n",
        "\n",
        "new_set = {1,2,3,'a'}\n",
        "print(new_set)"
      ],
      "metadata": {
        "colab": {
          "base_uri": "https://localhost:8080/"
        },
        "id": "tOqWUR8MVZ8R",
        "outputId": "8d56801e-e050-4d75-dd5a-aa20a78b25c5"
      },
      "execution_count": null,
      "outputs": [
        {
          "output_type": "stream",
          "name": "stdout",
          "text": [
            "{'a', 1, 2, 3}\n"
          ]
        }
      ]
    },
    {
      "cell_type": "markdown",
      "source": [
        "### Function and Methods"
      ],
      "metadata": {
        "id": "_yjBKVvXXfpa"
      }
    },
    {
      "cell_type": "markdown",
      "source": [
        "add() method adds an element to a set\n",
        "\n",
        "This method takes the element to be added as an argument"
      ],
      "metadata": {
        "id": "yRNJ5aoyXkcZ"
      }
    },
    {
      "cell_type": "code",
      "source": [
        "print(set1)\n",
        "\n",
        "set1.add(8)\n",
        "\n",
        "print(set1)"
      ],
      "metadata": {
        "colab": {
          "base_uri": "https://localhost:8080/"
        },
        "id": "Vn-M_-hDXWiP",
        "outputId": "7217d7b6-d299-4761-f92a-f6c4fa7240d7"
      },
      "execution_count": null,
      "outputs": [
        {
          "output_type": "stream",
          "name": "stdout",
          "text": [
            "{1, 2, 3, 4, 5, 6, 7}\n",
            "{1, 2, 3, 4, 5, 6, 7, 8}\n"
          ]
        }
      ]
    },
    {
      "cell_type": "markdown",
      "source": [
        "update() method helps to add multiple elements to a set"
      ],
      "metadata": {
        "id": "Msnrw8s0Y_h0"
      }
    },
    {
      "cell_type": "code",
      "source": [
        "set1.update([9,10,11])\n",
        "print(set1)"
      ],
      "metadata": {
        "colab": {
          "base_uri": "https://localhost:8080/"
        },
        "id": "H6fUhTX0Xioz",
        "outputId": "6222c589-c575-49c2-ff18-2e8abe14986f"
      },
      "execution_count": null,
      "outputs": [
        {
          "output_type": "stream",
          "name": "stdout",
          "text": [
            "{1, 2, 3, 4, 5, 6, 7, 8, 9, 10, 11}\n"
          ]
        }
      ]
    },
    {
      "cell_type": "markdown",
      "source": [
        "Use remove() to remove an item/element from the set.\n",
        "\n",
        "By default remove() removes the specified element from the set.\n",
        "\n",
        "remove() takes the element as an argument."
      ],
      "metadata": {
        "id": "EDoZB5ECZM-x"
      }
    },
    {
      "cell_type": "code",
      "source": [
        "set1.remove(9)\n",
        "print(set1)"
      ],
      "metadata": {
        "colab": {
          "base_uri": "https://localhost:8080/"
        },
        "id": "m798j5xvXimQ",
        "outputId": "a1688796-7890-479c-b947-55a63c39a23f"
      },
      "execution_count": null,
      "outputs": [
        {
          "output_type": "stream",
          "name": "stdout",
          "text": [
            "{1, 2, 3, 4, 5, 6, 7, 8, 10, 11}\n"
          ]
        }
      ]
    },
    {
      "cell_type": "markdown",
      "source": [
        "union() method returns the union of two sets\n",
        "\n",
        "Also denoted by the operator |"
      ],
      "metadata": {
        "id": "9aJbcfJjZfQj"
      }
    },
    {
      "cell_type": "code",
      "source": [
        "# Initialize sets A and B\n",
        "A = {1, 2, 3, 4, 5}\n",
        "B = {4, 5, 6, 7, 8}\n",
        "\n",
        "A.union(B)"
      ],
      "metadata": {
        "colab": {
          "base_uri": "https://localhost:8080/"
        },
        "id": "KM395-gQXijq",
        "outputId": "0716686f-b52b-45d5-a411-975493ae4a13"
      },
      "execution_count": null,
      "outputs": [
        {
          "output_type": "execute_result",
          "data": {
            "text/plain": [
              "{1, 2, 3, 4, 5, 6, 7, 8}"
            ]
          },
          "metadata": {},
          "execution_count": 97
        }
      ]
    },
    {
      "cell_type": "code",
      "source": [
        "A|B"
      ],
      "metadata": {
        "colab": {
          "base_uri": "https://localhost:8080/"
        },
        "id": "u_LXiuJibnBb",
        "outputId": "5d66c4c2-e15c-49d5-9dc3-3e5d7cb86201"
      },
      "execution_count": null,
      "outputs": [
        {
          "output_type": "execute_result",
          "data": {
            "text/plain": [
              "{1, 2, 3, 4, 5, 6, 7, 8}"
            ]
          },
          "metadata": {},
          "execution_count": 98
        }
      ]
    },
    {
      "cell_type": "markdown",
      "source": [
        "intersection() method returns the intersection of two sets\n",
        "\n",
        "Also denoted by the operator &"
      ],
      "metadata": {
        "id": "-biU1Ua8bx1H"
      }
    },
    {
      "cell_type": "code",
      "source": [
        "A.intersection(B)"
      ],
      "metadata": {
        "colab": {
          "base_uri": "https://localhost:8080/"
        },
        "id": "7wORBSs0bpnf",
        "outputId": "eaf54908-e4c4-4444-b7da-e30155f7c3ba"
      },
      "execution_count": null,
      "outputs": [
        {
          "output_type": "execute_result",
          "data": {
            "text/plain": [
              "{4, 5}"
            ]
          },
          "metadata": {},
          "execution_count": 99
        }
      ]
    },
    {
      "cell_type": "code",
      "source": [
        "A&B"
      ],
      "metadata": {
        "colab": {
          "base_uri": "https://localhost:8080/"
        },
        "id": "e6M7OPbGb2ys",
        "outputId": "33d48bb2-19fd-4a3a-ac07-527381e9c5dc"
      },
      "execution_count": null,
      "outputs": [
        {
          "output_type": "execute_result",
          "data": {
            "text/plain": [
              "{4, 5}"
            ]
          },
          "metadata": {},
          "execution_count": 100
        }
      ]
    },
    {
      "cell_type": "markdown",
      "source": [
        "difference() method returns the difference of two sets\n",
        "\n",
        "Difference of the set B from set A i.e, (A - B) is a set of elements that are only in A but not in B\n",
        "\n",
        "Also denoted by the operator -"
      ],
      "metadata": {
        "id": "e_jLSq2OcBwT"
      }
    },
    {
      "cell_type": "code",
      "source": [
        "A.difference(B)"
      ],
      "metadata": {
        "colab": {
          "base_uri": "https://localhost:8080/"
        },
        "id": "ykcXKu2Nb4hI",
        "outputId": "a538b56a-5a5a-4320-cc60-3920d587df7b"
      },
      "execution_count": null,
      "outputs": [
        {
          "output_type": "execute_result",
          "data": {
            "text/plain": [
              "{1, 2, 3}"
            ]
          },
          "metadata": {},
          "execution_count": 101
        }
      ]
    },
    {
      "cell_type": "code",
      "source": [
        "A-B"
      ],
      "metadata": {
        "colab": {
          "base_uri": "https://localhost:8080/"
        },
        "id": "7A-UKtmFcGBa",
        "outputId": "44363c32-1c13-47a4-9042-a993aeda70e1"
      },
      "execution_count": null,
      "outputs": [
        {
          "output_type": "execute_result",
          "data": {
            "text/plain": [
              "{1, 2, 3}"
            ]
          },
          "metadata": {},
          "execution_count": 102
        }
      ]
    },
    {
      "cell_type": "markdown",
      "source": [
        "symmetric_difference() method returns the set of elements in A and B but not in both (excluding the intersection)\n",
        "\n",
        "Also denoted by the operator ^"
      ],
      "metadata": {
        "id": "L9IWjBSocMbG"
      }
    },
    {
      "cell_type": "code",
      "source": [
        "A.symmetric_difference(B)"
      ],
      "metadata": {
        "colab": {
          "base_uri": "https://localhost:8080/"
        },
        "id": "OcMFU7vHcG2a",
        "outputId": "517eeaef-bdc8-49ec-ee3e-8c10ac090ced"
      },
      "execution_count": null,
      "outputs": [
        {
          "output_type": "execute_result",
          "data": {
            "text/plain": [
              "{1, 2, 3, 6, 7, 8}"
            ]
          },
          "metadata": {},
          "execution_count": 103
        }
      ]
    },
    {
      "cell_type": "code",
      "source": [
        "A^B"
      ],
      "metadata": {
        "colab": {
          "base_uri": "https://localhost:8080/"
        },
        "id": "dwZn9g3qcPpc",
        "outputId": "f61a3aa5-6d1b-486d-9613-ba8d39e0fedb"
      },
      "execution_count": null,
      "outputs": [
        {
          "output_type": "execute_result",
          "data": {
            "text/plain": [
              "{1, 2, 3, 6, 7, 8}"
            ]
          },
          "metadata": {},
          "execution_count": 104
        }
      ]
    },
    {
      "cell_type": "markdown",
      "source": [
        "## Dictionary"
      ],
      "metadata": {
        "id": "aQSglHLmcT8O"
      }
    },
    {
      "cell_type": "markdown",
      "source": [
        "A Python dictionary consists of a key and then an associated value. That value can be almost any Python object. So a dictionary object always has elements as key-value pairs\n",
        "\n",
        "A dictionary object is constructed using curly braces {key1:value1,key2:value2,key3:value3}"
      ],
      "metadata": {
        "id": "pff8_cxYFU2Y"
      }
    },
    {
      "cell_type": "code",
      "source": [
        "# Make a dictionary with {} and : to signify a key and a value\n",
        "marvel_dict = {'Name':'Thor','Place':'Asgard','Weapon' : 'Hammer', 1:2, 3 : 'power', 'alibies' : ['Ironman','Captain America'], 'abc' : {1:2, 4:5}}"
      ],
      "metadata": {
        "id": "P4ndP0n-cV61"
      },
      "execution_count": null,
      "outputs": []
    },
    {
      "cell_type": "code",
      "source": [
        "# We can call value by it's key:\n",
        "\n",
        "marvel_dict['Name']"
      ],
      "metadata": {
        "colab": {
          "base_uri": "https://localhost:8080/",
          "height": 36
        },
        "id": "rqB52BDtFZg-",
        "outputId": "f86e7443-a50f-42af-dd02-57289c7f7eb1"
      },
      "execution_count": null,
      "outputs": [
        {
          "output_type": "execute_result",
          "data": {
            "text/plain": [
              "'Thor'"
            ],
            "application/vnd.google.colaboratory.intrinsic+json": {
              "type": "string"
            }
          },
          "metadata": {},
          "execution_count": 5
        }
      ]
    },
    {
      "cell_type": "code",
      "source": [
        "marvel_dict[\"alibies\"][0]"
      ],
      "metadata": {
        "colab": {
          "base_uri": "https://localhost:8080/",
          "height": 36
        },
        "id": "wKysWc5qFia7",
        "outputId": "86575008-49e8-4923-acaa-4ef8319fda2c"
      },
      "execution_count": null,
      "outputs": [
        {
          "output_type": "execute_result",
          "data": {
            "text/plain": [
              "'Ironman'"
            ],
            "application/vnd.google.colaboratory.intrinsic+json": {
              "type": "string"
            }
          },
          "metadata": {},
          "execution_count": 6
        }
      ]
    },
    {
      "cell_type": "markdown",
      "source": [
        "### Functions and Methods:"
      ],
      "metadata": {
        "id": "snhb-RZ7FxfG"
      }
    },
    {
      "cell_type": "markdown",
      "source": [
        "keys() method returns the list of keys in the dictionary object"
      ],
      "metadata": {
        "id": "Z2jmBs6yF4qJ"
      }
    },
    {
      "cell_type": "code",
      "source": [
        "marvel_dict.keys()"
      ],
      "metadata": {
        "colab": {
          "base_uri": "https://localhost:8080/"
        },
        "id": "LYuW71eKFrog",
        "outputId": "76ddbfa7-a399-4819-8aee-9f6fcb4771f7"
      },
      "execution_count": null,
      "outputs": [
        {
          "output_type": "execute_result",
          "data": {
            "text/plain": [
              "dict_keys(['Name', 'Place', 'Weapon', 1, 3, 'alibies', 'abc'])"
            ]
          },
          "metadata": {},
          "execution_count": 7
        }
      ]
    },
    {
      "cell_type": "markdown",
      "source": [
        "values() method returns the list of values in the dictionary object"
      ],
      "metadata": {
        "id": "gvoW2imcGDfJ"
      }
    },
    {
      "cell_type": "code",
      "source": [
        "marvel_dict.values()"
      ],
      "metadata": {
        "colab": {
          "base_uri": "https://localhost:8080/"
        },
        "id": "Wz1KS0GoF940",
        "outputId": "64f0b9c3-96b4-406c-b64a-6712094da5f3"
      },
      "execution_count": null,
      "outputs": [
        {
          "output_type": "execute_result",
          "data": {
            "text/plain": [
              "dict_values(['Thor', 'Asgard', 'Hammer', 2, 'power', ['Ironman', 'Captain America'], {1: 2, 4: 5}])"
            ]
          },
          "metadata": {},
          "execution_count": 10
        }
      ]
    },
    {
      "cell_type": "markdown",
      "source": [
        "items() method returns the list of the keys and values (seperated by commas in tuple)"
      ],
      "metadata": {
        "id": "9PbLWkwJGMwp"
      }
    },
    {
      "cell_type": "code",
      "source": [
        "marvel_dict.items()"
      ],
      "metadata": {
        "colab": {
          "base_uri": "https://localhost:8080/"
        },
        "id": "uaVfYHIiGFrO",
        "outputId": "22682a0e-eb58-4f11-ca8d-d9e7035f4fd6"
      },
      "execution_count": null,
      "outputs": [
        {
          "output_type": "execute_result",
          "data": {
            "text/plain": [
              "dict_items([('Name', 'Thor'), ('Place', 'Asgard'), ('Weapon', 'Hammer'), (1, 2), (3, 'power'), ('alibies', ['Ironman', 'Captain America']), ('abc', {1: 2, 4: 5})])"
            ]
          },
          "metadata": {},
          "execution_count": 11
        }
      ]
    },
    {
      "cell_type": "markdown",
      "source": [
        "get() method takes the key as an argument and returns None if the key is not found in the dictionary.\n",
        "\n",
        "We can also set the value to return if a key is not found. This will be passed as the second argument in get()"
      ],
      "metadata": {
        "id": "yWudPnVIGWIS"
      }
    },
    {
      "cell_type": "code",
      "source": [
        "marvel_dict.get('power','not found')"
      ],
      "metadata": {
        "colab": {
          "base_uri": "https://localhost:8080/",
          "height": 36
        },
        "id": "8h6sbW7hGJiy",
        "outputId": "ba154e46-171c-46d8-a9fe-22ed074fb47f"
      },
      "execution_count": null,
      "outputs": [
        {
          "output_type": "execute_result",
          "data": {
            "text/plain": [
              "'not found'"
            ],
            "application/vnd.google.colaboratory.intrinsic+json": {
              "type": "string"
            }
          },
          "metadata": {},
          "execution_count": 12
        }
      ]
    },
    {
      "cell_type": "code",
      "source": [
        "marvel_dict.get('power')"
      ],
      "metadata": {
        "id": "7CChdCWOGh3s"
      },
      "execution_count": null,
      "outputs": []
    },
    {
      "cell_type": "markdown",
      "source": [
        "Its important to note that dictionaries are very flexible in the data types they can hold. For example:"
      ],
      "metadata": {
        "id": "kqwNg1qjGvOb"
      }
    },
    {
      "cell_type": "code",
      "source": [
        "employee_dict = {'Name':'Sanket','Skills':['Python','Machine Learning','Deep Learning'],'Band':6.0,'Promotion Year':[2016,2018,2020]}"
      ],
      "metadata": {
        "id": "3mYzv8YmGqLL"
      },
      "execution_count": null,
      "outputs": []
    },
    {
      "cell_type": "markdown",
      "source": [
        "len() function provides the number of keys or values inside the dictionary"
      ],
      "metadata": {
        "id": "K1gfIHDfG1ps"
      }
    },
    {
      "cell_type": "code",
      "source": [
        "len(marvel_dict)"
      ],
      "metadata": {
        "colab": {
          "base_uri": "https://localhost:8080/"
        },
        "id": "8rZlyU8LGw1Z",
        "outputId": "e4c1c840-5d3d-4bfd-bbad-aaaae9357e4d"
      },
      "execution_count": null,
      "outputs": [
        {
          "output_type": "execute_result",
          "data": {
            "text/plain": [
              "7"
            ]
          },
          "metadata": {},
          "execution_count": 15
        }
      ]
    },
    {
      "cell_type": "markdown",
      "source": [
        "update()\n",
        "\n",
        "You can add an element which is a key-value pair using the update() method\n",
        "\n",
        "This method takes a dictionary as an argument\n",
        "\n",
        "We can also use the update() method to update the existing values for a key"
      ],
      "metadata": {
        "id": "ZEBVd2qQHDyL"
      }
    },
    {
      "cell_type": "code",
      "source": [
        "marvel_dict.update({'friend':'hulk'})\n",
        "marvel_dict"
      ],
      "metadata": {
        "colab": {
          "base_uri": "https://localhost:8080/"
        },
        "id": "TpjLoPl4G73W",
        "outputId": "9fbbb85b-2fcb-4d01-a89a-3d8329e82511"
      },
      "execution_count": null,
      "outputs": [
        {
          "output_type": "execute_result",
          "data": {
            "text/plain": [
              "{'Name': 'Thor',\n",
              " 'Place': 'Asgard',\n",
              " 'Weapon': 'Hammer',\n",
              " 1: 2,\n",
              " 3: 'power',\n",
              " 'alibies': ['Ironman', 'Captain America'],\n",
              " 'abc': {1: 2, 4: 5},\n",
              " 'friend': 'hulk'}"
            ]
          },
          "metadata": {},
          "execution_count": 18
        }
      ]
    },
    {
      "cell_type": "markdown",
      "source": [
        "dict()\n",
        "\n",
        "We can also create dictionary objects from sequence of items which are pairs.\n",
        "\n",
        "This is done using the dict()method\n",
        "\n",
        "dict() function takes the list of paired elements as argument"
      ],
      "metadata": {
        "id": "ucbttrSYHaEe"
      }
    },
    {
      "cell_type": "code",
      "source": [
        "country_list = ['India','Australia','United States','England']\n",
        "city_list = ['New Delhi', 'Canberra' , 'Washington DC','London']\n",
        "\n",
        "dict_of_countries = dict(zip(country_list, city_list))\n",
        "\n",
        "print(dict_of_countries)"
      ],
      "metadata": {
        "colab": {
          "base_uri": "https://localhost:8080/"
        },
        "id": "ldh8tO3QHK9D",
        "outputId": "afd1f247-496a-4535-b419-e1cbd4e7c194"
      },
      "execution_count": null,
      "outputs": [
        {
          "output_type": "stream",
          "name": "stdout",
          "text": [
            "{'India': 'New Delhi', 'Australia': 'Canberra', 'United States': 'Washington DC', 'England': 'London'}\n"
          ]
        }
      ]
    },
    {
      "cell_type": "markdown",
      "source": [
        "pop() method removes and returns an element from a dictionary having the given key.\n",
        "\n",
        "This method takes two arguments/parameters (i) key - key which is to be searched for removal, (ii) default - value which is to be returned when the key is not in the dictionary\n",
        "\n"
      ],
      "metadata": {
        "id": "yw3aYCtMHxCY"
      }
    },
    {
      "cell_type": "code",
      "source": [
        "dict_of_countries.pop('England')"
      ],
      "metadata": {
        "colab": {
          "base_uri": "https://localhost:8080/",
          "height": 36
        },
        "id": "mm0jjpUfHq2O",
        "outputId": "1a364025-1ccf-4f06-c4d9-d9831681376b"
      },
      "execution_count": null,
      "outputs": [
        {
          "output_type": "execute_result",
          "data": {
            "text/plain": [
              "'London'"
            ],
            "application/vnd.google.colaboratory.intrinsic+json": {
              "type": "string"
            }
          },
          "metadata": {},
          "execution_count": 22
        }
      ]
    },
    {
      "cell_type": "code",
      "source": [
        "dict_of_countries"
      ],
      "metadata": {
        "colab": {
          "base_uri": "https://localhost:8080/"
        },
        "id": "X-Ok9NvcH44P",
        "outputId": "7b872fa6-a1e8-4228-d85b-bb348f110761"
      },
      "execution_count": null,
      "outputs": [
        {
          "output_type": "execute_result",
          "data": {
            "text/plain": [
              "{'India': 'New Delhi',\n",
              " 'Australia': 'Canberra',\n",
              " 'United States': 'Washington DC'}"
            ]
          },
          "metadata": {},
          "execution_count": 23
        }
      ]
    },
    {
      "cell_type": "code",
      "source": [
        "[(i, j) for i, j in dict_of_countries.items()]"
      ],
      "metadata": {
        "colab": {
          "base_uri": "https://localhost:8080/"
        },
        "id": "w2W21R2_MD3G",
        "outputId": "c0fae2a1-724f-42e3-fb98-ee1531c6ef96"
      },
      "execution_count": null,
      "outputs": [
        {
          "output_type": "execute_result",
          "data": {
            "text/plain": [
              "[('India', 'New Delhi'),\n",
              " ('Australia', 'Canberra'),\n",
              " ('United States', 'Washington DC')]"
            ]
          },
          "metadata": {},
          "execution_count": 43
        }
      ]
    },
    {
      "cell_type": "markdown",
      "metadata": {
        "id": "LIQYbLZD4tmG"
      },
      "source": [
        "## for loops\n",
        "\n",
        "A <code>for</code> loop acts as an iterator in Python; it goes through items that are in a *sequence* or any other iterable item. Iterable is an object, which one can iterate over. Objects that we've learned about that we can iterate over include strings, lists, tuples, and even built-in iterables for dictionaries, such as keys or values.\n",
        "\n",
        "Here's the general format for a <code>for</code> loop in Python:\n",
        "\n",
        "    for item in object:\n",
        "        statements to do stuff"
      ]
    },
    {
      "cell_type": "code",
      "source": [
        "# Consider a list of strings\n",
        "\n",
        "got_houses = ['Stark', 'Arryn', 'Baratheon', 'Tully', 'Greyjoy', 'Lannister', 'Tyrell', 'Martell', 'Targaryen']\n",
        "\n",
        "for i in got_houses:\n",
        "  print(i)"
      ],
      "metadata": {
        "colab": {
          "base_uri": "https://localhost:8080/"
        },
        "id": "7mUbo9xyJCJa",
        "outputId": "f903e92b-463f-4cdb-8ef6-848a2977f480"
      },
      "execution_count": null,
      "outputs": [
        {
          "output_type": "stream",
          "name": "stdout",
          "text": [
            "Stark\n",
            "Arryn\n",
            "Baratheon\n",
            "Tully\n",
            "Greyjoy\n",
            "Lannister\n",
            "Tyrell\n",
            "Martell\n",
            "Targaryen\n"
          ]
        }
      ]
    },
    {
      "cell_type": "markdown",
      "source": [
        "Another interesting way to loop through the elements of a list is to use the enumerate() function. Using enumerate requires us two iterators index and element"
      ],
      "metadata": {
        "id": "GQkx34D-JL-x"
      }
    },
    {
      "cell_type": "code",
      "source": [
        "got_houses = ['Stark', 'Arryn', 'Baratheon', 'Tully', 'Greyjoy', 'Lannister', 'Tyrell', 'Martell', 'Targaryen']\n",
        "\n",
        "for i, j in enumerate(got_houses):\n",
        "  print(i, j)"
      ],
      "metadata": {
        "colab": {
          "base_uri": "https://localhost:8080/"
        },
        "id": "9GPx6veHJI1D",
        "outputId": "d7936da5-ad5c-4efe-874d-7fb910171614"
      },
      "execution_count": null,
      "outputs": [
        {
          "output_type": "stream",
          "name": "stdout",
          "text": [
            "0 Stark\n",
            "1 Arryn\n",
            "2 Baratheon\n",
            "3 Tully\n",
            "4 Greyjoy\n",
            "5 Lannister\n",
            "6 Tyrell\n",
            "7 Martell\n",
            "8 Targaryen\n"
          ]
        }
      ]
    },
    {
      "cell_type": "markdown",
      "source": [
        "range() function is a pretty useful function to get a sequence of numbers. It takes three arguments : start, stop, step"
      ],
      "metadata": {
        "id": "umhVOMU2JWgM"
      }
    },
    {
      "cell_type": "code",
      "source": [
        "# Let us first print the squares\n",
        "for number in range(0,10,2):\n",
        "  squared_number = number**2\n",
        "  print(f\"The square of {number} is {squared_number}\")"
      ],
      "metadata": {
        "colab": {
          "base_uri": "https://localhost:8080/"
        },
        "id": "65AjWGKLJRlS",
        "outputId": "2895c7a2-74dd-42cf-a046-b003266e6ca9"
      },
      "execution_count": null,
      "outputs": [
        {
          "output_type": "stream",
          "name": "stdout",
          "text": [
            "The square of 0 is 0\n",
            "The square of 2 is 4\n",
            "The square of 4 is 16\n",
            "The square of 6 is 36\n",
            "The square of 8 is 64\n"
          ]
        }
      ]
    },
    {
      "cell_type": "markdown",
      "metadata": {
        "id": "gIk7P1Z9kDt6"
      },
      "source": [
        "## <u>While Loops </u>\n",
        "\n",
        "### The <code>while</code> statement in Python is one of the most general ways to perform iteration. A <code>while</code> statement will repeatedly execute a single statement or group of statements as long as the condition is true. The reason it is called a 'loop' is because the code statements are looped through over and over again until the condition is no longer met.\n",
        "\n",
        "### The general format of a while loop is:\n",
        "\n",
        "    while test:\n",
        "        code statements\n",
        "    else:\n",
        "        final code statements\n",
        "\n",
        "### Let’s look at a few simple <code>while</code> loops in action."
      ]
    },
    {
      "cell_type": "code",
      "source": [
        "x = 0\n",
        "\n",
        "while x < 10:\n",
        "  print('x is currently: ',x)\n",
        "  print('x is still less than 10, adding 1 to x')\n",
        "  x=x+1"
      ],
      "metadata": {
        "colab": {
          "base_uri": "https://localhost:8080/"
        },
        "id": "o-M8uJcAJayx",
        "outputId": "7b0cd9d6-7eb7-4211-c0ec-3210fe9c73ca"
      },
      "execution_count": null,
      "outputs": [
        {
          "output_type": "stream",
          "name": "stdout",
          "text": [
            "x is currently:  0\n",
            "x is still less than 10, adding 1 to x\n",
            "x is currently:  1\n",
            "x is still less than 10, adding 1 to x\n",
            "x is currently:  2\n",
            "x is still less than 10, adding 1 to x\n",
            "x is currently:  3\n",
            "x is still less than 10, adding 1 to x\n",
            "x is currently:  4\n",
            "x is still less than 10, adding 1 to x\n",
            "x is currently:  5\n",
            "x is still less than 10, adding 1 to x\n",
            "x is currently:  6\n",
            "x is still less than 10, adding 1 to x\n",
            "x is currently:  7\n",
            "x is still less than 10, adding 1 to x\n",
            "x is currently:  8\n",
            "x is still less than 10, adding 1 to x\n",
            "x is currently:  9\n",
            "x is still less than 10, adding 1 to x\n"
          ]
        }
      ]
    },
    {
      "cell_type": "markdown",
      "metadata": {
        "id": "5u30qd4ZlcXS"
      },
      "source": [
        "## break, continue, pass\n",
        "\n",
        "### We can use <code>break</code>, <code>continue</code>, and <code>pass</code> statements in our loops to add additional functionality for various cases. The three statements are defined by:\n",
        "\n",
        "    break: Breaks out of the current closest enclosing loop.\n",
        "    continue: Goes to the top of the closest enclosing loop.\n",
        "    pass: Does nothing at all.\n",
        "    \n",
        "    \n",
        "### Thinking about <code>break</code> and <code>continue</code> statements, the general format of the <code>while</code> loop looks like this:\n",
        "\n",
        "    while test:\n",
        "        code statement\n",
        "        if test:\n",
        "            break\n",
        "        if test:\n",
        "            continue\n",
        "    else:\n",
        "\n",
        "### <code>break</code> and <code>continue</code> statements can appear anywhere inside the loop’s body, but we will usually put them further nested in conjunction with an <code>if</code> statement to perform an action based on some condition.\n"
      ]
    },
    {
      "cell_type": "code",
      "source": [
        "x = 0\n",
        "\n",
        "while x < 10:\n",
        "  print('x is currently: ',x)\n",
        "  print(' x is still less than 10, adding 1 to x')\n",
        "  x+=1\n",
        "  if x==3:\n",
        "    print('x==3')\n",
        "    break\n",
        "  else:\n",
        "    print('continuing...')\n",
        "    continue"
      ],
      "metadata": {
        "colab": {
          "base_uri": "https://localhost:8080/"
        },
        "id": "WjBTH31zKHSa",
        "outputId": "dca955de-36d8-4954-9433-c89fe79f1b7a"
      },
      "execution_count": null,
      "outputs": [
        {
          "output_type": "stream",
          "name": "stdout",
          "text": [
            "x is currently:  0\n",
            " x is still less than 10, adding 1 to x\n",
            "continuing...\n",
            "x is currently:  1\n",
            " x is still less than 10, adding 1 to x\n",
            "continuing...\n",
            "x is currently:  2\n",
            " x is still less than 10, adding 1 to x\n",
            "x==3\n"
          ]
        }
      ]
    },
    {
      "cell_type": "markdown",
      "source": [
        "## List Comprehensions\n",
        "\n",
        "List comprehensions are a tool for transforming one list (any iterable actually) into another list. During this transformation, elements can be conditionally included in the new list and each element can be transformed as needed.\n",
        "List comprehensions in Python are great, but mastering them can be tricky because they don’t solve a new problem: they just provide a new syntax to solve an existing problem."
      ],
      "metadata": {
        "id": "ecqmQVW9LGx1"
      }
    },
    {
      "cell_type": "code",
      "source": [
        "# The list of numbers\n",
        "list_of_numbers = [1, 2, 4, 6, 11, 14, 17, 20]\n",
        "\n",
        "# Let us first initialize a list where we will be appending the squares in each iteration\n",
        "\n",
        "squared_numbers = []\n",
        "\n",
        "for number in list_of_numbers:\n",
        "  # Use the append method to add the numbers one by one to our list\n",
        "  squared_numbers.append(number**2)\n",
        "  # print(squared_numbers)\n",
        "\n",
        "print(f\"The list of squared numbers is {squared_numbers}\")"
      ],
      "metadata": {
        "colab": {
          "base_uri": "https://localhost:8080/"
        },
        "id": "XtBt2LyBKlgV",
        "outputId": "e58c65ed-1b35-4f2d-96ba-891512b118d5"
      },
      "execution_count": null,
      "outputs": [
        {
          "output_type": "stream",
          "name": "stdout",
          "text": [
            "The list of squared numbers is [1, 4, 16, 36, 121, 196, 289, 400]\n"
          ]
        }
      ]
    },
    {
      "cell_type": "code",
      "source": [
        "# Getting the list of squares using list comprehension\n",
        "squared_numbers = [number**2 for number in list_of_numbers]\n",
        "print(squared_numbers)"
      ],
      "metadata": {
        "colab": {
          "base_uri": "https://localhost:8080/"
        },
        "id": "zepUeiidLO-k",
        "outputId": "b57c717c-4481-4e8d-9731-e246f2b3d4d7"
      },
      "execution_count": null,
      "outputs": [
        {
          "output_type": "stream",
          "name": "stdout",
          "text": [
            "[1, 4, 16, 36, 121, 196, 289, 400]\n"
          ]
        }
      ]
    },
    {
      "cell_type": "markdown",
      "source": [
        "Suppose we wanted to get the squares of only those numbers which are even"
      ],
      "metadata": {
        "id": "u5eGC3MMLW8F"
      }
    },
    {
      "cell_type": "code",
      "source": [
        "print([number**2 for number in list_of_numbers if number%2==0])"
      ],
      "metadata": {
        "colab": {
          "base_uri": "https://localhost:8080/"
        },
        "id": "YAN40H-ULTSQ",
        "outputId": "b637cdc4-ef76-41ab-b852-0f164e7f1778"
      },
      "execution_count": null,
      "outputs": [
        {
          "output_type": "stream",
          "name": "stdout",
          "text": [
            "[4, 16, 36, 196, 400]\n"
          ]
        }
      ]
    },
    {
      "cell_type": "code",
      "source": [
        "print([number**2 if number%2==0 else number**5 for number in list_of_numbers])"
      ],
      "metadata": {
        "colab": {
          "base_uri": "https://localhost:8080/"
        },
        "id": "krY9yOOhLdlv",
        "outputId": "ef80b8c0-8945-40e9-e359-3150738a0a34"
      },
      "execution_count": null,
      "outputs": [
        {
          "output_type": "stream",
          "name": "stdout",
          "text": [
            "[1, 4, 16, 36, 161051, 196, 1419857, 400]\n"
          ]
        }
      ]
    },
    {
      "cell_type": "markdown",
      "source": [
        "**A list comprehension consists of the following parts:**\n",
        "\n",
        "An Input Sequence.\n",
        "\n",
        "A Variable representing members of the input sequence.\n",
        "\n",
        "An Optional Predicate expression.\n",
        "\n",
        "An Output Expression producing elements of the output list from members of the Input Sequence that satisfy the predicate."
      ],
      "metadata": {
        "id": "eQESXViSL24l"
      }
    },
    {
      "cell_type": "code",
      "source": [],
      "metadata": {
        "id": "WvyZp7g7Lk0p"
      },
      "execution_count": null,
      "outputs": []
    },
    {
      "cell_type": "markdown",
      "source": [
        "# Numpy"
      ],
      "metadata": {
        "id": "lWGpSLdnMzmu"
      }
    },
    {
      "cell_type": "markdown",
      "source": [
        "**Python Module:**\n",
        "\n",
        "A Python module is like a small, self-contained file that contains Python code.\n",
        "\n",
        "It can include functions, variables, and classes that you can use in your Python programs.\n",
        "\n",
        "Modules are designed to help organize your code and make it more manageable.\n",
        "\n",
        "For example, if you have a module named \"math_operations.py,\" it might contain functions for doing math operations like addition, subtraction, etc.\n",
        "\n",
        "\n",
        "**Python Library:**\n",
        "\n",
        "A Python library is a collection of modules bundled together to solve specific tasks or provide functionality for various purposes.\n",
        "\n",
        "Libraries are like toolkits that contain pre-written code to help you accomplish common tasks without having to write everything from scratch.\n",
        "\n",
        "Python has a rich ecosystem of libraries, such as NumPy for numerical operations, pandas for data manipulation, and matplotlib for creating plots and charts.\n",
        "\n",
        "Libraries are typically maintained by the Python community or other developers and can be easily installed and used in your Python programs."
      ],
      "metadata": {
        "id": "mt4VMm6VNpM-"
      }
    },
    {
      "cell_type": "markdown",
      "source": [
        "NumPy is a Python package. It stands for 'Numerical Python'. It is a library consisting of multidimensional array objects and a collection of routines for processing of array. The NumPy package is the workhorse of data analysis, machine learning, and scientific computing in the python ecosystem. It vastly simplifies manipulating and crunching vectors and matrices. Some of python’s leading package rely on NumPy as a fundamental piece of their infrastructure (examples include scikit-learn, SciPy, pandas, and tensorflow). Beyond the ability to slice and dice numeric data, mastering numpy will give you an edge when dealing and debugging with advanced usecases in these libraries."
      ],
      "metadata": {
        "id": "veZa3fMYN2pm"
      }
    },
    {
      "cell_type": "code",
      "source": [
        "# Statement to import the numpy library\n",
        "import numpy as np"
      ],
      "metadata": {
        "id": "MKE9993SM1gF"
      },
      "execution_count": null,
      "outputs": []
    },
    {
      "cell_type": "markdown",
      "source": [
        "One-dimensional array of some prime numbers"
      ],
      "metadata": {
        "id": "5X3-TEIQODv9"
      }
    },
    {
      "cell_type": "code",
      "source": [
        "prime_array = np.array([2,3,5,7,11])\n",
        "print(prime_array)\n",
        "print(prime_array.shape)"
      ],
      "metadata": {
        "id": "dB4bweWfN7r7",
        "outputId": "83f81b2c-f3c7-423c-e412-6ff7b7a35875",
        "colab": {
          "base_uri": "https://localhost:8080/"
        }
      },
      "execution_count": null,
      "outputs": [
        {
          "output_type": "stream",
          "name": "stdout",
          "text": [
            "[ 2  3  5  7 11]\n",
            "(5,)\n"
          ]
        }
      ]
    },
    {
      "cell_type": "markdown",
      "source": [
        "Create a two-dimensional array"
      ],
      "metadata": {
        "id": "cC2_QziSOKW-"
      }
    },
    {
      "cell_type": "code",
      "source": [
        "another_array = np.array([[1,2],[3,4]])\n",
        "print(another_array)\n",
        "print(another_array.shape)"
      ],
      "metadata": {
        "id": "x32-237WODQX",
        "outputId": "5ecdc255-3dd7-4be4-8670-852040f1ec63",
        "colab": {
          "base_uri": "https://localhost:8080/"
        }
      },
      "execution_count": null,
      "outputs": [
        {
          "output_type": "stream",
          "name": "stdout",
          "text": [
            "[[1 2]\n",
            " [3 4]]\n",
            "(2, 2)\n"
          ]
        }
      ]
    },
    {
      "cell_type": "markdown",
      "source": [
        "Create a three-dimensional array"
      ],
      "metadata": {
        "id": "L1PXIbkYOR0X"
      }
    },
    {
      "cell_type": "code",
      "source": [
        "threeD_array = np.array([[[1,2],[3,4]],\n",
        "                        [[5,6],[7,8]]])\n",
        "print(threeD_array)\n",
        "print(threeD_array.shape)"
      ],
      "metadata": {
        "id": "IMJuzR57OMOr",
        "outputId": "d85c9f83-04e8-4b54-e6d6-40386c85fe38",
        "colab": {
          "base_uri": "https://localhost:8080/"
        }
      },
      "execution_count": null,
      "outputs": [
        {
          "output_type": "stream",
          "name": "stdout",
          "text": [
            "[[[1 2]\n",
            "  [3 4]]\n",
            "\n",
            " [[5 6]\n",
            "  [7 8]]]\n",
            "(2, 2, 2)\n"
          ]
        }
      ]
    },
    {
      "cell_type": "markdown",
      "source": [
        "Create n-dimensional array"
      ],
      "metadata": {
        "id": "zKHbbZrzOlE3"
      }
    },
    {
      "cell_type": "code",
      "source": [
        "n_dimensional = np.array([[[[1,2],[3,4]],[[5,6],[7,8]]],\n",
        "          [[[1,2],[3,4]],[[5,6],[7,8]]]])\n",
        "\n",
        "print(n_dimensional)\n",
        "print(n_dimensional.shape)"
      ],
      "metadata": {
        "id": "xuhEDvTjOZES",
        "outputId": "fbaa4f7b-dffa-4268-f048-e9496ffd18ab",
        "colab": {
          "base_uri": "https://localhost:8080/"
        }
      },
      "execution_count": null,
      "outputs": [
        {
          "output_type": "stream",
          "name": "stdout",
          "text": [
            "[[[[1 2]\n",
            "   [3 4]]\n",
            "\n",
            "  [[5 6]\n",
            "   [7 8]]]\n",
            "\n",
            "\n",
            " [[[1 2]\n",
            "   [3 4]]\n",
            "\n",
            "  [[5 6]\n",
            "   [7 8]]]]\n",
            "(2, 2, 2, 2)\n"
          ]
        }
      ]
    },
    {
      "cell_type": "markdown",
      "source": [
        "### A numpy array has following attributes\n",
        "\n",
        "ndarray.shape\n",
        "\n",
        "ndarray.ndim\n",
        "\n",
        "ndarray.size\n",
        "\n",
        "ndarray.dtype\n",
        "\n",
        "ndarray.astype"
      ],
      "metadata": {
        "id": "kW1cQTvWO12e"
      }
    },
    {
      "cell_type": "markdown",
      "source": [
        "ndarray.shape\n",
        "\n",
        "This returns a tuple consisting of array dimensions and can be used to resize the array"
      ],
      "metadata": {
        "id": "R-OmD19tO9Ip"
      }
    },
    {
      "cell_type": "code",
      "source": [
        "alma_array = np.array([[1,2,3],[4,5,6]])\n",
        "print(alma_array.shape)"
      ],
      "metadata": {
        "id": "QuG8mhKwOtqx",
        "outputId": "93bba55f-8631-463d-e78d-d9e0e8c0a7c1",
        "colab": {
          "base_uri": "https://localhost:8080/"
        }
      },
      "execution_count": null,
      "outputs": [
        {
          "output_type": "stream",
          "name": "stdout",
          "text": [
            "(2, 3)\n"
          ]
        }
      ]
    },
    {
      "cell_type": "markdown",
      "source": [
        "ndarray.ndim\n",
        "\n",
        "This returns the number of dimensions"
      ],
      "metadata": {
        "id": "favTRbwlPDr3"
      }
    },
    {
      "cell_type": "code",
      "source": [
        "array_of_integers = np.array([0,1,2,3,4,5,6,7,8,9])\n",
        "print(\"Dimensions of 'array_of_integers' = \", array_of_integers.ndim)\n",
        "\n",
        "sample_2d_array = np.array([[1,2,3],[4,5,6]])\n",
        "print(\"Dimensions of 'sample_2d_array' = \", sample_2d_array.ndim)"
      ],
      "metadata": {
        "id": "XAD4kPyQPAUs",
        "outputId": "1b3c2406-8987-48d2-de00-07b2a4efc68e",
        "colab": {
          "base_uri": "https://localhost:8080/"
        }
      },
      "execution_count": null,
      "outputs": [
        {
          "output_type": "stream",
          "name": "stdout",
          "text": [
            "Dimensions of 'array_of_integers' =  1\n",
            "Dimensions of 'sample_2d_array' =  2\n"
          ]
        }
      ]
    },
    {
      "cell_type": "markdown",
      "source": [
        "ndarray.size\n",
        "\n",
        "This returns the total number of elements in the array"
      ],
      "metadata": {
        "id": "NWXSEXLHPe7A"
      }
    },
    {
      "cell_type": "code",
      "source": [
        "# Print the size of array\n",
        "array_of_integers = np.array([0,1,2,3,4,5,6,7,8,9])\n",
        "print(f\"The total number of elements in our array 'array_of_integers' =  {array_of_integers.size}\")\n",
        "\n",
        "sample_2d_array = np.array([[1,2,3],[4,5,6]])\n",
        "print(f\"The total number of elements in our array 'sample_2d_array' =  {sample_2d_array.size}\")"
      ],
      "metadata": {
        "id": "7sZcyd-HPF6p",
        "outputId": "5f6b2f4c-95a2-4d53-82a8-4af17d56abc5",
        "colab": {
          "base_uri": "https://localhost:8080/"
        }
      },
      "execution_count": null,
      "outputs": [
        {
          "output_type": "stream",
          "name": "stdout",
          "text": [
            "The total number of elements in our array 'array_of_integers' =  10\n",
            "The total number of elements in our array 'sample_2d_array' =  6\n"
          ]
        }
      ]
    },
    {
      "cell_type": "markdown",
      "source": [
        "ndarray.dtype\n",
        "\n",
        "This returns the data type of the array"
      ],
      "metadata": {
        "id": "BeJO7MRZPltQ"
      }
    },
    {
      "cell_type": "code",
      "source": [
        "# Print the dtype of array\n",
        "my_array = np.array([1,2,3,4,5])\n",
        "print(my_array.dtype)"
      ],
      "metadata": {
        "id": "Fu9ps_8RPh08",
        "outputId": "0ba4066d-9b09-4d57-c248-d66c1dcf1beb",
        "colab": {
          "base_uri": "https://localhost:8080/"
        }
      },
      "execution_count": null,
      "outputs": [
        {
          "output_type": "stream",
          "name": "stdout",
          "text": [
            "int64\n"
          ]
        }
      ]
    },
    {
      "cell_type": "code",
      "source": [
        "# Print the dtype of another array\n",
        "my_array = np.array([1,2.0,3,4,5,'abc'])\n",
        "print(my_array.dtype)"
      ],
      "metadata": {
        "id": "-10yYPAgPoUf",
        "outputId": "ca649ce1-ac4f-4c4e-c6e6-495eef864434",
        "colab": {
          "base_uri": "https://localhost:8080/"
        }
      },
      "execution_count": null,
      "outputs": [
        {
          "output_type": "stream",
          "name": "stdout",
          "text": [
            "<U32\n"
          ]
        }
      ]
    },
    {
      "cell_type": "markdown",
      "source": [
        "ndarray.astype\n",
        "\n",
        "This changes the data type of an array"
      ],
      "metadata": {
        "id": "fc1gbLj7Pr8I"
      }
    },
    {
      "cell_type": "code",
      "source": [
        "# Create an array\n",
        "arravali = np.array([2,3,4])\n",
        "print(arravali)\n",
        "print(arravali.dtype)\n",
        "\n",
        "# Change the datatype of the array to float\n",
        "arravali_ = arravali.astype('float64')\n",
        "print(arravali_)\n",
        "print(arravali_.dtype)"
      ],
      "metadata": {
        "id": "xplcrJ7mPpco",
        "outputId": "3520a93f-3352-4f04-9dbf-49fbe345ae4e",
        "colab": {
          "base_uri": "https://localhost:8080/"
        }
      },
      "execution_count": null,
      "outputs": [
        {
          "output_type": "stream",
          "name": "stdout",
          "text": [
            "[2 3 4]\n",
            "int64\n",
            "[2. 3. 4.]\n",
            "float64\n"
          ]
        }
      ]
    },
    {
      "cell_type": "markdown",
      "source": [
        "### Why to choose Numpy\n",
        "\n",
        "**Numpy data structures perform better in:**\n",
        "\n",
        "Memory - Numpy data structures take up less space\n",
        "\n",
        "Performance - they have a need for speed and are faster than lists\n",
        "\n",
        "Functionality - SciPy and NumPy have optimized functions such as linear algebra operations built in."
      ],
      "metadata": {
        "id": "h7OX_pMHQHFY"
      }
    },
    {
      "cell_type": "markdown",
      "source": [
        "### Different ways of creating an ndarray"
      ],
      "metadata": {
        "id": "mPflUARZQVcx"
      }
    },
    {
      "cell_type": "markdown",
      "source": [
        "Uninitialized"
      ],
      "metadata": {
        "id": "8LvrXhckQfjg"
      }
    },
    {
      "cell_type": "code",
      "source": [
        "# Creating an uninitialized array of a specified shape\n",
        "uninitialized_array = np.empty([5,3],dtype=int)\n",
        "print(uninitialized_array)"
      ],
      "metadata": {
        "id": "RlXCNZ_DP3dr",
        "outputId": "118c9f23-c724-44cd-b1b9-8bada70aee8d",
        "colab": {
          "base_uri": "https://localhost:8080/"
        }
      },
      "execution_count": null,
      "outputs": [
        {
          "output_type": "stream",
          "name": "stdout",
          "text": [
            "[[    138530228448592     100454228988208                   0]\n",
            " [                  0     138529875165184 8319683848551211643]\n",
            " [3180222411935070754 8391722768137527840 7959390389040738153]\n",
            " [2318290808525693556 8675445202132104482 7957695011165139568]\n",
            " [2318365875964093043 7233184988217307170                 128]]\n"
          ]
        }
      ]
    },
    {
      "cell_type": "markdown",
      "source": [
        "Initialized with zeros"
      ],
      "metadata": {
        "id": "PcZ09HHWQo7f"
      }
    },
    {
      "cell_type": "code",
      "source": [
        "zero_array = np.zeros([5,3], dtype=int)\n",
        "print(zero_array)"
      ],
      "metadata": {
        "id": "8GJddNC2QhZZ",
        "outputId": "95191812-de0d-46ed-aafa-d6e6b6b67134",
        "colab": {
          "base_uri": "https://localhost:8080/"
        }
      },
      "execution_count": null,
      "outputs": [
        {
          "output_type": "stream",
          "name": "stdout",
          "text": [
            "[[0 0 0]\n",
            " [0 0 0]\n",
            " [0 0 0]\n",
            " [0 0 0]\n",
            " [0 0 0]]\n"
          ]
        }
      ]
    },
    {
      "cell_type": "markdown",
      "source": [
        "Initialized with ones"
      ],
      "metadata": {
        "id": "_1KWCUq8Q22R"
      }
    },
    {
      "cell_type": "code",
      "source": [
        "ones_array = np.ones([5,3], dtype=int)\n",
        "print(ones_array)"
      ],
      "metadata": {
        "id": "C5rYi6jHQuvf",
        "outputId": "73dafffd-9548-4ae0-d8c7-d313d0ecf0af",
        "colab": {
          "base_uri": "https://localhost:8080/"
        }
      },
      "execution_count": null,
      "outputs": [
        {
          "output_type": "stream",
          "name": "stdout",
          "text": [
            "[[1 1 1]\n",
            " [1 1 1]\n",
            " [1 1 1]\n",
            " [1 1 1]\n",
            " [1 1 1]]\n"
          ]
        }
      ]
    },
    {
      "cell_type": "markdown",
      "source": [
        "Array from numerical ranges"
      ],
      "metadata": {
        "id": "rLO36u3zRFLk"
      }
    },
    {
      "cell_type": "markdown",
      "source": [
        "Array with values from 0 to N"
      ],
      "metadata": {
        "id": "8-rxT2hM1oPL"
      }
    },
    {
      "cell_type": "code",
      "source": [
        "array_with_range = np.arange(5)\n",
        "array_with_range"
      ],
      "metadata": {
        "id": "kSEp98fwQ9if",
        "outputId": "7dd501a8-48ff-4de7-c37d-60c8aa2bc9d8",
        "colab": {
          "base_uri": "https://localhost:8080/"
        }
      },
      "execution_count": null,
      "outputs": [
        {
          "output_type": "execute_result",
          "data": {
            "text/plain": [
              "array([0, 1, 2, 3, 4])"
            ]
          },
          "metadata": {},
          "execution_count": 66
        }
      ]
    },
    {
      "cell_type": "code",
      "source": [
        "# Set start and stop parameters\n",
        "# Parameters for the function - np.arange(start, stop, step, dtype)\n",
        "# Default dtype is that of the input given\n",
        "another_array_with_range = np.arange(10,20,2)\n",
        "another_array_with_range"
      ],
      "metadata": {
        "id": "bEjd6krARIjL",
        "outputId": "ae3eafb1-75ec-466f-b8b9-7a7ed0de09f5",
        "colab": {
          "base_uri": "https://localhost:8080/"
        }
      },
      "execution_count": null,
      "outputs": [
        {
          "output_type": "execute_result",
          "data": {
            "text/plain": [
              "array([10, 12, 14, 16, 18])"
            ]
          },
          "metadata": {},
          "execution_count": 71
        }
      ]
    },
    {
      "cell_type": "markdown",
      "source": [
        "to get the number of evenly spaced values between intervals"
      ],
      "metadata": {
        "id": "WGDHmZyQ1lfk"
      }
    },
    {
      "cell_type": "code",
      "source": [
        "# Parameters for the function - np.linespace(start, stop, num, endpoint, retstep, dtype)\n",
        "# dtype is that of output array\n",
        "linearly_spaced_values = np.linspace(10,20,9 , endpoint = False, retstep = True)\n",
        "linearly_spaced_values"
      ],
      "metadata": {
        "id": "FTrupk1IROvP",
        "colab": {
          "base_uri": "https://localhost:8080/"
        },
        "outputId": "c407df71-b288-4d9f-badc-6a1e9b57691f"
      },
      "execution_count": 5,
      "outputs": [
        {
          "output_type": "execute_result",
          "data": {
            "text/plain": [
              "(array([10.        , 11.11111111, 12.22222222, 13.33333333, 14.44444444,\n",
              "        15.55555556, 16.66666667, 17.77777778, 18.88888889]),\n",
              " 1.1111111111111112)"
            ]
          },
          "metadata": {},
          "execution_count": 5
        }
      ]
    },
    {
      "cell_type": "code",
      "source": [
        "# to get the number of evenly spaced values between intervals\n",
        "# Parameters for the function - np.linespace(start, stop, num, endpoint, retstep, dtype)\n",
        "# dtype is that of output array\n",
        "linearly_spaced_values = np.linspace(1, 100, 10, endpoint= True, retstep=True)\n",
        "linearly_spaced_values"
      ],
      "metadata": {
        "id": "GWxt54EGRhaA",
        "outputId": "ab6633f8-d7a3-4d3a-cf3e-2545952c6ff1",
        "colab": {
          "base_uri": "https://localhost:8080/"
        }
      },
      "execution_count": null,
      "outputs": [
        {
          "output_type": "execute_result",
          "data": {
            "text/plain": [
              "(array([  1.,  12.,  23.,  34.,  45.,  56.,  67.,  78.,  89., 100.]), 11.0)"
            ]
          },
          "metadata": {},
          "execution_count": 73
        }
      ]
    },
    {
      "cell_type": "markdown",
      "source": [
        "Array from random numbers"
      ],
      "metadata": {
        "id": "uq3Nl6Lr2dYT"
      }
    },
    {
      "cell_type": "markdown",
      "source": [
        "to get an array with random input elements of desired shape"
      ],
      "metadata": {
        "id": "U8LJOk7q2obO"
      }
    },
    {
      "cell_type": "code",
      "source": [
        "np.random.random((5,3))"
      ],
      "metadata": {
        "colab": {
          "base_uri": "https://localhost:8080/"
        },
        "id": "hHOOGcrf2rzr",
        "outputId": "1415b3f9-61ff-4dbb-9b97-c25690b7d386"
      },
      "execution_count": 9,
      "outputs": [
        {
          "output_type": "execute_result",
          "data": {
            "text/plain": [
              "array([[8.22991407e-01, 8.64686522e-01, 4.15230747e-01],\n",
              "       [2.88701255e-01, 6.29099001e-01, 6.76434268e-04],\n",
              "       [1.48612976e-01, 6.55778085e-01, 7.05588097e-01],\n",
              "       [5.03568723e-01, 4.24218968e-01, 4.05482413e-01],\n",
              "       [9.88543882e-01, 2.13336143e-01, 7.70846859e-01]])"
            ]
          },
          "metadata": {},
          "execution_count": 9
        }
      ]
    },
    {
      "cell_type": "markdown",
      "source": [
        "to get an array with random input elements of desired shape"
      ],
      "metadata": {
        "id": "e2VK8JRmRhJx"
      }
    },
    {
      "cell_type": "code",
      "source": [
        "np.random.randint(1,6,(5,3))"
      ],
      "metadata": {
        "colab": {
          "base_uri": "https://localhost:8080/"
        },
        "id": "BcgOAakX33nN",
        "outputId": "7814a34f-05dd-4a88-8ac5-8d60f13ee9df"
      },
      "execution_count": 10,
      "outputs": [
        {
          "output_type": "execute_result",
          "data": {
            "text/plain": [
              "array([[4, 3, 3],\n",
              "       [2, 3, 5],\n",
              "       [5, 5, 3],\n",
              "       [5, 1, 2],\n",
              "       [2, 2, 1]])"
            ]
          },
          "metadata": {},
          "execution_count": 10
        }
      ]
    },
    {
      "cell_type": "markdown",
      "source": [
        "Array from specified numbers"
      ],
      "metadata": {
        "id": "nTXbwTvw4K4b"
      }
    },
    {
      "cell_type": "markdown",
      "source": [
        "To get an array with specified input element of desired shape"
      ],
      "metadata": {
        "id": "kG0JL2_C4NSi"
      }
    },
    {
      "cell_type": "code",
      "source": [
        "np.full((5,3), 10)"
      ],
      "metadata": {
        "colab": {
          "base_uri": "https://localhost:8080/"
        },
        "id": "Ypo54GiQ3-7g",
        "outputId": "f8031165-ac29-4805-b281-22c3863e3de3"
      },
      "execution_count": 11,
      "outputs": [
        {
          "output_type": "execute_result",
          "data": {
            "text/plain": [
              "array([[10, 10, 10],\n",
              "       [10, 10, 10],\n",
              "       [10, 10, 10],\n",
              "       [10, 10, 10],\n",
              "       [10, 10, 10]])"
            ]
          },
          "metadata": {},
          "execution_count": 11
        }
      ]
    },
    {
      "cell_type": "code",
      "source": [
        "a = np.ones((3,3))*30\n",
        "print(a)"
      ],
      "metadata": {
        "colab": {
          "base_uri": "https://localhost:8080/"
        },
        "id": "2KqbrqqY4UOd",
        "outputId": "3e46152e-a331-4a58-82c8-3563249e8c25"
      },
      "execution_count": 12,
      "outputs": [
        {
          "output_type": "stream",
          "name": "stdout",
          "text": [
            "[[30. 30. 30.]\n",
            " [30. 30. 30.]\n",
            " [30. 30. 30.]]\n"
          ]
        }
      ]
    },
    {
      "cell_type": "markdown",
      "source": [
        "to get an identity matrix"
      ],
      "metadata": {
        "id": "v35EztKb437i"
      }
    },
    {
      "cell_type": "code",
      "source": [
        "np.identity(3)"
      ],
      "metadata": {
        "colab": {
          "base_uri": "https://localhost:8080/"
        },
        "id": "G-Pltkvv4z0o",
        "outputId": "cfd3a6cb-651f-450b-eecd-dd0fd330c2ed"
      },
      "execution_count": 15,
      "outputs": [
        {
          "output_type": "execute_result",
          "data": {
            "text/plain": [
              "array([[1., 0., 0.],\n",
              "       [0., 1., 0.],\n",
              "       [0., 0., 1.]])"
            ]
          },
          "metadata": {},
          "execution_count": 15
        }
      ]
    },
    {
      "cell_type": "markdown",
      "source": [
        "Array Manipulation\n",
        "\n",
        "np.transpose(array) - To transpose array\n",
        "\n",
        "np.reshape(array,shape) - To Change shape of an array\n",
        "\n",
        "np.resize(array,shape) - To return new array with shape\n",
        "\n",
        "np.flatten(array) - To flatten the array"
      ],
      "metadata": {
        "id": "TeKQqZBh5cda"
      }
    },
    {
      "cell_type": "markdown",
      "source": [
        "np.transpose()\n",
        "\n",
        "Transpose is defined as an operator which flips a matrix over its diagonal; that is, it switches the row and column indices of the matrix A by producing another matrix, often denoted by  AT"
      ],
      "metadata": {
        "id": "-O8xsBDf5-bR"
      }
    },
    {
      "cell_type": "code",
      "source": [
        "arr1 = np.random.randint(1,6,(3,5))\n",
        "\n",
        "print(arr1)"
      ],
      "metadata": {
        "colab": {
          "base_uri": "https://localhost:8080/"
        },
        "id": "SkYBSEjy46nc",
        "outputId": "b1ed891d-c8b8-427c-de25-85015964beb3"
      },
      "execution_count": 16,
      "outputs": [
        {
          "output_type": "stream",
          "name": "stdout",
          "text": [
            "[[3 3 5 3 1]\n",
            " [2 4 5 2 4]\n",
            " [2 1 5 4 4]]\n"
          ]
        }
      ]
    },
    {
      "cell_type": "code",
      "source": [
        "print(np.transpose(arr1))"
      ],
      "metadata": {
        "colab": {
          "base_uri": "https://localhost:8080/"
        },
        "id": "fqOvqzRp6L99",
        "outputId": "791b31d5-3b98-4c99-b783-407ae439a819"
      },
      "execution_count": 17,
      "outputs": [
        {
          "output_type": "stream",
          "name": "stdout",
          "text": [
            "[[3 2 2]\n",
            " [3 4 1]\n",
            " [5 5 5]\n",
            " [3 2 4]\n",
            " [1 4 4]]\n"
          ]
        }
      ]
    },
    {
      "cell_type": "markdown",
      "source": [
        "np.reshape(shape)\n",
        "\n",
        "Gives a new shape to an array without changing its data."
      ],
      "metadata": {
        "id": "Byy9iuii6iKZ"
      }
    },
    {
      "cell_type": "code",
      "source": [
        "arr2 = np.random.randint(1,6,(3,5,2))\n",
        "print(arr2)\n",
        "print(arr2.shape)"
      ],
      "metadata": {
        "colab": {
          "base_uri": "https://localhost:8080/"
        },
        "id": "-tJURD9K6ND7",
        "outputId": "7b482ab6-4aaa-47b4-883b-01068f1895a6"
      },
      "execution_count": 19,
      "outputs": [
        {
          "output_type": "stream",
          "name": "stdout",
          "text": [
            "[[[1 1]\n",
            "  [4 5]\n",
            "  [5 4]\n",
            "  [2 1]\n",
            "  [4 4]]\n",
            "\n",
            " [[3 5]\n",
            "  [3 1]\n",
            "  [3 3]\n",
            "  [3 2]\n",
            "  [1 5]]\n",
            "\n",
            " [[3 4]\n",
            "  [2 2]\n",
            "  [5 5]\n",
            "  [2 5]\n",
            "  [1 4]]]\n",
            "(3, 5, 2)\n"
          ]
        }
      ]
    },
    {
      "cell_type": "code",
      "source": [
        "arr2_reshaped = arr2.reshape(5,2,3)\n",
        "print(arr2_reshaped)\n",
        "print(arr2_reshaped.shape)"
      ],
      "metadata": {
        "colab": {
          "base_uri": "https://localhost:8080/"
        },
        "id": "jS2OTcTJ6tFa",
        "outputId": "e8a76140-4f84-4ba5-9f10-75f63d92db69"
      },
      "execution_count": 20,
      "outputs": [
        {
          "output_type": "stream",
          "name": "stdout",
          "text": [
            "[[[1 1 4]\n",
            "  [5 5 4]]\n",
            "\n",
            " [[2 1 4]\n",
            "  [4 3 5]]\n",
            "\n",
            " [[3 1 3]\n",
            "  [3 3 2]]\n",
            "\n",
            " [[1 5 3]\n",
            "  [4 2 2]]\n",
            "\n",
            " [[5 5 2]\n",
            "  [5 1 4]]]\n",
            "(5, 2, 3)\n"
          ]
        }
      ]
    },
    {
      "cell_type": "markdown",
      "source": [
        "np.resize(shape)\n",
        "\n",
        "Changes shape and size of array in-place."
      ],
      "metadata": {
        "id": "jXAc8yPz7q05"
      }
    },
    {
      "cell_type": "code",
      "source": [
        "# Intialize a 3D array\n",
        "random_3D_cohort = np.array(np.random.randint(10,45,(2,4,6)))\n",
        "print(f\"The defined array is \\n{random_3D_cohort}\")\n",
        "print(f\" \\n The shape of the array is {random_3D_cohort.shape}\")"
      ],
      "metadata": {
        "colab": {
          "base_uri": "https://localhost:8080/"
        },
        "id": "hOkSOv3t7LCG",
        "outputId": "f7f9e18c-b9e2-41f2-dcdc-2a00fa2d8fd5"
      },
      "execution_count": 21,
      "outputs": [
        {
          "output_type": "stream",
          "name": "stdout",
          "text": [
            "The defined array is \n",
            "[[[20 28 39 26 10 12]\n",
            "  [17 34 26 20 24 15]\n",
            "  [36 16 20 24 30 12]\n",
            "  [13 12 44 36 15 27]]\n",
            "\n",
            " [[18 32 42 24 16 10]\n",
            "  [29 30 36 36 40 31]\n",
            "  [29 14 21 18 12 43]\n",
            "  [29 35 15 14 41 10]]]\n",
            " \n",
            " The shape of the array is (2, 4, 6)\n"
          ]
        }
      ]
    },
    {
      "cell_type": "code",
      "source": [
        "# Resize the created 3D array\n",
        "new_shape = (4,3,6)\n",
        "resized_random_3D_cohort = np.resize(random_3D_cohort,new_shape)\n",
        "print(f\"The resized array is \\n{resized_random_3D_cohort}\")\n",
        "print(f\" \\n The shape of the array is {resized_random_3D_cohort.shape}\")"
      ],
      "metadata": {
        "colab": {
          "base_uri": "https://localhost:8080/"
        },
        "id": "oOjes6be7vrp",
        "outputId": "c14b5519-8ae5-40de-cae6-e5e2e8341917"
      },
      "execution_count": 22,
      "outputs": [
        {
          "output_type": "stream",
          "name": "stdout",
          "text": [
            "The resized array is \n",
            "[[[20 28 39 26 10 12]\n",
            "  [17 34 26 20 24 15]\n",
            "  [36 16 20 24 30 12]]\n",
            "\n",
            " [[13 12 44 36 15 27]\n",
            "  [18 32 42 24 16 10]\n",
            "  [29 30 36 36 40 31]]\n",
            "\n",
            " [[29 14 21 18 12 43]\n",
            "  [29 35 15 14 41 10]\n",
            "  [20 28 39 26 10 12]]\n",
            "\n",
            " [[17 34 26 20 24 15]\n",
            "  [36 16 20 24 30 12]\n",
            "  [13 12 44 36 15 27]]]\n",
            " \n",
            " The shape of the array is (4, 3, 6)\n"
          ]
        }
      ]
    },
    {
      "cell_type": "markdown",
      "source": [
        "np.flatten()\n",
        "\n",
        "Returns flattened 1D arrays"
      ],
      "metadata": {
        "id": "uXIjQcAm7z-l"
      }
    },
    {
      "cell_type": "code",
      "source": [
        "np.random.randint(1,6, (3,5)).flatten()"
      ],
      "metadata": {
        "colab": {
          "base_uri": "https://localhost:8080/"
        },
        "id": "B6g-6X_n7xOh",
        "outputId": "cb101c70-1534-4048-a211-251f7e78ee28"
      },
      "execution_count": 24,
      "outputs": [
        {
          "output_type": "execute_result",
          "data": {
            "text/plain": [
              "array([1, 3, 3, 1, 5, 3, 2, 4, 3, 1, 3, 2, 3, 5, 3])"
            ]
          },
          "metadata": {},
          "execution_count": 24
        }
      ]
    },
    {
      "cell_type": "markdown",
      "source": [
        "Difference between copy and view\n",
        "\n",
        "The main difference between a copy and a view of an array is that the copy is a new array, and the view is just a view of the original array. The copy owns the data and any changes made to the copy will not affect original array, and any changes made to the original array will not affect the copy."
      ],
      "metadata": {
        "id": "BoY5sQ4r8IsW"
      }
    },
    {
      "cell_type": "code",
      "metadata": {
        "id": "gdFLHUFtiCTB",
        "colab": {
          "base_uri": "https://localhost:8080/"
        },
        "outputId": "2e0e26df-051f-43a6-d92e-28f0d2209fff"
      },
      "source": [
        "# Lets take an example of a list\n",
        "a = [1,2,3]\n",
        "b = a\n",
        "b[0] = 10\n",
        "print(b)\n",
        "print(a)"
      ],
      "execution_count": 25,
      "outputs": [
        {
          "output_type": "stream",
          "name": "stdout",
          "text": [
            "[10, 2, 3]\n",
            "[10, 2, 3]\n"
          ]
        }
      ]
    },
    {
      "cell_type": "code",
      "metadata": {
        "id": "nicu_qTdi2LG",
        "colab": {
          "base_uri": "https://localhost:8080/"
        },
        "outputId": "ad194029-1bdf-44b4-d39d-035433d6be60"
      },
      "source": [
        "# Lets use the copy method\n",
        "a = [1,2,3]\n",
        "b = a.copy()\n",
        "b[0] = 10\n",
        "print(b)\n",
        "print(a)"
      ],
      "execution_count": 26,
      "outputs": [
        {
          "output_type": "stream",
          "name": "stdout",
          "text": [
            "[10, 2, 3]\n",
            "[1, 2, 3]\n"
          ]
        }
      ]
    },
    {
      "cell_type": "markdown",
      "source": [
        "**Basic Operations & Functions**\n",
        "\n",
        "np.add() - Adding two arrays\n",
        "\n",
        "np.subtract() - Subtracting two arrays\n",
        "\n",
        "np.multiply() - Multiplying two arrays\n",
        "\n",
        "np.divide() - Dividing two arrays\n",
        "\n",
        "np.sum() - Sum of items in an array\n",
        "\n",
        "np.min() - Minimum of items in an array\n",
        "\n",
        "np.max() - Minimum of items in an array\n",
        "\n",
        "np.mean() - Mean of items in an array\n",
        "\n",
        "np.sort() - Sorting an array"
      ],
      "metadata": {
        "id": "oyDEG2HF9ll9"
      }
    },
    {
      "cell_type": "code",
      "source": [
        "# np.add()\n",
        "\n",
        "a = np.array([1, 2, 3])\n",
        "b = np.array([4, 5, 6])\n",
        "result = np.add(a, b)\n",
        "print(result)  # Output: [5 7 9]"
      ],
      "metadata": {
        "colab": {
          "base_uri": "https://localhost:8080/"
        },
        "id": "KyyW39tp75re",
        "outputId": "fe69426a-eadd-47be-c0cb-ef7f7ef78865"
      },
      "execution_count": 27,
      "outputs": [
        {
          "output_type": "stream",
          "name": "stdout",
          "text": [
            "[5 7 9]\n"
          ]
        }
      ]
    },
    {
      "cell_type": "code",
      "source": [
        "# np.subtract()\n",
        "\n",
        "a = np.array([7, 8, 9])\n",
        "b = np.array([4, 5, 6])\n",
        "result = np.subtract(a, b)\n",
        "print(result)  # Output: [3 3 3]"
      ],
      "metadata": {
        "id": "e4nC2dCf9zIL",
        "outputId": "fb877db6-6bf8-4d8e-f097-dcc80020631a",
        "colab": {
          "base_uri": "https://localhost:8080/"
        }
      },
      "execution_count": 28,
      "outputs": [
        {
          "output_type": "stream",
          "name": "stdout",
          "text": [
            "[3 3 3]\n"
          ]
        }
      ]
    },
    {
      "cell_type": "code",
      "source": [
        "# np.multiply()\n",
        "\n",
        "a = np.array([2, 3, 4])\n",
        "b = np.array([5, 6, 7])\n",
        "result = np.multiply(a, b)\n",
        "print(result)  # Output: [10 18 28]"
      ],
      "metadata": {
        "id": "WL8KWXzk9462",
        "outputId": "f09c7e7f-49c0-426c-b0a1-65bb91b41461",
        "colab": {
          "base_uri": "https://localhost:8080/"
        }
      },
      "execution_count": 29,
      "outputs": [
        {
          "output_type": "stream",
          "name": "stdout",
          "text": [
            "[10 18 28]\n"
          ]
        }
      ]
    },
    {
      "cell_type": "code",
      "source": [
        "# np.divide()\n",
        "\n",
        "a = np.array([10, 15, 20])\n",
        "b = np.array([2, 3, 4])\n",
        "result = np.divide(a, b)\n",
        "print(result)  # Output: [5. 5. 5.]"
      ],
      "metadata": {
        "id": "a9rbafkV98Ox",
        "outputId": "69a3b6ac-0e55-412e-fb9b-b842397354a8",
        "colab": {
          "base_uri": "https://localhost:8080/"
        }
      },
      "execution_count": 30,
      "outputs": [
        {
          "output_type": "stream",
          "name": "stdout",
          "text": [
            "[5. 5. 5.]\n"
          ]
        }
      ]
    },
    {
      "cell_type": "code",
      "source": [
        "# np.sum()\n",
        "\n",
        "arr = np.array([1, 2, 3, 4, 5])\n",
        "result = np.sum(arr)\n",
        "print(result)  # Output: 15"
      ],
      "metadata": {
        "id": "yPQ-0LEO9_LR",
        "outputId": "57d51a61-d2d8-4e10-c454-877cae376e05",
        "colab": {
          "base_uri": "https://localhost:8080/"
        }
      },
      "execution_count": 31,
      "outputs": [
        {
          "output_type": "stream",
          "name": "stdout",
          "text": [
            "15\n"
          ]
        }
      ]
    },
    {
      "cell_type": "code",
      "source": [
        "# np.min()\n",
        "\n",
        "arr = np.array([5, 2, 9, 1, 7])\n",
        "result = np.min(arr)\n",
        "print(result)  # Output: 1"
      ],
      "metadata": {
        "id": "WU3UVOlj-GYH",
        "outputId": "87277bbe-56e4-4e56-de28-a70b20433f25",
        "colab": {
          "base_uri": "https://localhost:8080/"
        }
      },
      "execution_count": 32,
      "outputs": [
        {
          "output_type": "stream",
          "name": "stdout",
          "text": [
            "1\n"
          ]
        }
      ]
    },
    {
      "cell_type": "code",
      "source": [
        "# np.max()\n",
        "\n",
        "arr = np.array([5, 2, 9, 1, 7])\n",
        "result = np.max(arr)\n",
        "print(result)  # Output: 9"
      ],
      "metadata": {
        "id": "Z-OhfPYl-J6B",
        "outputId": "8fca6b29-6480-421e-80ee-f216bd96a579",
        "colab": {
          "base_uri": "https://localhost:8080/"
        }
      },
      "execution_count": 34,
      "outputs": [
        {
          "output_type": "stream",
          "name": "stdout",
          "text": [
            "9\n"
          ]
        }
      ]
    },
    {
      "cell_type": "code",
      "source": [
        "# np.mean()\n",
        "\n",
        "arr = np.array([2, 4, 6, 8, 10])\n",
        "result = np.mean(arr)\n",
        "print(result)  # Output: 6.0"
      ],
      "metadata": {
        "id": "UJ58ViIx-MrQ",
        "outputId": "cbb57f94-e119-46b9-caf6-ebe10aeb4724",
        "colab": {
          "base_uri": "https://localhost:8080/"
        }
      },
      "execution_count": 35,
      "outputs": [
        {
          "output_type": "stream",
          "name": "stdout",
          "text": [
            "6.0\n"
          ]
        }
      ]
    },
    {
      "cell_type": "code",
      "source": [
        "# np.sort()\n",
        "\n",
        "arr = np.array([5, 2, 9, 1, 7])\n",
        "result = np.sort(arr)\n",
        "print(result)  # Output: [1 2 5 7 9]"
      ],
      "metadata": {
        "id": "y6y4Lmgs-RNe",
        "outputId": "bba74f09-f04e-4aaf-af7e-7a760647863e",
        "colab": {
          "base_uri": "https://localhost:8080/"
        }
      },
      "execution_count": 36,
      "outputs": [
        {
          "output_type": "stream",
          "name": "stdout",
          "text": [
            "[1 2 5 7 9]\n"
          ]
        }
      ]
    },
    {
      "cell_type": "markdown",
      "source": [
        "**The concept of Broadcasting**\n",
        "\n",
        "Broadcasting allows these types of binary operations to be performed on arrays of different sizes–for example, we can just as easily add a scalar (think of it as a zero-dimensional array) to an array:\n",
        "\n",
        "Broadcasting in NumPy follows a strict set of rules to determine the interaction between the two arrays:\n",
        "\n",
        "**Rule 1**: If the two arrays differ in their number of dimensions, the shape of the one with fewer dimensions is padded with ones on its leading (left) side.\n",
        "\n",
        "**Rule 2**: If the shape of the two arrays does not match in any dimension, the array with shape equal to 1 in that dimension is stretched to match the other shape.\n",
        "\n",
        "**Rule 3**: If in any dimension the sizes disagree and neither is equal to 1, an error is raised."
      ],
      "metadata": {
        "id": "BhcaRdfP_D0K"
      }
    },
    {
      "cell_type": "markdown",
      "source": [
        "Broadcasting scalar to an array"
      ],
      "metadata": {
        "id": "3XsEDoUW_ZUV"
      }
    },
    {
      "cell_type": "code",
      "source": [
        "a = np.array([1, 2, 3])\n",
        "scalar = 2\n",
        "result = a * scalar  # The scalar is broadcast to match the shape of 'a'\n",
        "print(result)  # Output: [2 4 6]"
      ],
      "metadata": {
        "id": "BnsnETta-T9z",
        "outputId": "c9eaa947-45cf-4c56-edcf-a6f9adaf1a24",
        "colab": {
          "base_uri": "https://localhost:8080/"
        }
      },
      "execution_count": 37,
      "outputs": [
        {
          "output_type": "stream",
          "name": "stdout",
          "text": [
            "[2 4 6]\n"
          ]
        }
      ]
    },
    {
      "cell_type": "markdown",
      "source": [
        "Broadcasting a smaller array to a larger array"
      ],
      "metadata": {
        "id": "eJDgWVo__bi0"
      }
    },
    {
      "cell_type": "code",
      "source": [
        "a = np.array([[1, 2, 3], [4, 5, 6]])\n",
        "b = np.array([10, 20, 30])\n",
        "result = a + b  # 'b' is broadcast to match the shape of 'a'\n",
        "print(result)"
      ],
      "metadata": {
        "id": "5P_-58vJ_Vzf",
        "outputId": "a45f404d-8771-433e-c3b6-26d7f8f1c6b3",
        "colab": {
          "base_uri": "https://localhost:8080/"
        }
      },
      "execution_count": 40,
      "outputs": [
        {
          "output_type": "stream",
          "name": "stdout",
          "text": [
            "[[11 22 33]\n",
            " [14 25 36]]\n"
          ]
        }
      ]
    },
    {
      "cell_type": "markdown",
      "source": [
        "Broadcasting along multiple dimensions"
      ],
      "metadata": {
        "id": "l5fpnGS5_mB0"
      }
    },
    {
      "cell_type": "code",
      "source": [
        "a = np.array([[1, 2], [3, 4]])\n",
        "b = np.array([10, 20])\n",
        "result = a * b  # 'b' is broadcast to match the shape of 'a' along both dimensions\n",
        "print(result)  # Output: [[10 40]\n",
        "               #          [30 80]]"
      ],
      "metadata": {
        "id": "y9m0hFUp_dDa",
        "outputId": "fc90896b-6429-4517-9f28-bb7bbe03f316",
        "colab": {
          "base_uri": "https://localhost:8080/"
        }
      },
      "execution_count": 39,
      "outputs": [
        {
          "output_type": "stream",
          "name": "stdout",
          "text": [
            "[[10 40]\n",
            " [30 80]]\n"
          ]
        }
      ]
    },
    {
      "cell_type": "code",
      "source": [],
      "metadata": {
        "id": "yasFvGgq_j8e"
      },
      "execution_count": null,
      "outputs": []
    },
    {
      "cell_type": "markdown",
      "source": [
        "# Pandas"
      ],
      "metadata": {
        "id": "KAkgQe3dBYZe"
      }
    },
    {
      "cell_type": "markdown",
      "source": [
        "Pandas is a Python package providing fast, flexible, and expressive data structures designed to make working with structured (tabular, multidimensional, potentially heterogeneous) and time series data both easy and intuitive. It aims to be the fundamental high-level building block for doing practical, real world data analysis in Python."
      ],
      "metadata": {
        "id": "1UH-eUvzBf6F"
      }
    },
    {
      "cell_type": "markdown",
      "source": [
        "**There are two central concepts:**\n",
        "\n",
        "**Series** : A series is essentially a column\n",
        "\n",
        "**Data Frame** : A DataFrame is a two-dimensional data structure, i.e., data is aligned in a tabular fashion in rows and columns. Pandas DataFrame consists of three principal components, the data, rows, and columns."
      ],
      "metadata": {
        "id": "0bwQnxWXBlY1"
      }
    },
    {
      "cell_type": "code",
      "source": [
        "import pandas as pd\n",
        "\n",
        "# Series with index\n",
        "number_series = pd.Series([2, 3, 5, 6, 8],index=['a', 'b', 'd','e','f'],name='Number')\n",
        "print(number_series)"
      ],
      "metadata": {
        "id": "0wG5c_VWBZgO",
        "outputId": "f6b314ec-6e57-4c1b-903e-b77277a74960",
        "colab": {
          "base_uri": "https://localhost:8080/"
        }
      },
      "execution_count": 41,
      "outputs": [
        {
          "output_type": "stream",
          "name": "stdout",
          "text": [
            "a    2\n",
            "b    3\n",
            "d    5\n",
            "e    6\n",
            "f    8\n",
            "Name: Number, dtype: int64\n"
          ]
        }
      ]
    },
    {
      "cell_type": "code",
      "source": [
        "# creating a pandas dataframe:\n",
        "\n",
        "series = np.random.randint(1,6,(3,4))\n",
        "\n",
        "data = pd.DataFrame(series, columns = ['a', 'b', 'c', 'd'])\n",
        "\n",
        "print(data)"
      ],
      "metadata": {
        "id": "9avYgd_NB_S3",
        "outputId": "aa7cb13b-b401-4233-c070-c5f1551ca670",
        "colab": {
          "base_uri": "https://localhost:8080/"
        }
      },
      "execution_count": 43,
      "outputs": [
        {
          "output_type": "stream",
          "name": "stdout",
          "text": [
            "   a  b  c  d\n",
            "0  1  2  1  4\n",
            "1  5  5  1  2\n",
            "2  1  2  2  2\n"
          ]
        }
      ]
    },
    {
      "cell_type": "code",
      "source": [
        "# Initialize list of lists\n",
        "list_of_lists = [['Amar', 10], ['Akbar', 15], ['Anthony', 14]]\n",
        "\n",
        "# Create the pandas DataFrame\n",
        "df = pd.DataFrame(list_of_lists, columns = ['Name', 'Age'])\n",
        "\n",
        "# Print dataframe\n",
        "df"
      ],
      "metadata": {
        "id": "Y8nzbISwCuk-",
        "outputId": "f1a2516b-87a5-4d26-dc18-d527c8cb52e7",
        "colab": {
          "base_uri": "https://localhost:8080/",
          "height": 143
        }
      },
      "execution_count": 44,
      "outputs": [
        {
          "output_type": "execute_result",
          "data": {
            "text/plain": [
              "      Name  Age\n",
              "0     Amar   10\n",
              "1    Akbar   15\n",
              "2  Anthony   14"
            ],
            "text/html": [
              "\n",
              "  <div id=\"df-764499d5-a216-4616-af11-ab0612ed98ad\" class=\"colab-df-container\">\n",
              "    <div>\n",
              "<style scoped>\n",
              "    .dataframe tbody tr th:only-of-type {\n",
              "        vertical-align: middle;\n",
              "    }\n",
              "\n",
              "    .dataframe tbody tr th {\n",
              "        vertical-align: top;\n",
              "    }\n",
              "\n",
              "    .dataframe thead th {\n",
              "        text-align: right;\n",
              "    }\n",
              "</style>\n",
              "<table border=\"1\" class=\"dataframe\">\n",
              "  <thead>\n",
              "    <tr style=\"text-align: right;\">\n",
              "      <th></th>\n",
              "      <th>Name</th>\n",
              "      <th>Age</th>\n",
              "    </tr>\n",
              "  </thead>\n",
              "  <tbody>\n",
              "    <tr>\n",
              "      <th>0</th>\n",
              "      <td>Amar</td>\n",
              "      <td>10</td>\n",
              "    </tr>\n",
              "    <tr>\n",
              "      <th>1</th>\n",
              "      <td>Akbar</td>\n",
              "      <td>15</td>\n",
              "    </tr>\n",
              "    <tr>\n",
              "      <th>2</th>\n",
              "      <td>Anthony</td>\n",
              "      <td>14</td>\n",
              "    </tr>\n",
              "  </tbody>\n",
              "</table>\n",
              "</div>\n",
              "    <div class=\"colab-df-buttons\">\n",
              "\n",
              "  <div class=\"colab-df-container\">\n",
              "    <button class=\"colab-df-convert\" onclick=\"convertToInteractive('df-764499d5-a216-4616-af11-ab0612ed98ad')\"\n",
              "            title=\"Convert this dataframe to an interactive table.\"\n",
              "            style=\"display:none;\">\n",
              "\n",
              "  <svg xmlns=\"http://www.w3.org/2000/svg\" height=\"24px\" viewBox=\"0 -960 960 960\">\n",
              "    <path d=\"M120-120v-720h720v720H120Zm60-500h600v-160H180v160Zm220 220h160v-160H400v160Zm0 220h160v-160H400v160ZM180-400h160v-160H180v160Zm440 0h160v-160H620v160ZM180-180h160v-160H180v160Zm440 0h160v-160H620v160Z\"/>\n",
              "  </svg>\n",
              "    </button>\n",
              "\n",
              "  <style>\n",
              "    .colab-df-container {\n",
              "      display:flex;\n",
              "      gap: 12px;\n",
              "    }\n",
              "\n",
              "    .colab-df-convert {\n",
              "      background-color: #E8F0FE;\n",
              "      border: none;\n",
              "      border-radius: 50%;\n",
              "      cursor: pointer;\n",
              "      display: none;\n",
              "      fill: #1967D2;\n",
              "      height: 32px;\n",
              "      padding: 0 0 0 0;\n",
              "      width: 32px;\n",
              "    }\n",
              "\n",
              "    .colab-df-convert:hover {\n",
              "      background-color: #E2EBFA;\n",
              "      box-shadow: 0px 1px 2px rgba(60, 64, 67, 0.3), 0px 1px 3px 1px rgba(60, 64, 67, 0.15);\n",
              "      fill: #174EA6;\n",
              "    }\n",
              "\n",
              "    .colab-df-buttons div {\n",
              "      margin-bottom: 4px;\n",
              "    }\n",
              "\n",
              "    [theme=dark] .colab-df-convert {\n",
              "      background-color: #3B4455;\n",
              "      fill: #D2E3FC;\n",
              "    }\n",
              "\n",
              "    [theme=dark] .colab-df-convert:hover {\n",
              "      background-color: #434B5C;\n",
              "      box-shadow: 0px 1px 3px 1px rgba(0, 0, 0, 0.15);\n",
              "      filter: drop-shadow(0px 1px 2px rgba(0, 0, 0, 0.3));\n",
              "      fill: #FFFFFF;\n",
              "    }\n",
              "  </style>\n",
              "\n",
              "    <script>\n",
              "      const buttonEl =\n",
              "        document.querySelector('#df-764499d5-a216-4616-af11-ab0612ed98ad button.colab-df-convert');\n",
              "      buttonEl.style.display =\n",
              "        google.colab.kernel.accessAllowed ? 'block' : 'none';\n",
              "\n",
              "      async function convertToInteractive(key) {\n",
              "        const element = document.querySelector('#df-764499d5-a216-4616-af11-ab0612ed98ad');\n",
              "        const dataTable =\n",
              "          await google.colab.kernel.invokeFunction('convertToInteractive',\n",
              "                                                    [key], {});\n",
              "        if (!dataTable) return;\n",
              "\n",
              "        const docLinkHtml = 'Like what you see? Visit the ' +\n",
              "          '<a target=\"_blank\" href=https://colab.research.google.com/notebooks/data_table.ipynb>data table notebook</a>'\n",
              "          + ' to learn more about interactive tables.';\n",
              "        element.innerHTML = '';\n",
              "        dataTable['output_type'] = 'display_data';\n",
              "        await google.colab.output.renderOutput(dataTable, element);\n",
              "        const docLink = document.createElement('div');\n",
              "        docLink.innerHTML = docLinkHtml;\n",
              "        element.appendChild(docLink);\n",
              "      }\n",
              "    </script>\n",
              "  </div>\n",
              "\n",
              "\n",
              "<div id=\"df-8a707678-a9ee-4dae-b0c5-8f15bcf1ec48\">\n",
              "  <button class=\"colab-df-quickchart\" onclick=\"quickchart('df-8a707678-a9ee-4dae-b0c5-8f15bcf1ec48')\"\n",
              "            title=\"Suggest charts.\"\n",
              "            style=\"display:none;\">\n",
              "\n",
              "<svg xmlns=\"http://www.w3.org/2000/svg\" height=\"24px\"viewBox=\"0 0 24 24\"\n",
              "     width=\"24px\">\n",
              "    <g>\n",
              "        <path d=\"M19 3H5c-1.1 0-2 .9-2 2v14c0 1.1.9 2 2 2h14c1.1 0 2-.9 2-2V5c0-1.1-.9-2-2-2zM9 17H7v-7h2v7zm4 0h-2V7h2v10zm4 0h-2v-4h2v4z\"/>\n",
              "    </g>\n",
              "</svg>\n",
              "  </button>\n",
              "\n",
              "<style>\n",
              "  .colab-df-quickchart {\n",
              "      --bg-color: #E8F0FE;\n",
              "      --fill-color: #1967D2;\n",
              "      --hover-bg-color: #E2EBFA;\n",
              "      --hover-fill-color: #174EA6;\n",
              "      --disabled-fill-color: #AAA;\n",
              "      --disabled-bg-color: #DDD;\n",
              "  }\n",
              "\n",
              "  [theme=dark] .colab-df-quickchart {\n",
              "      --bg-color: #3B4455;\n",
              "      --fill-color: #D2E3FC;\n",
              "      --hover-bg-color: #434B5C;\n",
              "      --hover-fill-color: #FFFFFF;\n",
              "      --disabled-bg-color: #3B4455;\n",
              "      --disabled-fill-color: #666;\n",
              "  }\n",
              "\n",
              "  .colab-df-quickchart {\n",
              "    background-color: var(--bg-color);\n",
              "    border: none;\n",
              "    border-radius: 50%;\n",
              "    cursor: pointer;\n",
              "    display: none;\n",
              "    fill: var(--fill-color);\n",
              "    height: 32px;\n",
              "    padding: 0;\n",
              "    width: 32px;\n",
              "  }\n",
              "\n",
              "  .colab-df-quickchart:hover {\n",
              "    background-color: var(--hover-bg-color);\n",
              "    box-shadow: 0 1px 2px rgba(60, 64, 67, 0.3), 0 1px 3px 1px rgba(60, 64, 67, 0.15);\n",
              "    fill: var(--button-hover-fill-color);\n",
              "  }\n",
              "\n",
              "  .colab-df-quickchart-complete:disabled,\n",
              "  .colab-df-quickchart-complete:disabled:hover {\n",
              "    background-color: var(--disabled-bg-color);\n",
              "    fill: var(--disabled-fill-color);\n",
              "    box-shadow: none;\n",
              "  }\n",
              "\n",
              "  .colab-df-spinner {\n",
              "    border: 2px solid var(--fill-color);\n",
              "    border-color: transparent;\n",
              "    border-bottom-color: var(--fill-color);\n",
              "    animation:\n",
              "      spin 1s steps(1) infinite;\n",
              "  }\n",
              "\n",
              "  @keyframes spin {\n",
              "    0% {\n",
              "      border-color: transparent;\n",
              "      border-bottom-color: var(--fill-color);\n",
              "      border-left-color: var(--fill-color);\n",
              "    }\n",
              "    20% {\n",
              "      border-color: transparent;\n",
              "      border-left-color: var(--fill-color);\n",
              "      border-top-color: var(--fill-color);\n",
              "    }\n",
              "    30% {\n",
              "      border-color: transparent;\n",
              "      border-left-color: var(--fill-color);\n",
              "      border-top-color: var(--fill-color);\n",
              "      border-right-color: var(--fill-color);\n",
              "    }\n",
              "    40% {\n",
              "      border-color: transparent;\n",
              "      border-right-color: var(--fill-color);\n",
              "      border-top-color: var(--fill-color);\n",
              "    }\n",
              "    60% {\n",
              "      border-color: transparent;\n",
              "      border-right-color: var(--fill-color);\n",
              "    }\n",
              "    80% {\n",
              "      border-color: transparent;\n",
              "      border-right-color: var(--fill-color);\n",
              "      border-bottom-color: var(--fill-color);\n",
              "    }\n",
              "    90% {\n",
              "      border-color: transparent;\n",
              "      border-bottom-color: var(--fill-color);\n",
              "    }\n",
              "  }\n",
              "</style>\n",
              "\n",
              "  <script>\n",
              "    async function quickchart(key) {\n",
              "      const quickchartButtonEl =\n",
              "        document.querySelector('#' + key + ' button');\n",
              "      quickchartButtonEl.disabled = true;  // To prevent multiple clicks.\n",
              "      quickchartButtonEl.classList.add('colab-df-spinner');\n",
              "      try {\n",
              "        const charts = await google.colab.kernel.invokeFunction(\n",
              "            'suggestCharts', [key], {});\n",
              "      } catch (error) {\n",
              "        console.error('Error during call to suggestCharts:', error);\n",
              "      }\n",
              "      quickchartButtonEl.classList.remove('colab-df-spinner');\n",
              "      quickchartButtonEl.classList.add('colab-df-quickchart-complete');\n",
              "    }\n",
              "    (() => {\n",
              "      let quickchartButtonEl =\n",
              "        document.querySelector('#df-8a707678-a9ee-4dae-b0c5-8f15bcf1ec48 button');\n",
              "      quickchartButtonEl.style.display =\n",
              "        google.colab.kernel.accessAllowed ? 'block' : 'none';\n",
              "    })();\n",
              "  </script>\n",
              "</div>\n",
              "    </div>\n",
              "  </div>\n"
            ]
          },
          "metadata": {},
          "execution_count": 44
        }
      ]
    },
    {
      "cell_type": "code",
      "source": [
        "# Store the data in a dictionary\n",
        "employee_dict = {'Employee Name':['Rajeev', 'Sumit', 'Aviral'], 'Income':[200000, 140000, 90000]}\n",
        "\n",
        "# Create DataFrame\n",
        "employee_df = pd.DataFrame(employee_dict)\n",
        "\n",
        "# Print the dataframe\n",
        "employee_df"
      ],
      "metadata": {
        "id": "yW-lNRwwC5GI",
        "outputId": "788b0e77-b795-4251-cf39-94eda8da9594",
        "colab": {
          "base_uri": "https://localhost:8080/",
          "height": 143
        }
      },
      "execution_count": 45,
      "outputs": [
        {
          "output_type": "execute_result",
          "data": {
            "text/plain": [
              "  Employee Name  Income\n",
              "0        Rajeev  200000\n",
              "1         Sumit  140000\n",
              "2        Aviral   90000"
            ],
            "text/html": [
              "\n",
              "  <div id=\"df-85f85a16-fc5d-4817-9c9b-4ca4bd639326\" class=\"colab-df-container\">\n",
              "    <div>\n",
              "<style scoped>\n",
              "    .dataframe tbody tr th:only-of-type {\n",
              "        vertical-align: middle;\n",
              "    }\n",
              "\n",
              "    .dataframe tbody tr th {\n",
              "        vertical-align: top;\n",
              "    }\n",
              "\n",
              "    .dataframe thead th {\n",
              "        text-align: right;\n",
              "    }\n",
              "</style>\n",
              "<table border=\"1\" class=\"dataframe\">\n",
              "  <thead>\n",
              "    <tr style=\"text-align: right;\">\n",
              "      <th></th>\n",
              "      <th>Employee Name</th>\n",
              "      <th>Income</th>\n",
              "    </tr>\n",
              "  </thead>\n",
              "  <tbody>\n",
              "    <tr>\n",
              "      <th>0</th>\n",
              "      <td>Rajeev</td>\n",
              "      <td>200000</td>\n",
              "    </tr>\n",
              "    <tr>\n",
              "      <th>1</th>\n",
              "      <td>Sumit</td>\n",
              "      <td>140000</td>\n",
              "    </tr>\n",
              "    <tr>\n",
              "      <th>2</th>\n",
              "      <td>Aviral</td>\n",
              "      <td>90000</td>\n",
              "    </tr>\n",
              "  </tbody>\n",
              "</table>\n",
              "</div>\n",
              "    <div class=\"colab-df-buttons\">\n",
              "\n",
              "  <div class=\"colab-df-container\">\n",
              "    <button class=\"colab-df-convert\" onclick=\"convertToInteractive('df-85f85a16-fc5d-4817-9c9b-4ca4bd639326')\"\n",
              "            title=\"Convert this dataframe to an interactive table.\"\n",
              "            style=\"display:none;\">\n",
              "\n",
              "  <svg xmlns=\"http://www.w3.org/2000/svg\" height=\"24px\" viewBox=\"0 -960 960 960\">\n",
              "    <path d=\"M120-120v-720h720v720H120Zm60-500h600v-160H180v160Zm220 220h160v-160H400v160Zm0 220h160v-160H400v160ZM180-400h160v-160H180v160Zm440 0h160v-160H620v160ZM180-180h160v-160H180v160Zm440 0h160v-160H620v160Z\"/>\n",
              "  </svg>\n",
              "    </button>\n",
              "\n",
              "  <style>\n",
              "    .colab-df-container {\n",
              "      display:flex;\n",
              "      gap: 12px;\n",
              "    }\n",
              "\n",
              "    .colab-df-convert {\n",
              "      background-color: #E8F0FE;\n",
              "      border: none;\n",
              "      border-radius: 50%;\n",
              "      cursor: pointer;\n",
              "      display: none;\n",
              "      fill: #1967D2;\n",
              "      height: 32px;\n",
              "      padding: 0 0 0 0;\n",
              "      width: 32px;\n",
              "    }\n",
              "\n",
              "    .colab-df-convert:hover {\n",
              "      background-color: #E2EBFA;\n",
              "      box-shadow: 0px 1px 2px rgba(60, 64, 67, 0.3), 0px 1px 3px 1px rgba(60, 64, 67, 0.15);\n",
              "      fill: #174EA6;\n",
              "    }\n",
              "\n",
              "    .colab-df-buttons div {\n",
              "      margin-bottom: 4px;\n",
              "    }\n",
              "\n",
              "    [theme=dark] .colab-df-convert {\n",
              "      background-color: #3B4455;\n",
              "      fill: #D2E3FC;\n",
              "    }\n",
              "\n",
              "    [theme=dark] .colab-df-convert:hover {\n",
              "      background-color: #434B5C;\n",
              "      box-shadow: 0px 1px 3px 1px rgba(0, 0, 0, 0.15);\n",
              "      filter: drop-shadow(0px 1px 2px rgba(0, 0, 0, 0.3));\n",
              "      fill: #FFFFFF;\n",
              "    }\n",
              "  </style>\n",
              "\n",
              "    <script>\n",
              "      const buttonEl =\n",
              "        document.querySelector('#df-85f85a16-fc5d-4817-9c9b-4ca4bd639326 button.colab-df-convert');\n",
              "      buttonEl.style.display =\n",
              "        google.colab.kernel.accessAllowed ? 'block' : 'none';\n",
              "\n",
              "      async function convertToInteractive(key) {\n",
              "        const element = document.querySelector('#df-85f85a16-fc5d-4817-9c9b-4ca4bd639326');\n",
              "        const dataTable =\n",
              "          await google.colab.kernel.invokeFunction('convertToInteractive',\n",
              "                                                    [key], {});\n",
              "        if (!dataTable) return;\n",
              "\n",
              "        const docLinkHtml = 'Like what you see? Visit the ' +\n",
              "          '<a target=\"_blank\" href=https://colab.research.google.com/notebooks/data_table.ipynb>data table notebook</a>'\n",
              "          + ' to learn more about interactive tables.';\n",
              "        element.innerHTML = '';\n",
              "        dataTable['output_type'] = 'display_data';\n",
              "        await google.colab.output.renderOutput(dataTable, element);\n",
              "        const docLink = document.createElement('div');\n",
              "        docLink.innerHTML = docLinkHtml;\n",
              "        element.appendChild(docLink);\n",
              "      }\n",
              "    </script>\n",
              "  </div>\n",
              "\n",
              "\n",
              "<div id=\"df-f6c8f2ad-b0a7-45e7-bf6b-53ca5d3973b1\">\n",
              "  <button class=\"colab-df-quickchart\" onclick=\"quickchart('df-f6c8f2ad-b0a7-45e7-bf6b-53ca5d3973b1')\"\n",
              "            title=\"Suggest charts.\"\n",
              "            style=\"display:none;\">\n",
              "\n",
              "<svg xmlns=\"http://www.w3.org/2000/svg\" height=\"24px\"viewBox=\"0 0 24 24\"\n",
              "     width=\"24px\">\n",
              "    <g>\n",
              "        <path d=\"M19 3H5c-1.1 0-2 .9-2 2v14c0 1.1.9 2 2 2h14c1.1 0 2-.9 2-2V5c0-1.1-.9-2-2-2zM9 17H7v-7h2v7zm4 0h-2V7h2v10zm4 0h-2v-4h2v4z\"/>\n",
              "    </g>\n",
              "</svg>\n",
              "  </button>\n",
              "\n",
              "<style>\n",
              "  .colab-df-quickchart {\n",
              "      --bg-color: #E8F0FE;\n",
              "      --fill-color: #1967D2;\n",
              "      --hover-bg-color: #E2EBFA;\n",
              "      --hover-fill-color: #174EA6;\n",
              "      --disabled-fill-color: #AAA;\n",
              "      --disabled-bg-color: #DDD;\n",
              "  }\n",
              "\n",
              "  [theme=dark] .colab-df-quickchart {\n",
              "      --bg-color: #3B4455;\n",
              "      --fill-color: #D2E3FC;\n",
              "      --hover-bg-color: #434B5C;\n",
              "      --hover-fill-color: #FFFFFF;\n",
              "      --disabled-bg-color: #3B4455;\n",
              "      --disabled-fill-color: #666;\n",
              "  }\n",
              "\n",
              "  .colab-df-quickchart {\n",
              "    background-color: var(--bg-color);\n",
              "    border: none;\n",
              "    border-radius: 50%;\n",
              "    cursor: pointer;\n",
              "    display: none;\n",
              "    fill: var(--fill-color);\n",
              "    height: 32px;\n",
              "    padding: 0;\n",
              "    width: 32px;\n",
              "  }\n",
              "\n",
              "  .colab-df-quickchart:hover {\n",
              "    background-color: var(--hover-bg-color);\n",
              "    box-shadow: 0 1px 2px rgba(60, 64, 67, 0.3), 0 1px 3px 1px rgba(60, 64, 67, 0.15);\n",
              "    fill: var(--button-hover-fill-color);\n",
              "  }\n",
              "\n",
              "  .colab-df-quickchart-complete:disabled,\n",
              "  .colab-df-quickchart-complete:disabled:hover {\n",
              "    background-color: var(--disabled-bg-color);\n",
              "    fill: var(--disabled-fill-color);\n",
              "    box-shadow: none;\n",
              "  }\n",
              "\n",
              "  .colab-df-spinner {\n",
              "    border: 2px solid var(--fill-color);\n",
              "    border-color: transparent;\n",
              "    border-bottom-color: var(--fill-color);\n",
              "    animation:\n",
              "      spin 1s steps(1) infinite;\n",
              "  }\n",
              "\n",
              "  @keyframes spin {\n",
              "    0% {\n",
              "      border-color: transparent;\n",
              "      border-bottom-color: var(--fill-color);\n",
              "      border-left-color: var(--fill-color);\n",
              "    }\n",
              "    20% {\n",
              "      border-color: transparent;\n",
              "      border-left-color: var(--fill-color);\n",
              "      border-top-color: var(--fill-color);\n",
              "    }\n",
              "    30% {\n",
              "      border-color: transparent;\n",
              "      border-left-color: var(--fill-color);\n",
              "      border-top-color: var(--fill-color);\n",
              "      border-right-color: var(--fill-color);\n",
              "    }\n",
              "    40% {\n",
              "      border-color: transparent;\n",
              "      border-right-color: var(--fill-color);\n",
              "      border-top-color: var(--fill-color);\n",
              "    }\n",
              "    60% {\n",
              "      border-color: transparent;\n",
              "      border-right-color: var(--fill-color);\n",
              "    }\n",
              "    80% {\n",
              "      border-color: transparent;\n",
              "      border-right-color: var(--fill-color);\n",
              "      border-bottom-color: var(--fill-color);\n",
              "    }\n",
              "    90% {\n",
              "      border-color: transparent;\n",
              "      border-bottom-color: var(--fill-color);\n",
              "    }\n",
              "  }\n",
              "</style>\n",
              "\n",
              "  <script>\n",
              "    async function quickchart(key) {\n",
              "      const quickchartButtonEl =\n",
              "        document.querySelector('#' + key + ' button');\n",
              "      quickchartButtonEl.disabled = true;  // To prevent multiple clicks.\n",
              "      quickchartButtonEl.classList.add('colab-df-spinner');\n",
              "      try {\n",
              "        const charts = await google.colab.kernel.invokeFunction(\n",
              "            'suggestCharts', [key], {});\n",
              "      } catch (error) {\n",
              "        console.error('Error during call to suggestCharts:', error);\n",
              "      }\n",
              "      quickchartButtonEl.classList.remove('colab-df-spinner');\n",
              "      quickchartButtonEl.classList.add('colab-df-quickchart-complete');\n",
              "    }\n",
              "    (() => {\n",
              "      let quickchartButtonEl =\n",
              "        document.querySelector('#df-f6c8f2ad-b0a7-45e7-bf6b-53ca5d3973b1 button');\n",
              "      quickchartButtonEl.style.display =\n",
              "        google.colab.kernel.accessAllowed ? 'block' : 'none';\n",
              "    })();\n",
              "  </script>\n",
              "</div>\n",
              "    </div>\n",
              "  </div>\n"
            ]
          },
          "metadata": {},
          "execution_count": 45
        }
      ]
    },
    {
      "cell_type": "code",
      "source": [
        "# Initialise the list of dictionaries\n",
        "list_of_dicts = [{'a': 1, 'b': 2, 'c':3}, {'a':10, 'b': 20, 'c': 30}]\n",
        "\n",
        "# Create the DataFrame\n",
        "df = pd.DataFrame(list_of_dicts)\n",
        "\n",
        "# Print the dataframe\n",
        "df"
      ],
      "metadata": {
        "id": "FV65GWBjC8N2",
        "outputId": "45c97264-b19c-4cd9-aee0-858a8f3a5f73",
        "colab": {
          "base_uri": "https://localhost:8080/",
          "height": 112
        }
      },
      "execution_count": 46,
      "outputs": [
        {
          "output_type": "execute_result",
          "data": {
            "text/plain": [
              "    a   b   c\n",
              "0   1   2   3\n",
              "1  10  20  30"
            ],
            "text/html": [
              "\n",
              "  <div id=\"df-dbdafd50-7c99-4b1e-93e7-6453100eed83\" class=\"colab-df-container\">\n",
              "    <div>\n",
              "<style scoped>\n",
              "    .dataframe tbody tr th:only-of-type {\n",
              "        vertical-align: middle;\n",
              "    }\n",
              "\n",
              "    .dataframe tbody tr th {\n",
              "        vertical-align: top;\n",
              "    }\n",
              "\n",
              "    .dataframe thead th {\n",
              "        text-align: right;\n",
              "    }\n",
              "</style>\n",
              "<table border=\"1\" class=\"dataframe\">\n",
              "  <thead>\n",
              "    <tr style=\"text-align: right;\">\n",
              "      <th></th>\n",
              "      <th>a</th>\n",
              "      <th>b</th>\n",
              "      <th>c</th>\n",
              "    </tr>\n",
              "  </thead>\n",
              "  <tbody>\n",
              "    <tr>\n",
              "      <th>0</th>\n",
              "      <td>1</td>\n",
              "      <td>2</td>\n",
              "      <td>3</td>\n",
              "    </tr>\n",
              "    <tr>\n",
              "      <th>1</th>\n",
              "      <td>10</td>\n",
              "      <td>20</td>\n",
              "      <td>30</td>\n",
              "    </tr>\n",
              "  </tbody>\n",
              "</table>\n",
              "</div>\n",
              "    <div class=\"colab-df-buttons\">\n",
              "\n",
              "  <div class=\"colab-df-container\">\n",
              "    <button class=\"colab-df-convert\" onclick=\"convertToInteractive('df-dbdafd50-7c99-4b1e-93e7-6453100eed83')\"\n",
              "            title=\"Convert this dataframe to an interactive table.\"\n",
              "            style=\"display:none;\">\n",
              "\n",
              "  <svg xmlns=\"http://www.w3.org/2000/svg\" height=\"24px\" viewBox=\"0 -960 960 960\">\n",
              "    <path d=\"M120-120v-720h720v720H120Zm60-500h600v-160H180v160Zm220 220h160v-160H400v160Zm0 220h160v-160H400v160ZM180-400h160v-160H180v160Zm440 0h160v-160H620v160ZM180-180h160v-160H180v160Zm440 0h160v-160H620v160Z\"/>\n",
              "  </svg>\n",
              "    </button>\n",
              "\n",
              "  <style>\n",
              "    .colab-df-container {\n",
              "      display:flex;\n",
              "      gap: 12px;\n",
              "    }\n",
              "\n",
              "    .colab-df-convert {\n",
              "      background-color: #E8F0FE;\n",
              "      border: none;\n",
              "      border-radius: 50%;\n",
              "      cursor: pointer;\n",
              "      display: none;\n",
              "      fill: #1967D2;\n",
              "      height: 32px;\n",
              "      padding: 0 0 0 0;\n",
              "      width: 32px;\n",
              "    }\n",
              "\n",
              "    .colab-df-convert:hover {\n",
              "      background-color: #E2EBFA;\n",
              "      box-shadow: 0px 1px 2px rgba(60, 64, 67, 0.3), 0px 1px 3px 1px rgba(60, 64, 67, 0.15);\n",
              "      fill: #174EA6;\n",
              "    }\n",
              "\n",
              "    .colab-df-buttons div {\n",
              "      margin-bottom: 4px;\n",
              "    }\n",
              "\n",
              "    [theme=dark] .colab-df-convert {\n",
              "      background-color: #3B4455;\n",
              "      fill: #D2E3FC;\n",
              "    }\n",
              "\n",
              "    [theme=dark] .colab-df-convert:hover {\n",
              "      background-color: #434B5C;\n",
              "      box-shadow: 0px 1px 3px 1px rgba(0, 0, 0, 0.15);\n",
              "      filter: drop-shadow(0px 1px 2px rgba(0, 0, 0, 0.3));\n",
              "      fill: #FFFFFF;\n",
              "    }\n",
              "  </style>\n",
              "\n",
              "    <script>\n",
              "      const buttonEl =\n",
              "        document.querySelector('#df-dbdafd50-7c99-4b1e-93e7-6453100eed83 button.colab-df-convert');\n",
              "      buttonEl.style.display =\n",
              "        google.colab.kernel.accessAllowed ? 'block' : 'none';\n",
              "\n",
              "      async function convertToInteractive(key) {\n",
              "        const element = document.querySelector('#df-dbdafd50-7c99-4b1e-93e7-6453100eed83');\n",
              "        const dataTable =\n",
              "          await google.colab.kernel.invokeFunction('convertToInteractive',\n",
              "                                                    [key], {});\n",
              "        if (!dataTable) return;\n",
              "\n",
              "        const docLinkHtml = 'Like what you see? Visit the ' +\n",
              "          '<a target=\"_blank\" href=https://colab.research.google.com/notebooks/data_table.ipynb>data table notebook</a>'\n",
              "          + ' to learn more about interactive tables.';\n",
              "        element.innerHTML = '';\n",
              "        dataTable['output_type'] = 'display_data';\n",
              "        await google.colab.output.renderOutput(dataTable, element);\n",
              "        const docLink = document.createElement('div');\n",
              "        docLink.innerHTML = docLinkHtml;\n",
              "        element.appendChild(docLink);\n",
              "      }\n",
              "    </script>\n",
              "  </div>\n",
              "\n",
              "\n",
              "<div id=\"df-75cf496c-c745-424c-b522-39284faec665\">\n",
              "  <button class=\"colab-df-quickchart\" onclick=\"quickchart('df-75cf496c-c745-424c-b522-39284faec665')\"\n",
              "            title=\"Suggest charts.\"\n",
              "            style=\"display:none;\">\n",
              "\n",
              "<svg xmlns=\"http://www.w3.org/2000/svg\" height=\"24px\"viewBox=\"0 0 24 24\"\n",
              "     width=\"24px\">\n",
              "    <g>\n",
              "        <path d=\"M19 3H5c-1.1 0-2 .9-2 2v14c0 1.1.9 2 2 2h14c1.1 0 2-.9 2-2V5c0-1.1-.9-2-2-2zM9 17H7v-7h2v7zm4 0h-2V7h2v10zm4 0h-2v-4h2v4z\"/>\n",
              "    </g>\n",
              "</svg>\n",
              "  </button>\n",
              "\n",
              "<style>\n",
              "  .colab-df-quickchart {\n",
              "      --bg-color: #E8F0FE;\n",
              "      --fill-color: #1967D2;\n",
              "      --hover-bg-color: #E2EBFA;\n",
              "      --hover-fill-color: #174EA6;\n",
              "      --disabled-fill-color: #AAA;\n",
              "      --disabled-bg-color: #DDD;\n",
              "  }\n",
              "\n",
              "  [theme=dark] .colab-df-quickchart {\n",
              "      --bg-color: #3B4455;\n",
              "      --fill-color: #D2E3FC;\n",
              "      --hover-bg-color: #434B5C;\n",
              "      --hover-fill-color: #FFFFFF;\n",
              "      --disabled-bg-color: #3B4455;\n",
              "      --disabled-fill-color: #666;\n",
              "  }\n",
              "\n",
              "  .colab-df-quickchart {\n",
              "    background-color: var(--bg-color);\n",
              "    border: none;\n",
              "    border-radius: 50%;\n",
              "    cursor: pointer;\n",
              "    display: none;\n",
              "    fill: var(--fill-color);\n",
              "    height: 32px;\n",
              "    padding: 0;\n",
              "    width: 32px;\n",
              "  }\n",
              "\n",
              "  .colab-df-quickchart:hover {\n",
              "    background-color: var(--hover-bg-color);\n",
              "    box-shadow: 0 1px 2px rgba(60, 64, 67, 0.3), 0 1px 3px 1px rgba(60, 64, 67, 0.15);\n",
              "    fill: var(--button-hover-fill-color);\n",
              "  }\n",
              "\n",
              "  .colab-df-quickchart-complete:disabled,\n",
              "  .colab-df-quickchart-complete:disabled:hover {\n",
              "    background-color: var(--disabled-bg-color);\n",
              "    fill: var(--disabled-fill-color);\n",
              "    box-shadow: none;\n",
              "  }\n",
              "\n",
              "  .colab-df-spinner {\n",
              "    border: 2px solid var(--fill-color);\n",
              "    border-color: transparent;\n",
              "    border-bottom-color: var(--fill-color);\n",
              "    animation:\n",
              "      spin 1s steps(1) infinite;\n",
              "  }\n",
              "\n",
              "  @keyframes spin {\n",
              "    0% {\n",
              "      border-color: transparent;\n",
              "      border-bottom-color: var(--fill-color);\n",
              "      border-left-color: var(--fill-color);\n",
              "    }\n",
              "    20% {\n",
              "      border-color: transparent;\n",
              "      border-left-color: var(--fill-color);\n",
              "      border-top-color: var(--fill-color);\n",
              "    }\n",
              "    30% {\n",
              "      border-color: transparent;\n",
              "      border-left-color: var(--fill-color);\n",
              "      border-top-color: var(--fill-color);\n",
              "      border-right-color: var(--fill-color);\n",
              "    }\n",
              "    40% {\n",
              "      border-color: transparent;\n",
              "      border-right-color: var(--fill-color);\n",
              "      border-top-color: var(--fill-color);\n",
              "    }\n",
              "    60% {\n",
              "      border-color: transparent;\n",
              "      border-right-color: var(--fill-color);\n",
              "    }\n",
              "    80% {\n",
              "      border-color: transparent;\n",
              "      border-right-color: var(--fill-color);\n",
              "      border-bottom-color: var(--fill-color);\n",
              "    }\n",
              "    90% {\n",
              "      border-color: transparent;\n",
              "      border-bottom-color: var(--fill-color);\n",
              "    }\n",
              "  }\n",
              "</style>\n",
              "\n",
              "  <script>\n",
              "    async function quickchart(key) {\n",
              "      const quickchartButtonEl =\n",
              "        document.querySelector('#' + key + ' button');\n",
              "      quickchartButtonEl.disabled = true;  // To prevent multiple clicks.\n",
              "      quickchartButtonEl.classList.add('colab-df-spinner');\n",
              "      try {\n",
              "        const charts = await google.colab.kernel.invokeFunction(\n",
              "            'suggestCharts', [key], {});\n",
              "      } catch (error) {\n",
              "        console.error('Error during call to suggestCharts:', error);\n",
              "      }\n",
              "      quickchartButtonEl.classList.remove('colab-df-spinner');\n",
              "      quickchartButtonEl.classList.add('colab-df-quickchart-complete');\n",
              "    }\n",
              "    (() => {\n",
              "      let quickchartButtonEl =\n",
              "        document.querySelector('#df-75cf496c-c745-424c-b522-39284faec665 button');\n",
              "      quickchartButtonEl.style.display =\n",
              "        google.colab.kernel.accessAllowed ? 'block' : 'none';\n",
              "    })();\n",
              "  </script>\n",
              "</div>\n",
              "    </div>\n",
              "  </div>\n"
            ]
          },
          "metadata": {},
          "execution_count": 46
        }
      ]
    },
    {
      "cell_type": "code",
      "source": [
        "# What happens if the number of keys are different in the two dictionaries\n",
        "list_of_dicts = [{'a': 2, 'c':3}, {'a': 10, 'b': 20, 'c': 30}]\n",
        "df = pd.DataFrame(list_of_dicts, index =['first', 'second'])\n",
        "df"
      ],
      "metadata": {
        "id": "COdRwyc-DBoX",
        "outputId": "fec9b7fd-6c74-486b-eed3-58ed120085dd",
        "colab": {
          "base_uri": "https://localhost:8080/",
          "height": 112
        }
      },
      "execution_count": 47,
      "outputs": [
        {
          "output_type": "execute_result",
          "data": {
            "text/plain": [
              "         a   c     b\n",
              "first    2   3   NaN\n",
              "second  10  30  20.0"
            ],
            "text/html": [
              "\n",
              "  <div id=\"df-d060bcdf-e4fa-42cf-a5b1-7dab16005779\" class=\"colab-df-container\">\n",
              "    <div>\n",
              "<style scoped>\n",
              "    .dataframe tbody tr th:only-of-type {\n",
              "        vertical-align: middle;\n",
              "    }\n",
              "\n",
              "    .dataframe tbody tr th {\n",
              "        vertical-align: top;\n",
              "    }\n",
              "\n",
              "    .dataframe thead th {\n",
              "        text-align: right;\n",
              "    }\n",
              "</style>\n",
              "<table border=\"1\" class=\"dataframe\">\n",
              "  <thead>\n",
              "    <tr style=\"text-align: right;\">\n",
              "      <th></th>\n",
              "      <th>a</th>\n",
              "      <th>c</th>\n",
              "      <th>b</th>\n",
              "    </tr>\n",
              "  </thead>\n",
              "  <tbody>\n",
              "    <tr>\n",
              "      <th>first</th>\n",
              "      <td>2</td>\n",
              "      <td>3</td>\n",
              "      <td>NaN</td>\n",
              "    </tr>\n",
              "    <tr>\n",
              "      <th>second</th>\n",
              "      <td>10</td>\n",
              "      <td>30</td>\n",
              "      <td>20.0</td>\n",
              "    </tr>\n",
              "  </tbody>\n",
              "</table>\n",
              "</div>\n",
              "    <div class=\"colab-df-buttons\">\n",
              "\n",
              "  <div class=\"colab-df-container\">\n",
              "    <button class=\"colab-df-convert\" onclick=\"convertToInteractive('df-d060bcdf-e4fa-42cf-a5b1-7dab16005779')\"\n",
              "            title=\"Convert this dataframe to an interactive table.\"\n",
              "            style=\"display:none;\">\n",
              "\n",
              "  <svg xmlns=\"http://www.w3.org/2000/svg\" height=\"24px\" viewBox=\"0 -960 960 960\">\n",
              "    <path d=\"M120-120v-720h720v720H120Zm60-500h600v-160H180v160Zm220 220h160v-160H400v160Zm0 220h160v-160H400v160ZM180-400h160v-160H180v160Zm440 0h160v-160H620v160ZM180-180h160v-160H180v160Zm440 0h160v-160H620v160Z\"/>\n",
              "  </svg>\n",
              "    </button>\n",
              "\n",
              "  <style>\n",
              "    .colab-df-container {\n",
              "      display:flex;\n",
              "      gap: 12px;\n",
              "    }\n",
              "\n",
              "    .colab-df-convert {\n",
              "      background-color: #E8F0FE;\n",
              "      border: none;\n",
              "      border-radius: 50%;\n",
              "      cursor: pointer;\n",
              "      display: none;\n",
              "      fill: #1967D2;\n",
              "      height: 32px;\n",
              "      padding: 0 0 0 0;\n",
              "      width: 32px;\n",
              "    }\n",
              "\n",
              "    .colab-df-convert:hover {\n",
              "      background-color: #E2EBFA;\n",
              "      box-shadow: 0px 1px 2px rgba(60, 64, 67, 0.3), 0px 1px 3px 1px rgba(60, 64, 67, 0.15);\n",
              "      fill: #174EA6;\n",
              "    }\n",
              "\n",
              "    .colab-df-buttons div {\n",
              "      margin-bottom: 4px;\n",
              "    }\n",
              "\n",
              "    [theme=dark] .colab-df-convert {\n",
              "      background-color: #3B4455;\n",
              "      fill: #D2E3FC;\n",
              "    }\n",
              "\n",
              "    [theme=dark] .colab-df-convert:hover {\n",
              "      background-color: #434B5C;\n",
              "      box-shadow: 0px 1px 3px 1px rgba(0, 0, 0, 0.15);\n",
              "      filter: drop-shadow(0px 1px 2px rgba(0, 0, 0, 0.3));\n",
              "      fill: #FFFFFF;\n",
              "    }\n",
              "  </style>\n",
              "\n",
              "    <script>\n",
              "      const buttonEl =\n",
              "        document.querySelector('#df-d060bcdf-e4fa-42cf-a5b1-7dab16005779 button.colab-df-convert');\n",
              "      buttonEl.style.display =\n",
              "        google.colab.kernel.accessAllowed ? 'block' : 'none';\n",
              "\n",
              "      async function convertToInteractive(key) {\n",
              "        const element = document.querySelector('#df-d060bcdf-e4fa-42cf-a5b1-7dab16005779');\n",
              "        const dataTable =\n",
              "          await google.colab.kernel.invokeFunction('convertToInteractive',\n",
              "                                                    [key], {});\n",
              "        if (!dataTable) return;\n",
              "\n",
              "        const docLinkHtml = 'Like what you see? Visit the ' +\n",
              "          '<a target=\"_blank\" href=https://colab.research.google.com/notebooks/data_table.ipynb>data table notebook</a>'\n",
              "          + ' to learn more about interactive tables.';\n",
              "        element.innerHTML = '';\n",
              "        dataTable['output_type'] = 'display_data';\n",
              "        await google.colab.output.renderOutput(dataTable, element);\n",
              "        const docLink = document.createElement('div');\n",
              "        docLink.innerHTML = docLinkHtml;\n",
              "        element.appendChild(docLink);\n",
              "      }\n",
              "    </script>\n",
              "  </div>\n",
              "\n",
              "\n",
              "<div id=\"df-8c520e59-b410-44e9-a587-e19673968168\">\n",
              "  <button class=\"colab-df-quickchart\" onclick=\"quickchart('df-8c520e59-b410-44e9-a587-e19673968168')\"\n",
              "            title=\"Suggest charts.\"\n",
              "            style=\"display:none;\">\n",
              "\n",
              "<svg xmlns=\"http://www.w3.org/2000/svg\" height=\"24px\"viewBox=\"0 0 24 24\"\n",
              "     width=\"24px\">\n",
              "    <g>\n",
              "        <path d=\"M19 3H5c-1.1 0-2 .9-2 2v14c0 1.1.9 2 2 2h14c1.1 0 2-.9 2-2V5c0-1.1-.9-2-2-2zM9 17H7v-7h2v7zm4 0h-2V7h2v10zm4 0h-2v-4h2v4z\"/>\n",
              "    </g>\n",
              "</svg>\n",
              "  </button>\n",
              "\n",
              "<style>\n",
              "  .colab-df-quickchart {\n",
              "      --bg-color: #E8F0FE;\n",
              "      --fill-color: #1967D2;\n",
              "      --hover-bg-color: #E2EBFA;\n",
              "      --hover-fill-color: #174EA6;\n",
              "      --disabled-fill-color: #AAA;\n",
              "      --disabled-bg-color: #DDD;\n",
              "  }\n",
              "\n",
              "  [theme=dark] .colab-df-quickchart {\n",
              "      --bg-color: #3B4455;\n",
              "      --fill-color: #D2E3FC;\n",
              "      --hover-bg-color: #434B5C;\n",
              "      --hover-fill-color: #FFFFFF;\n",
              "      --disabled-bg-color: #3B4455;\n",
              "      --disabled-fill-color: #666;\n",
              "  }\n",
              "\n",
              "  .colab-df-quickchart {\n",
              "    background-color: var(--bg-color);\n",
              "    border: none;\n",
              "    border-radius: 50%;\n",
              "    cursor: pointer;\n",
              "    display: none;\n",
              "    fill: var(--fill-color);\n",
              "    height: 32px;\n",
              "    padding: 0;\n",
              "    width: 32px;\n",
              "  }\n",
              "\n",
              "  .colab-df-quickchart:hover {\n",
              "    background-color: var(--hover-bg-color);\n",
              "    box-shadow: 0 1px 2px rgba(60, 64, 67, 0.3), 0 1px 3px 1px rgba(60, 64, 67, 0.15);\n",
              "    fill: var(--button-hover-fill-color);\n",
              "  }\n",
              "\n",
              "  .colab-df-quickchart-complete:disabled,\n",
              "  .colab-df-quickchart-complete:disabled:hover {\n",
              "    background-color: var(--disabled-bg-color);\n",
              "    fill: var(--disabled-fill-color);\n",
              "    box-shadow: none;\n",
              "  }\n",
              "\n",
              "  .colab-df-spinner {\n",
              "    border: 2px solid var(--fill-color);\n",
              "    border-color: transparent;\n",
              "    border-bottom-color: var(--fill-color);\n",
              "    animation:\n",
              "      spin 1s steps(1) infinite;\n",
              "  }\n",
              "\n",
              "  @keyframes spin {\n",
              "    0% {\n",
              "      border-color: transparent;\n",
              "      border-bottom-color: var(--fill-color);\n",
              "      border-left-color: var(--fill-color);\n",
              "    }\n",
              "    20% {\n",
              "      border-color: transparent;\n",
              "      border-left-color: var(--fill-color);\n",
              "      border-top-color: var(--fill-color);\n",
              "    }\n",
              "    30% {\n",
              "      border-color: transparent;\n",
              "      border-left-color: var(--fill-color);\n",
              "      border-top-color: var(--fill-color);\n",
              "      border-right-color: var(--fill-color);\n",
              "    }\n",
              "    40% {\n",
              "      border-color: transparent;\n",
              "      border-right-color: var(--fill-color);\n",
              "      border-top-color: var(--fill-color);\n",
              "    }\n",
              "    60% {\n",
              "      border-color: transparent;\n",
              "      border-right-color: var(--fill-color);\n",
              "    }\n",
              "    80% {\n",
              "      border-color: transparent;\n",
              "      border-right-color: var(--fill-color);\n",
              "      border-bottom-color: var(--fill-color);\n",
              "    }\n",
              "    90% {\n",
              "      border-color: transparent;\n",
              "      border-bottom-color: var(--fill-color);\n",
              "    }\n",
              "  }\n",
              "</style>\n",
              "\n",
              "  <script>\n",
              "    async function quickchart(key) {\n",
              "      const quickchartButtonEl =\n",
              "        document.querySelector('#' + key + ' button');\n",
              "      quickchartButtonEl.disabled = true;  // To prevent multiple clicks.\n",
              "      quickchartButtonEl.classList.add('colab-df-spinner');\n",
              "      try {\n",
              "        const charts = await google.colab.kernel.invokeFunction(\n",
              "            'suggestCharts', [key], {});\n",
              "      } catch (error) {\n",
              "        console.error('Error during call to suggestCharts:', error);\n",
              "      }\n",
              "      quickchartButtonEl.classList.remove('colab-df-spinner');\n",
              "      quickchartButtonEl.classList.add('colab-df-quickchart-complete');\n",
              "    }\n",
              "    (() => {\n",
              "      let quickchartButtonEl =\n",
              "        document.querySelector('#df-8c520e59-b410-44e9-a587-e19673968168 button');\n",
              "      quickchartButtonEl.style.display =\n",
              "        google.colab.kernel.accessAllowed ? 'block' : 'none';\n",
              "    })();\n",
              "  </script>\n",
              "</div>\n",
              "    </div>\n",
              "  </div>\n"
            ]
          },
          "metadata": {},
          "execution_count": 47
        }
      ]
    },
    {
      "cell_type": "markdown",
      "source": [
        "We can print the indices of our dataframe using the index attribute"
      ],
      "metadata": {
        "id": "OK0eDVNYDMJ0"
      }
    },
    {
      "cell_type": "code",
      "source": [
        "list(df.index)"
      ],
      "metadata": {
        "id": "nR3PWmRzDJHO",
        "outputId": "2e7fa5ed-6525-4aa6-ea6d-34c4d984e02b",
        "colab": {
          "base_uri": "https://localhost:8080/"
        }
      },
      "execution_count": 48,
      "outputs": [
        {
          "output_type": "execute_result",
          "data": {
            "text/plain": [
              "['first', 'second']"
            ]
          },
          "metadata": {},
          "execution_count": 48
        }
      ]
    },
    {
      "cell_type": "markdown",
      "source": [
        "**Important pandas functions**\n",
        "\n",
        "df.head()\n",
        "\n",
        "df.tail()\n",
        "\n",
        "df.rename()\n",
        "\n",
        "df.columns\n",
        "\n",
        "df.info()"
      ],
      "metadata": {
        "id": "6N6xiqgtDWs0"
      }
    },
    {
      "cell_type": "markdown",
      "source": [
        "describe()\n",
        "\n",
        "This method gives the overall descriptive summary of the dataframe. This works only for numerical columns"
      ],
      "metadata": {
        "id": "_sW3C5dTD-LE"
      }
    },
    {
      "cell_type": "markdown",
      "source": [
        "iloc gets rows (or columns) at particular positions in the index (so it only takes integers)."
      ],
      "metadata": {
        "id": "mFpC5VXTECLk"
      }
    },
    {
      "cell_type": "markdown",
      "source": [
        "loc gets rows (or columns) with particular labels from the index."
      ],
      "metadata": {
        "id": "ADppXAVbEFOc"
      }
    },
    {
      "cell_type": "markdown",
      "source": [
        "**Unique and Missing values:**\n",
        "\n",
        "unique()\n",
        "\n",
        "nunique()\n",
        "\n",
        "value_counts()\n",
        "\n",
        "isnull()\n",
        "\n",
        "fillna()"
      ],
      "metadata": {
        "id": "X9j2mgMTENql"
      }
    }
  ]
}